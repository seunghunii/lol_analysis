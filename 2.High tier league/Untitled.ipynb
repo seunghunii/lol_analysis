{
 "cells": [
  {
   "cell_type": "markdown",
   "id": "ae7c6e07",
   "metadata": {},
   "source": [
    "### Package"
   ]
  },
  {
   "cell_type": "code",
   "execution_count": 69,
   "id": "76becfab",
   "metadata": {
    "ExecuteTime": {
     "end_time": "2021-09-22T10:19:32.469778Z",
     "start_time": "2021-09-22T10:19:32.459836Z"
    }
   },
   "outputs": [],
   "source": [
    "import pandas as pd\n",
    "import requests\n",
    "from bs4 import BeautifulSoup\n",
    "import json\n",
    "import time\n",
    "from random import uniform\n",
    "from tqdm import tqdm\n",
    "import os\n",
    "from datetime import datetime"
   ]
  },
  {
   "cell_type": "markdown",
   "id": "37e53341",
   "metadata": {},
   "source": [
    "### Get Data"
   ]
  },
  {
   "cell_type": "code",
   "execution_count": null,
   "id": "b3c26fa9",
   "metadata": {},
   "outputs": [],
   "source": [
    "#api_key = \"your_api_key\""
   ]
  },
  {
   "cell_type": "markdown",
   "id": "a9474cf4",
   "metadata": {},
   "source": [
    "20 requests every 1 second   \n",
    "100 requests every 2 minutes"
   ]
  },
  {
   "cell_type": "markdown",
   "id": "b543c60d",
   "metadata": {},
   "source": [
    "#### users list"
   ]
  },
  {
   "cell_type": "code",
   "execution_count": 21,
   "id": "a4b38942",
   "metadata": {
    "ExecuteTime": {
     "end_time": "2021-09-22T07:22:35.493912Z",
     "start_time": "2021-09-22T07:22:35.478951Z"
    }
   },
   "outputs": [],
   "source": [
    "url_user = \"https://kr.api.riotgames.com/lol/league-exp/v4/entries/RANKED_SOLO_5x5/{}/I?api_key={}\""
   ]
  },
  {
   "cell_type": "code",
   "execution_count": 23,
   "id": "07fa91bb",
   "metadata": {
    "ExecuteTime": {
     "end_time": "2021-09-22T07:22:46.019993Z",
     "start_time": "2021-09-22T07:22:45.989065Z"
    }
   },
   "outputs": [
    {
     "data": {
      "text/html": [
       "<div>\n",
       "<style scoped>\n",
       "    .dataframe tbody tr th:only-of-type {\n",
       "        vertical-align: middle;\n",
       "    }\n",
       "\n",
       "    .dataframe tbody tr th {\n",
       "        vertical-align: top;\n",
       "    }\n",
       "\n",
       "    .dataframe thead th {\n",
       "        text-align: right;\n",
       "    }\n",
       "</style>\n",
       "<table border=\"1\" class=\"dataframe\">\n",
       "  <thead>\n",
       "    <tr style=\"text-align: right;\">\n",
       "      <th></th>\n",
       "      <th>leagueId</th>\n",
       "      <th>queueType</th>\n",
       "      <th>tier</th>\n",
       "      <th>rank</th>\n",
       "      <th>summonerId</th>\n",
       "      <th>summonerName</th>\n",
       "      <th>leaguePoints</th>\n",
       "      <th>wins</th>\n",
       "      <th>losses</th>\n",
       "      <th>veteran</th>\n",
       "      <th>inactive</th>\n",
       "      <th>freshBlood</th>\n",
       "      <th>hotStreak</th>\n",
       "    </tr>\n",
       "  </thead>\n",
       "  <tbody>\n",
       "    <tr>\n",
       "      <th>0</th>\n",
       "      <td>d1ff3466-6c02-33b0-8085-9fa6a8b82dd5</td>\n",
       "      <td>RANKED_SOLO_5x5</td>\n",
       "      <td>CHALLENGER</td>\n",
       "      <td>I</td>\n",
       "      <td>9c4m-A9pR8OcDZObVPWER3bPxfT-nZNUIDTpSzBGeiQ6OQ</td>\n",
       "      <td>쪼렙이다말로하자</td>\n",
       "      <td>1681</td>\n",
       "      <td>891</td>\n",
       "      <td>790</td>\n",
       "      <td>True</td>\n",
       "      <td>False</td>\n",
       "      <td>False</td>\n",
       "      <td>False</td>\n",
       "    </tr>\n",
       "    <tr>\n",
       "      <th>1</th>\n",
       "      <td>d1ff3466-6c02-33b0-8085-9fa6a8b82dd5</td>\n",
       "      <td>RANKED_SOLO_5x5</td>\n",
       "      <td>CHALLENGER</td>\n",
       "      <td>I</td>\n",
       "      <td>bt7b42IEv3eYX9C-mRfyaHsyA7l6h7CoVpe6Isz6xWyRoL...</td>\n",
       "      <td>nodfan</td>\n",
       "      <td>1567</td>\n",
       "      <td>156</td>\n",
       "      <td>72</td>\n",
       "      <td>True</td>\n",
       "      <td>False</td>\n",
       "      <td>False</td>\n",
       "      <td>True</td>\n",
       "    </tr>\n",
       "    <tr>\n",
       "      <th>2</th>\n",
       "      <td>d1ff3466-6c02-33b0-8085-9fa6a8b82dd5</td>\n",
       "      <td>RANKED_SOLO_5x5</td>\n",
       "      <td>CHALLENGER</td>\n",
       "      <td>I</td>\n",
       "      <td>Q4nCFA1p8w1_i8yuOGUSRh2AkYoeobzKfRMMjoUQ9ebuFgM</td>\n",
       "      <td>GGGori</td>\n",
       "      <td>1440</td>\n",
       "      <td>424</td>\n",
       "      <td>334</td>\n",
       "      <td>True</td>\n",
       "      <td>False</td>\n",
       "      <td>False</td>\n",
       "      <td>True</td>\n",
       "    </tr>\n",
       "    <tr>\n",
       "      <th>3</th>\n",
       "      <td>d1ff3466-6c02-33b0-8085-9fa6a8b82dd5</td>\n",
       "      <td>RANKED_SOLO_5x5</td>\n",
       "      <td>CHALLENGER</td>\n",
       "      <td>I</td>\n",
       "      <td>xEpbN46eXMHxsMUP0ltmtLKUIxmyZyOWIKHhpBYXFltNark</td>\n",
       "      <td>DK ShowMaker</td>\n",
       "      <td>1418</td>\n",
       "      <td>344</td>\n",
       "      <td>264</td>\n",
       "      <td>True</td>\n",
       "      <td>False</td>\n",
       "      <td>False</td>\n",
       "      <td>True</td>\n",
       "    </tr>\n",
       "    <tr>\n",
       "      <th>4</th>\n",
       "      <td>d1ff3466-6c02-33b0-8085-9fa6a8b82dd5</td>\n",
       "      <td>RANKED_SOLO_5x5</td>\n",
       "      <td>CHALLENGER</td>\n",
       "      <td>I</td>\n",
       "      <td>l3rb1MFE1niulYiKv3_iVRs-DLtWxYx78AL3kPQUH5In1ME</td>\n",
       "      <td>BRO Hoya</td>\n",
       "      <td>1412</td>\n",
       "      <td>400</td>\n",
       "      <td>322</td>\n",
       "      <td>True</td>\n",
       "      <td>False</td>\n",
       "      <td>False</td>\n",
       "      <td>False</td>\n",
       "    </tr>\n",
       "  </tbody>\n",
       "</table>\n",
       "</div>"
      ],
      "text/plain": [
       "                               leagueId        queueType        tier rank  \\\n",
       "0  d1ff3466-6c02-33b0-8085-9fa6a8b82dd5  RANKED_SOLO_5x5  CHALLENGER    I   \n",
       "1  d1ff3466-6c02-33b0-8085-9fa6a8b82dd5  RANKED_SOLO_5x5  CHALLENGER    I   \n",
       "2  d1ff3466-6c02-33b0-8085-9fa6a8b82dd5  RANKED_SOLO_5x5  CHALLENGER    I   \n",
       "3  d1ff3466-6c02-33b0-8085-9fa6a8b82dd5  RANKED_SOLO_5x5  CHALLENGER    I   \n",
       "4  d1ff3466-6c02-33b0-8085-9fa6a8b82dd5  RANKED_SOLO_5x5  CHALLENGER    I   \n",
       "\n",
       "                                          summonerId  summonerName  \\\n",
       "0     9c4m-A9pR8OcDZObVPWER3bPxfT-nZNUIDTpSzBGeiQ6OQ      쪼렙이다말로하자   \n",
       "1  bt7b42IEv3eYX9C-mRfyaHsyA7l6h7CoVpe6Isz6xWyRoL...        nodfan   \n",
       "2    Q4nCFA1p8w1_i8yuOGUSRh2AkYoeobzKfRMMjoUQ9ebuFgM        GGGori   \n",
       "3    xEpbN46eXMHxsMUP0ltmtLKUIxmyZyOWIKHhpBYXFltNark  DK ShowMaker   \n",
       "4    l3rb1MFE1niulYiKv3_iVRs-DLtWxYx78AL3kPQUH5In1ME      BRO Hoya   \n",
       "\n",
       "   leaguePoints  wins  losses  veteran  inactive  freshBlood  hotStreak  \n",
       "0          1681   891     790     True     False       False      False  \n",
       "1          1567   156      72     True     False       False       True  \n",
       "2          1440   424     334     True     False       False       True  \n",
       "3          1418   344     264     True     False       False       True  \n",
       "4          1412   400     322     True     False       False      False  "
      ]
     },
     "execution_count": 23,
     "metadata": {},
     "output_type": "execute_result"
    }
   ],
   "source": [
    "df_user = pd.concat(df_list)\n",
    "df_user.head(5)"
   ]
  },
  {
   "cell_type": "code",
   "execution_count": 55,
   "id": "95ca4bf9",
   "metadata": {
    "ExecuteTime": {
     "end_time": "2021-09-22T10:10:49.918200Z",
     "start_time": "2021-09-22T10:10:49.883436Z"
    }
   },
   "outputs": [],
   "source": [
    "df_user.to_csv('C:/Users/rsh15/Desktop/seunghuni/lol_analysis/data/lol_api/0922_user.csv',\n",
    "               index=False,encoding='utf-8-sig')"
   ]
  },
  {
   "cell_type": "markdown",
   "id": "31a2a719",
   "metadata": {},
   "source": [
    "#### user pid"
   ]
  },
  {
   "cell_type": "code",
   "execution_count": 36,
   "id": "1343b9e8",
   "metadata": {
    "ExecuteTime": {
     "end_time": "2021-09-22T07:50:19.992709Z",
     "start_time": "2021-09-22T07:50:19.974762Z"
    }
   },
   "outputs": [],
   "source": [
    "url_pid = 'https://kr.api.riotgames.com/lol/summoner/v4/summoners/by-name/{}?api_key={}'"
   ]
  },
  {
   "cell_type": "code",
   "execution_count": 51,
   "id": "7fb8f485",
   "metadata": {
    "ExecuteTime": {
     "end_time": "2021-09-22T09:24:31.723707Z",
     "start_time": "2021-09-22T09:24:22.861717Z"
    }
   },
   "outputs": [
    {
     "name": "stderr",
     "output_type": "stream",
     "text": [
      "100%|██████████████████████████████████████████████████████████████████████████████████| 10/10 [00:08<00:00,  1.13it/s]\n"
     ]
    }
   ],
   "source": [
    "df_list = []\n",
    "\n",
    "start_time = datetime.now()\n",
    "i = 0\n",
    "for summon in tqdm(df_user[0:10]['summonerName']):\n",
    "    i += 1\n",
    "    \n",
    "    if i == 19:\n",
    "        t = datetime.now() - start_time\n",
    "        if t.second > 100:\n",
    "            i = 0\n",
    "            time.sleep(60)\n",
    "    url_now = url_pid.format(summon,api_key)\n",
    "    url_req = requests.get(url_now)\n",
    "    df_list.append(pd.DataFrame(json.loads(url_req.text),index=[0]))"
   ]
  },
  {
   "cell_type": "code",
   "execution_count": 72,
   "id": "97dd2a8f",
   "metadata": {
    "ExecuteTime": {
     "end_time": "2021-09-22T10:29:31.499284Z",
     "start_time": "2021-09-22T10:29:30.931145Z"
    }
   },
   "outputs": [
    {
     "data": {
      "text/html": [
       "<div>\n",
       "<style scoped>\n",
       "    .dataframe tbody tr th:only-of-type {\n",
       "        vertical-align: middle;\n",
       "    }\n",
       "\n",
       "    .dataframe tbody tr th {\n",
       "        vertical-align: top;\n",
       "    }\n",
       "\n",
       "    .dataframe thead th {\n",
       "        text-align: right;\n",
       "    }\n",
       "</style>\n",
       "<table border=\"1\" class=\"dataframe\">\n",
       "  <thead>\n",
       "    <tr style=\"text-align: right;\">\n",
       "      <th></th>\n",
       "      <th>id</th>\n",
       "      <th>accountId</th>\n",
       "      <th>puuid</th>\n",
       "      <th>name</th>\n",
       "      <th>profileIconId</th>\n",
       "      <th>revisionDate</th>\n",
       "      <th>summonerLevel</th>\n",
       "    </tr>\n",
       "  </thead>\n",
       "  <tbody>\n",
       "    <tr>\n",
       "      <th>0</th>\n",
       "      <td>o5TzCDpj1bP09NabPPMbVFXvv4TR3xErRMrEaHueC-KeJD...</td>\n",
       "      <td>AZJk6nHP4kFN5Kq3czEwrq_-YMvq-z3CZqHn8GXbMx9PHY...</td>\n",
       "      <td>f0URm1JbqswQIIdzahUnRnCmZezRUvjLfOu7g1bUymT3oS...</td>\n",
       "      <td>우제우스</td>\n",
       "      <td>28</td>\n",
       "      <td>1631959928000</td>\n",
       "      <td>121</td>\n",
       "    </tr>\n",
       "  </tbody>\n",
       "</table>\n",
       "</div>"
      ],
      "text/plain": [
       "                                                  id  \\\n",
       "0  o5TzCDpj1bP09NabPPMbVFXvv4TR3xErRMrEaHueC-KeJD...   \n",
       "\n",
       "                                           accountId  \\\n",
       "0  AZJk6nHP4kFN5Kq3czEwrq_-YMvq-z3CZqHn8GXbMx9PHY...   \n",
       "\n",
       "                                               puuid  name  profileIconId  \\\n",
       "0  f0URm1JbqswQIIdzahUnRnCmZezRUvjLfOu7g1bUymT3oS...  우제우스             28   \n",
       "\n",
       "    revisionDate  summonerLevel  \n",
       "0  1631959928000            121  "
      ]
     },
     "execution_count": 72,
     "metadata": {},
     "output_type": "execute_result"
    }
   ],
   "source": [
    "url_now = url_pid.format(summon,api_key)\n",
    "url_req = requests.get(url_now)\n",
    "pd.DataFrame(json.loads(url_req.text),index=[0])"
   ]
  },
  {
   "cell_type": "code",
   "execution_count": 73,
   "id": "797ed93a",
   "metadata": {
    "ExecuteTime": {
     "end_time": "2021-09-22T10:33:36.818439Z",
     "start_time": "2021-09-22T10:33:36.777552Z"
    }
   },
   "outputs": [
    {
     "data": {
      "text/plain": [
       "[                                               id  \\\n",
       " 0  9c4m-A9pR8OcDZObVPWER3bPxfT-nZNUIDTpSzBGeiQ6OQ   \n",
       " \n",
       "                                       accountId  \\\n",
       " 0  A36uiPejeTR2gC_gSukPwWzlLZ2sUmvniqGN2bpFpB9b   \n",
       " \n",
       "                                                puuid      name  profileIconId  \\\n",
       " 0  alv2DWzNFI1ENQTHSqJ6qq0lNKYQfiJwxaJ3uxna8S35g0...  쪼렙이다말로하자            588   \n",
       " \n",
       "     revisionDate  summonerLevel  \n",
       " 0  1631867090000            511  ,\n",
       "                                                   id  \\\n",
       " 0  bt7b42IEv3eYX9C-mRfyaHsyA7l6h7CoVpe6Isz6xWyRoL...   \n",
       " \n",
       "                                            accountId  \\\n",
       " 0  xJHNMPKMgUS0PDOCTeqWJbXREJZDyz14JpIX5syqHiwlty...   \n",
       " \n",
       "                                                puuid    name  profileIconId  \\\n",
       " 0  cWKf1HOOkch3rBvg7t9ecsHYVjqM5r7Ri-0mmMsGbI6_wa...  nodfan           4987   \n",
       " \n",
       "     revisionDate  summonerLevel  \n",
       " 0  1631252945000             59  ,\n",
       "                                                 id  \\\n",
       " 0  Q4nCFA1p8w1_i8yuOGUSRh2AkYoeobzKfRMMjoUQ9ebuFgM   \n",
       " \n",
       "                                          accountId  \\\n",
       " 0  GKpEYERNW1p4In3h28wOVHa_l9-XdVyM__WLFkjaIcuSdlo   \n",
       " \n",
       "                                                puuid    name  profileIconId  \\\n",
       " 0  M0HG4F_LfcOz-9oC_KOMrf45cBz6LJo0ijwGyDdYDPBIOM...  GGGori           5053   \n",
       " \n",
       "     revisionDate  summonerLevel  \n",
       " 0  1632088569000            311  ,\n",
       "                                                 id  \\\n",
       " 0  xEpbN46eXMHxsMUP0ltmtLKUIxmyZyOWIKHhpBYXFltNark   \n",
       " \n",
       "                                          accountId  \\\n",
       " 0  Z_3tfIND5IkIRagqusb9BrbMUgKyTQ7IdA8JCQkYlMzBWg4   \n",
       " \n",
       "                                                puuid          name  \\\n",
       " 0  wRk5kN1VzqyONhr4P91szQpXUYH6ng9PKq7DOq4oAZ42pv...  DK ShowMaker   \n",
       " \n",
       "    profileIconId   revisionDate  summonerLevel  \n",
       " 0           4933  1631872242000            350  ,\n",
       "                                                 id  \\\n",
       " 0  l3rb1MFE1niulYiKv3_iVRs-DLtWxYx78AL3kPQUH5In1ME   \n",
       " \n",
       "                                          accountId  \\\n",
       " 0  a88z5hluQZyUYSOAAmRMsiVUVdesMSTDlnpQybrhx7kHLeo   \n",
       " \n",
       "                                                puuid      name  profileIconId  \\\n",
       " 0  gxgvEsQApWB3HIiahee3WGYgY25ukt7gugfhy3zgmTOhrm...  BRO Hoya           4295   \n",
       " \n",
       "     revisionDate  summonerLevel  \n",
       " 0  1631845062000            197  ,\n",
       "                                                 id  \\\n",
       " 0  fgUaZbB2chhPaoHBlrdQssfnj_SR6_IhqHBO85NxUoa2B6k   \n",
       " \n",
       "                                          accountId  \\\n",
       " 0  Mr3lTXE8PvPWQn4AX6QuR6KAEToOo2jRgw7h4uQr1cG-5SA   \n",
       " \n",
       "                                                puuid       name  \\\n",
       " 0  TUq2QxNG13r-7Fd9kj3KK5CoPmwacMtdDG-TH6N4DHMDBx...  xkamsdjzx   \n",
       " \n",
       "    profileIconId   revisionDate  summonerLevel  \n",
       " 0           4216  1631678824000            487  ,\n",
       "                                                 id  \\\n",
       " 0  mqPJYwVKdF3GL717i2RHiUumpwD0iikFlLtZQeFaIlZKtaI   \n",
       " \n",
       "                                            accountId  \\\n",
       " 0  lbCOXcsnhswubrWeOav70s5aaUADTV3lnQS691AqnZQ6Em...   \n",
       " \n",
       "                                                puuid      name  profileIconId  \\\n",
       " 0  x8sz0pV0x02wbUpFf7TOfo1Cy05xlSmkAlT8IFSJO6SJa8...  AF Keine           4568   \n",
       " \n",
       "     revisionDate  summonerLevel  \n",
       " 0  1631889275000            277  ,\n",
       "                                                 id  \\\n",
       " 0  ITlvXfU_4Ibm0sp0eN1B5nGXh10ZS6kKGi3yz07NYe-kLhc   \n",
       " \n",
       "                                            accountId  \\\n",
       " 0  muaN8lQMjFiRZ3J7znNUs5UJjwCCjLcDw-Vz12rOTOttSN...   \n",
       " \n",
       "                                                puuid     name  profileIconId  \\\n",
       " 0  IuV_JfldcIYkO4V3Y-ogtjbPkAxBO6BVmLNlqY0MgtOi6_...  해오름달 사흘           4025   \n",
       " \n",
       "     revisionDate  summonerLevel  \n",
       " 0  1632218438925            243  ,\n",
       "                                                 id  \\\n",
       " 0  aebRGaFVPPe6_zFvGPlAMQBS9y3f5jUXbRSO0YGkPeL7uMg   \n",
       " \n",
       "                                          accountId  \\\n",
       " 0  FAjpN_b2XSatjMCeVDuQizwPWHNOhYDYqOHJoJ3ON11E18Y   \n",
       " \n",
       "                                                puuid     name  profileIconId  \\\n",
       " 0  MobP1hl_U-nrJbV2oivLllhyFi692_k8X3_Rg43rLVYdeQ...  참새크면비둘기           3849   \n",
       " \n",
       "     revisionDate  summonerLevel  \n",
       " 0  1632053807000            481  ,\n",
       "                                                   id  \\\n",
       " 0  o5TzCDpj1bP09NabPPMbVFXvv4TR3xErRMrEaHueC-KeJD...   \n",
       " \n",
       "                                            accountId  \\\n",
       " 0  AZJk6nHP4kFN5Kq3czEwrq_-YMvq-z3CZqHn8GXbMx9PHY...   \n",
       " \n",
       "                                                puuid  name  profileIconId  \\\n",
       " 0  f0URm1JbqswQIIdzahUnRnCmZezRUvjLfOu7g1bUymT3oS...  우제우스             28   \n",
       " \n",
       "     revisionDate  summonerLevel  \n",
       " 0  1631959928000            121  ,\n",
       "                                                   id  \\\n",
       " 0  o5TzCDpj1bP09NabPPMbVFXvv4TR3xErRMrEaHueC-KeJD...   \n",
       " \n",
       "                                            accountId  \\\n",
       " 0  AZJk6nHP4kFN5Kq3czEwrq_-YMvq-z3CZqHn8GXbMx9PHY...   \n",
       " \n",
       "                                                puuid  name  profileIconId  \\\n",
       " 0  f0URm1JbqswQIIdzahUnRnCmZezRUvjLfOu7g1bUymT3oS...  우제우스             28   \n",
       " \n",
       "     revisionDate  summonerLevel  \n",
       " 0  1631959928000            121  ]"
      ]
     },
     "execution_count": 73,
     "metadata": {},
     "output_type": "execute_result"
    }
   ],
   "source": [
    "df_list"
   ]
  },
  {
   "cell_type": "code",
   "execution_count": null,
   "id": "7f8c93b6",
   "metadata": {},
   "outputs": [],
   "source": []
  }
 ],
 "metadata": {
  "kernelspec": {
   "display_name": "simons",
   "language": "python",
   "name": "simons"
  },
  "language_info": {
   "codemirror_mode": {
    "name": "ipython",
    "version": 3
   },
   "file_extension": ".py",
   "mimetype": "text/x-python",
   "name": "python",
   "nbconvert_exporter": "python",
   "pygments_lexer": "ipython3",
   "version": "3.8.11"
  },
  "toc": {
   "base_numbering": 1,
   "nav_menu": {},
   "number_sections": true,
   "sideBar": true,
   "skip_h1_title": true,
   "title_cell": "Table of Contents",
   "title_sidebar": "Contents",
   "toc_cell": false,
   "toc_position": {},
   "toc_section_display": true,
   "toc_window_display": false
  },
  "varInspector": {
   "cols": {
    "lenName": 16,
    "lenType": 16,
    "lenVar": 40
   },
   "kernels_config": {
    "python": {
     "delete_cmd_postfix": "",
     "delete_cmd_prefix": "del ",
     "library": "var_list.py",
     "varRefreshCmd": "print(var_dic_list())"
    },
    "r": {
     "delete_cmd_postfix": ") ",
     "delete_cmd_prefix": "rm(",
     "library": "var_list.r",
     "varRefreshCmd": "cat(var_dic_list()) "
    }
   },
   "types_to_exclude": [
    "module",
    "function",
    "builtin_function_or_method",
    "instance",
    "_Feature"
   ],
   "window_display": false
  }
 },
 "nbformat": 4,
 "nbformat_minor": 5
}
