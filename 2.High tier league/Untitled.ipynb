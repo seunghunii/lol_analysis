{
 "cells": [
  {
   "cell_type": "code",
   "execution_count": null,
   "id": "13b14da4",
   "metadata": {
    "ExecuteTime": {
     "end_time": "2021-10-10T08:20:16.058930Z",
     "start_time": "2021-10-10T08:20:13.777499Z"
    },
    "pycharm": {
     "is_executing": true
    }
   },
   "outputs": [],
   "source": [
    "import pandas as pd\n",
    "import time\n",
    "import datetime\n",
    "import requests\n",
    "from bs4 import BeautifulSoup\n",
    "from selenium import webdriver\n",
    "from tqdm import tqdm\n",
    "from datetime import timedelta"
   ]
  },
  {
   "cell_type": "code",
   "execution_count": 4,
   "id": "a5f3ff05",
   "metadata": {
    "ExecuteTime": {
     "end_time": "2021-10-10T07:42:30.964970Z",
     "start_time": "2021-10-10T07:42:30.954814Z"
    }
   },
   "outputs": [],
   "source": [
    "my_api_key = ''"
   ]
  },
  {
   "cell_type": "code",
   "execution_count": 5,
   "id": "1f192006",
   "metadata": {
    "ExecuteTime": {
     "end_time": "2021-10-10T07:42:31.054947Z",
     "start_time": "2021-10-10T07:42:30.997032Z"
    }
   },
   "outputs": [],
   "source": [
    "df = pd.read_csv('C:/Users/rsh15/Desktop/seunghuni/lol_analysis/data/lol_api/high_tier_user_1009.csv')"
   ]
  },
  {
   "cell_type": "code",
   "execution_count": 5,
   "id": "1167b858",
   "metadata": {
    "ExecuteTime": {
     "end_time": "2021-10-09T20:12:19.769857Z",
     "start_time": "2021-10-09T20:12:19.726962Z"
    }
   },
   "outputs": [
    {
     "data": {
      "text/html": [
       "<div>\n",
       "<style scoped>\n",
       "    .dataframe tbody tr th:only-of-type {\n",
       "        vertical-align: middle;\n",
       "    }\n",
       "\n",
       "    .dataframe tbody tr th {\n",
       "        vertical-align: top;\n",
       "    }\n",
       "\n",
       "    .dataframe thead th {\n",
       "        text-align: right;\n",
       "    }\n",
       "</style>\n",
       "<table border=\"1\" class=\"dataframe\">\n",
       "  <thead>\n",
       "    <tr style=\"text-align: right;\">\n",
       "      <th></th>\n",
       "      <th>leagueId</th>\n",
       "      <th>queueType</th>\n",
       "      <th>tier</th>\n",
       "      <th>rank</th>\n",
       "      <th>summonerId</th>\n",
       "      <th>summonerName</th>\n",
       "      <th>leaguePoints</th>\n",
       "      <th>wins</th>\n",
       "      <th>losses</th>\n",
       "      <th>veteran</th>\n",
       "      <th>...</th>\n",
       "      <th>matches</th>\n",
       "      <th>win_rt</th>\n",
       "      <th>id</th>\n",
       "      <th>accountId</th>\n",
       "      <th>puuid</th>\n",
       "      <th>name</th>\n",
       "      <th>profileIconId</th>\n",
       "      <th>revisionDate</th>\n",
       "      <th>summonerLevel</th>\n",
       "      <th>status</th>\n",
       "    </tr>\n",
       "  </thead>\n",
       "  <tbody>\n",
       "    <tr>\n",
       "      <th>0</th>\n",
       "      <td>d1ff3466-6c02-33b0-8085-9fa6a8b82dd5</td>\n",
       "      <td>RANKED_SOLO_5x5</td>\n",
       "      <td>CHALLENGER</td>\n",
       "      <td>I</td>\n",
       "      <td>9c4m-A9pR8OcDZObVPWER3bPxfT-nZNUIDTpSzBGeiQ6OQ</td>\n",
       "      <td>쪼렙이다말로하자</td>\n",
       "      <td>1644</td>\n",
       "      <td>900</td>\n",
       "      <td>798</td>\n",
       "      <td>True</td>\n",
       "      <td>...</td>\n",
       "      <td>1698</td>\n",
       "      <td>0.530035</td>\n",
       "      <td>9c4m-A9pR8OcDZObVPWER3bPxfT-nZNUIDTpSzBGeiQ6OQ</td>\n",
       "      <td>A36uiPejeTR2gC_gSukPwWzlLZ2sUmvniqGN2bpFpB9b</td>\n",
       "      <td>alv2DWzNFI1ENQTHSqJ6qq0lNKYQfiJwxaJ3uxna8S35g0...</td>\n",
       "      <td>쪼렙이다말로하자</td>\n",
       "      <td>588.0</td>\n",
       "      <td>1.633427e+12</td>\n",
       "      <td>513.0</td>\n",
       "      <td>NaN</td>\n",
       "    </tr>\n",
       "    <tr>\n",
       "      <th>1</th>\n",
       "      <td>d1ff3466-6c02-33b0-8085-9fa6a8b82dd5</td>\n",
       "      <td>RANKED_SOLO_5x5</td>\n",
       "      <td>CHALLENGER</td>\n",
       "      <td>I</td>\n",
       "      <td>l3rb1MFE1niulYiKv3_iVRs-DLtWxYx78AL3kPQUH5In1ME</td>\n",
       "      <td>BRO Hoya</td>\n",
       "      <td>1432</td>\n",
       "      <td>411</td>\n",
       "      <td>329</td>\n",
       "      <td>True</td>\n",
       "      <td>...</td>\n",
       "      <td>740</td>\n",
       "      <td>0.555405</td>\n",
       "      <td>l3rb1MFE1niulYiKv3_iVRs-DLtWxYx78AL3kPQUH5In1ME</td>\n",
       "      <td>a88z5hluQZyUYSOAAmRMsiVUVdesMSTDlnpQybrhx7kHLeo</td>\n",
       "      <td>gxgvEsQApWB3HIiahee3WGYgY25ukt7gugfhy3zgmTOhrm...</td>\n",
       "      <td>BRO Hoya</td>\n",
       "      <td>4295.0</td>\n",
       "      <td>1.633491e+12</td>\n",
       "      <td>199.0</td>\n",
       "      <td>NaN</td>\n",
       "    </tr>\n",
       "    <tr>\n",
       "      <th>2</th>\n",
       "      <td>d1ff3466-6c02-33b0-8085-9fa6a8b82dd5</td>\n",
       "      <td>RANKED_SOLO_5x5</td>\n",
       "      <td>CHALLENGER</td>\n",
       "      <td>I</td>\n",
       "      <td>APY4jcjbzJDEKXSXpTdzijO8PB1iM9IKifid_GCmsXS49z...</td>\n",
       "      <td>못 찾을 외딴곳에</td>\n",
       "      <td>1401</td>\n",
       "      <td>754</td>\n",
       "      <td>656</td>\n",
       "      <td>True</td>\n",
       "      <td>...</td>\n",
       "      <td>1410</td>\n",
       "      <td>0.534752</td>\n",
       "      <td>APY4jcjbzJDEKXSXpTdzijO8PB1iM9IKifid_GCmsXS49z...</td>\n",
       "      <td>qQ4KSnKGOUAOx2REZJ4eMiqm09xsM3ASBFIZp4603w8A3i...</td>\n",
       "      <td>nKJmyy1JJmcFWIJFOMOxG4WcT8roU09OlPChgDjDV7yf0X...</td>\n",
       "      <td>못 찾을 외딴곳에</td>\n",
       "      <td>25.0</td>\n",
       "      <td>1.633420e+12</td>\n",
       "      <td>138.0</td>\n",
       "      <td>NaN</td>\n",
       "    </tr>\n",
       "    <tr>\n",
       "      <th>3</th>\n",
       "      <td>d1ff3466-6c02-33b0-8085-9fa6a8b82dd5</td>\n",
       "      <td>RANKED_SOLO_5x5</td>\n",
       "      <td>CHALLENGER</td>\n",
       "      <td>I</td>\n",
       "      <td>lgywzY3QbLlUyjguGLNOj8ixjmEFfAL2Z_lZmEz9l-3MZnE</td>\n",
       "      <td>DRX Kingen00</td>\n",
       "      <td>1393</td>\n",
       "      <td>691</td>\n",
       "      <td>596</td>\n",
       "      <td>True</td>\n",
       "      <td>...</td>\n",
       "      <td>1287</td>\n",
       "      <td>0.536908</td>\n",
       "      <td>lgywzY3QbLlUyjguGLNOj8ixjmEFfAL2Z_lZmEz9l-3MZnE</td>\n",
       "      <td>TWdo0TEm-7RoUVq8-GXYJseSLoV_GO8qFfCLpm9CT7XuTJQ</td>\n",
       "      <td>3E9rnBq_iUB11j77MJSSR26fRfTrI5xKVZN146ND0mftq9...</td>\n",
       "      <td>DRX Kingen00</td>\n",
       "      <td>4556.0</td>\n",
       "      <td>1.633588e+12</td>\n",
       "      <td>600.0</td>\n",
       "      <td>NaN</td>\n",
       "    </tr>\n",
       "    <tr>\n",
       "      <th>4</th>\n",
       "      <td>d1ff3466-6c02-33b0-8085-9fa6a8b82dd5</td>\n",
       "      <td>RANKED_SOLO_5x5</td>\n",
       "      <td>CHALLENGER</td>\n",
       "      <td>I</td>\n",
       "      <td>DvrWMf5MTWs83jo5q_6yFGDmw0jHkefxcFSmvNmNY1z-6DI</td>\n",
       "      <td>Let me sup</td>\n",
       "      <td>1342</td>\n",
       "      <td>954</td>\n",
       "      <td>865</td>\n",
       "      <td>True</td>\n",
       "      <td>...</td>\n",
       "      <td>1819</td>\n",
       "      <td>0.524464</td>\n",
       "      <td>DvrWMf5MTWs83jo5q_6yFGDmw0jHkefxcFSmvNmNY1z-6DI</td>\n",
       "      <td>JiD85qr3eQlGi62yssFEJI3WyUh_BDYqJ0wAKezMnLF474g</td>\n",
       "      <td>ioMVdITHQ9lBGKhqqnRQl_YparfQIedp4lyBvDtMy0XqN-...</td>\n",
       "      <td>Let me sup</td>\n",
       "      <td>5063.0</td>\n",
       "      <td>1.633290e+12</td>\n",
       "      <td>246.0</td>\n",
       "      <td>NaN</td>\n",
       "    </tr>\n",
       "  </tbody>\n",
       "</table>\n",
       "<p>5 rows × 23 columns</p>\n",
       "</div>"
      ],
      "text/plain": [
       "                               leagueId        queueType        tier rank  \\\n",
       "0  d1ff3466-6c02-33b0-8085-9fa6a8b82dd5  RANKED_SOLO_5x5  CHALLENGER    I   \n",
       "1  d1ff3466-6c02-33b0-8085-9fa6a8b82dd5  RANKED_SOLO_5x5  CHALLENGER    I   \n",
       "2  d1ff3466-6c02-33b0-8085-9fa6a8b82dd5  RANKED_SOLO_5x5  CHALLENGER    I   \n",
       "3  d1ff3466-6c02-33b0-8085-9fa6a8b82dd5  RANKED_SOLO_5x5  CHALLENGER    I   \n",
       "4  d1ff3466-6c02-33b0-8085-9fa6a8b82dd5  RANKED_SOLO_5x5  CHALLENGER    I   \n",
       "\n",
       "                                          summonerId  summonerName  \\\n",
       "0     9c4m-A9pR8OcDZObVPWER3bPxfT-nZNUIDTpSzBGeiQ6OQ      쪼렙이다말로하자   \n",
       "1    l3rb1MFE1niulYiKv3_iVRs-DLtWxYx78AL3kPQUH5In1ME      BRO Hoya   \n",
       "2  APY4jcjbzJDEKXSXpTdzijO8PB1iM9IKifid_GCmsXS49z...     못 찾을 외딴곳에   \n",
       "3    lgywzY3QbLlUyjguGLNOj8ixjmEFfAL2Z_lZmEz9l-3MZnE  DRX Kingen00   \n",
       "4    DvrWMf5MTWs83jo5q_6yFGDmw0jHkefxcFSmvNmNY1z-6DI    Let me sup   \n",
       "\n",
       "   leaguePoints  wins  losses  veteran  ...  matches    win_rt  \\\n",
       "0          1644   900     798     True  ...     1698  0.530035   \n",
       "1          1432   411     329     True  ...      740  0.555405   \n",
       "2          1401   754     656     True  ...     1410  0.534752   \n",
       "3          1393   691     596     True  ...     1287  0.536908   \n",
       "4          1342   954     865     True  ...     1819  0.524464   \n",
       "\n",
       "                                                  id  \\\n",
       "0     9c4m-A9pR8OcDZObVPWER3bPxfT-nZNUIDTpSzBGeiQ6OQ   \n",
       "1    l3rb1MFE1niulYiKv3_iVRs-DLtWxYx78AL3kPQUH5In1ME   \n",
       "2  APY4jcjbzJDEKXSXpTdzijO8PB1iM9IKifid_GCmsXS49z...   \n",
       "3    lgywzY3QbLlUyjguGLNOj8ixjmEFfAL2Z_lZmEz9l-3MZnE   \n",
       "4    DvrWMf5MTWs83jo5q_6yFGDmw0jHkefxcFSmvNmNY1z-6DI   \n",
       "\n",
       "                                           accountId  \\\n",
       "0       A36uiPejeTR2gC_gSukPwWzlLZ2sUmvniqGN2bpFpB9b   \n",
       "1    a88z5hluQZyUYSOAAmRMsiVUVdesMSTDlnpQybrhx7kHLeo   \n",
       "2  qQ4KSnKGOUAOx2REZJ4eMiqm09xsM3ASBFIZp4603w8A3i...   \n",
       "3    TWdo0TEm-7RoUVq8-GXYJseSLoV_GO8qFfCLpm9CT7XuTJQ   \n",
       "4    JiD85qr3eQlGi62yssFEJI3WyUh_BDYqJ0wAKezMnLF474g   \n",
       "\n",
       "                                               puuid          name  \\\n",
       "0  alv2DWzNFI1ENQTHSqJ6qq0lNKYQfiJwxaJ3uxna8S35g0...      쪼렙이다말로하자   \n",
       "1  gxgvEsQApWB3HIiahee3WGYgY25ukt7gugfhy3zgmTOhrm...      BRO Hoya   \n",
       "2  nKJmyy1JJmcFWIJFOMOxG4WcT8roU09OlPChgDjDV7yf0X...     못 찾을 외딴곳에   \n",
       "3  3E9rnBq_iUB11j77MJSSR26fRfTrI5xKVZN146ND0mftq9...  DRX Kingen00   \n",
       "4  ioMVdITHQ9lBGKhqqnRQl_YparfQIedp4lyBvDtMy0XqN-...    Let me sup   \n",
       "\n",
       "  profileIconId  revisionDate summonerLevel  status  \n",
       "0         588.0  1.633427e+12         513.0     NaN  \n",
       "1        4295.0  1.633491e+12         199.0     NaN  \n",
       "2          25.0  1.633420e+12         138.0     NaN  \n",
       "3        4556.0  1.633588e+12         600.0     NaN  \n",
       "4        5063.0  1.633290e+12         246.0     NaN  \n",
       "\n",
       "[5 rows x 23 columns]"
      ]
     },
     "execution_count": 5,
     "metadata": {},
     "output_type": "execute_result"
    }
   ],
   "source": [
    "df.head(5)"
   ]
  },
  {
   "cell_type": "code",
   "execution_count": 7,
   "id": "eae90769",
   "metadata": {
    "ExecuteTime": {
     "end_time": "2021-10-09T20:12:27.521955Z",
     "start_time": "2021-10-09T20:12:27.501862Z"
    }
   },
   "outputs": [],
   "source": [
    "df = df[df['tier'].isin(['CHALLENGER'])]"
   ]
  },
  {
   "cell_type": "code",
   "execution_count": 8,
   "id": "253c1abd",
   "metadata": {
    "ExecuteTime": {
     "end_time": "2021-10-09T20:12:29.020851Z",
     "start_time": "2021-10-09T20:12:29.011887Z"
    }
   },
   "outputs": [],
   "source": [
    "df = df.dropna(subset=['id'],axis=0)\n",
    "df = df.reset_index(drop=True)"
   ]
  },
  {
   "cell_type": "code",
   "execution_count": 9,
   "id": "5b2876dc",
   "metadata": {
    "ExecuteTime": {
     "end_time": "2021-10-09T20:12:30.273815Z",
     "start_time": "2021-10-09T20:12:30.252869Z"
    }
   },
   "outputs": [
    {
     "data": {
      "text/plain": [
       "leagueId           0\n",
       "queueType          0\n",
       "tier               0\n",
       "rank               0\n",
       "summonerId         0\n",
       "summonerName       0\n",
       "leaguePoints       0\n",
       "wins               0\n",
       "losses             0\n",
       "veteran            0\n",
       "inactive           0\n",
       "freshBlood         0\n",
       "hotStreak          0\n",
       "matches            0\n",
       "win_rt             0\n",
       "id                 0\n",
       "accountId          0\n",
       "puuid              0\n",
       "name               0\n",
       "profileIconId      0\n",
       "revisionDate       0\n",
       "summonerLevel      0\n",
       "status           297\n",
       "dtype: int64"
      ]
     },
     "execution_count": 9,
     "metadata": {},
     "output_type": "execute_result"
    }
   ],
   "source": [
    "df.isna().sum()"
   ]
  },
  {
   "cell_type": "markdown",
   "id": "ca8f07b8",
   "metadata": {},
   "source": [
    "### prepare"
   ]
  },
  {
   "cell_type": "markdown",
   "id": "45549105",
   "metadata": {},
   "source": [
    "#### making timestamp"
   ]
  },
  {
   "cell_type": "code",
   "execution_count": 10,
   "id": "7c7d5bad",
   "metadata": {
    "ExecuteTime": {
     "end_time": "2021-10-09T20:12:42.286131Z",
     "start_time": "2021-10-09T20:12:42.267181Z"
    }
   },
   "outputs": [],
   "source": [
    "start_d = pd.date_range(start='2021/06/16', end='2021/10/10',freq='7D')\n",
    "enddd_d = start_d[1:] - timedelta(days=1)\n",
    "enddd_d = enddd_d.append(pd.DatetimeIndex(['2021-10-10']))"
   ]
  },
  {
   "cell_type": "code",
   "execution_count": 11,
   "id": "ad360228",
   "metadata": {
    "ExecuteTime": {
     "end_time": "2021-10-09T20:12:43.970206Z",
     "start_time": "2021-10-09T20:12:43.962228Z"
    }
   },
   "outputs": [],
   "source": [
    "start_ts = []\n",
    "enddd_ts = []\n",
    "for st_d, en_d in zip(start_d,enddd_d):\n",
    "    start_ts.append(int(time.mktime(datetime.datetime(\n",
    "        st_d.year, st_d.month, st_d.day, 0, 0, 0).timetuple())))\n",
    "    \n",
    "    enddd_ts.append(int(time.mktime(datetime.datetime(\n",
    "        en_d.year, en_d.month, en_d.day, 23, 59, 59).timetuple())))"
   ]
  },
  {
   "cell_type": "markdown",
   "id": "7456b1d7",
   "metadata": {},
   "source": [
    "#### making urls_list"
   ]
  },
  {
   "cell_type": "code",
   "execution_count": null,
   "id": "eafa4764",
   "metadata": {},
   "outputs": [],
   "source": [
    "# 기본 url. [puid,startdate,enddate,api_key]"
   ]
  },
  {
   "cell_type": "code",
   "execution_count": 12,
   "id": "347ab129",
   "metadata": {
    "ExecuteTime": {
     "end_time": "2021-10-09T20:12:49.643874Z",
     "start_time": "2021-10-09T20:12:49.622949Z"
    }
   },
   "outputs": [],
   "source": [
    "match_id_url = 'https://asia.api.riotgames.com/lol/match/v5/matches/by-puuid/{}/ids?startTime={}&endTime={}&type=ranked&start=0&count=100&api_key={}'"
   ]
  },
  {
   "cell_type": "code",
   "execution_count": 14,
   "id": "de8d1386",
   "metadata": {
    "ExecuteTime": {
     "end_time": "2021-10-09T20:12:55.410696Z",
     "start_time": "2021-10-09T20:12:55.394742Z"
    }
   },
   "outputs": [],
   "source": [
    "urls_list = []\n",
    "for summoner_puuid in df['puuid']:\n",
    "    for starts,ends in zip(start_ts,enddd_ts):\n",
    "        urls_list.append(match_id_url.format(summoner_puuid,starts,ends,my_api_key))"
   ]
  },
  {
   "cell_type": "code",
   "execution_count": 15,
   "id": "ae43b095",
   "metadata": {
    "ExecuteTime": {
     "end_time": "2021-10-09T22:15:33.089641Z",
     "start_time": "2021-10-09T20:13:21.533498Z"
    }
   },
   "outputs": [
    {
     "name": "stderr",
     "output_type": "stream",
     "text": [
      "100%|████████████████████████████████████████████████████████████████████████████| 5049/5049 [2:02:11<00:00,  1.45s/it]\n"
     ]
    }
   ],
   "source": [
    "results = []\n",
    "for url_now in tqdm(urls_list):\n",
    "    \n",
    "    req_text = requests.get(url_now).text\n",
    "    \n",
    "    if req_text == '{\"status\":{\"message\":\"Rate limit exceeded\",\"status_code\":429}}':\n",
    "        time.sleep(120)\n",
    "        \n",
    "        req_text = requests.get(url_now).text\n",
    "        results.append(req_text)\n",
    "    \n",
    "    else:\n",
    "        results.append(req_text)"
   ]
  },
  {
   "cell_type": "code",
   "execution_count": 16,
   "id": "d2a29792",
   "metadata": {
    "ExecuteTime": {
     "end_time": "2021-10-10T02:04:52.280946Z",
     "start_time": "2021-10-10T02:04:52.272950Z"
    }
   },
   "outputs": [
    {
     "data": {
      "text/plain": [
       "[]"
      ]
     },
     "execution_count": 16,
     "metadata": {},
     "output_type": "execute_result"
    }
   ],
   "source": [
    "[x for x in results if x == '{\"status\":{\"message\":\"Rate limit exceeded\",\"status_code\":429}}']"
   ]
  },
  {
   "cell_type": "code",
   "execution_count": 30,
   "id": "11874464",
   "metadata": {
    "ExecuteTime": {
     "end_time": "2021-10-10T02:26:08.698013Z",
     "start_time": "2021-10-10T02:26:06.751083Z"
    }
   },
   "outputs": [
    {
     "data": {
      "text/plain": [
       "['KR_5278595528',\n",
       " 'KR_5278475396',\n",
       " 'KR_5278358463',\n",
       " 'KR_5278341320',\n",
       " 'KR_5278291118',\n",
       " 'KR_5278127451',\n",
       " 'KR_5278089561',\n",
       " 'KR_5277939404',\n",
       " 'KR_5277974179',\n",
       " 'KR_5277846999']"
      ]
     },
     "execution_count": 30,
     "metadata": {},
     "output_type": "execute_result"
    }
   ],
   "source": [
    "results_eval = pd.Series(results).apply(lambda x : eval(x))\n",
    "results_eval = np.sum(results_eval)\n",
    "results_eval[0:10]"
   ]
  },
  {
   "cell_type": "code",
   "execution_count": 52,
   "id": "99b09f7a",
   "metadata": {
    "ExecuteTime": {
     "end_time": "2021-10-10T07:39:35.239471Z",
     "start_time": "2021-10-10T07:39:35.014091Z"
    }
   },
   "outputs": [],
   "source": [
    "#results_df = pd.DataFrame(results_eval)\n",
    "#results_df.to_csv('C:/Users/rsh15/Desktop/seunghuni/lol_analysis/data/lol_api/match_ids.csv',\n",
    "                   # index=False,encoding='utf-8-sig')"
   ]
  },
  {
   "cell_type": "code",
   "execution_count": 11,
   "id": "f703f4bc",
   "metadata": {
    "ExecuteTime": {
     "end_time": "2021-10-10T07:43:44.651652Z",
     "start_time": "2021-10-10T07:43:44.576755Z"
    }
   },
   "outputs": [
    {
     "data": {
      "text/plain": [
       "0         KR_5278595528\n",
       "1         KR_5278475396\n",
       "2         KR_5278358463\n",
       "3         KR_5278341320\n",
       "4         KR_5278291118\n",
       "              ...      \n",
       "123462    KR_5494739323\n",
       "123463    KR_5494785504\n",
       "123464    KR_5494811475\n",
       "123465    KR_5494770109\n",
       "123466    KR_5494656051\n",
       "Name: 0, Length: 123467, dtype: object"
      ]
     },
     "execution_count": 11,
     "metadata": {},
     "output_type": "execute_result"
    }
   ],
   "source": [
    "results_df = pd.read_csv('C:/Users/rsh15/Desktop/seunghuni/lol_analysis/data/lol_api/match_ids.csv')\n",
    "results_eval = results_df.iloc[:,0]\n",
    "results_eval"
   ]
  },
  {
   "cell_type": "code",
   "execution_count": 13,
   "id": "87cf06f4",
   "metadata": {
    "ExecuteTime": {
     "end_time": "2021-10-10T07:44:03.420099Z",
     "start_time": "2021-10-10T07:44:03.404141Z"
    }
   },
   "outputs": [],
   "source": [
    "match_hist_url = 'https://asia.api.riotgames.com/lol/match/v5/matches/{}?api_key={}'"
   ]
  },
  {
   "cell_type": "code",
   "execution_count": 21,
   "id": "6eba0640",
   "metadata": {
    "ExecuteTime": {
     "end_time": "2021-10-10T08:19:24.855760Z",
     "start_time": "2021-10-10T08:19:22.806641Z"
    }
   },
   "outputs": [],
   "source": [
    "options = webdriver.ChromeOptions()\n",
    "options.add_argument(\"headless\")\n",
    "options.add_argument(\"window-size=1920x1080\")\n",
    "options.add_argument(\"disable-gpu\")\n",
    "options.add_argument(\"Mozilla/5.0 (Windows NT 10.0; Win64; x64) AppleWebKit/537.36 (KHTML, like Gecko) Chrome/94.0.4606.71 Safari/537.36\")\n",
    "options.add_argument(\"lang=ko_KR\")\n",
    "\n",
    "driver = webdriver.Chrome('C:/Users/rsh15/Desktop/seunghuni/selenium/chromedriver.exe',\n",
    "                          options = options)"
   ]
  },
  {
   "cell_type": "code",
   "execution_count": 29,
   "id": "001ad753",
   "metadata": {
    "ExecuteTime": {
     "end_time": "2021-10-10T09:56:27.388905Z",
     "start_time": "2021-10-10T08:27:26.302097Z"
    }
   },
   "outputs": [
    {
     "name": "stderr",
     "output_type": "stream",
     "text": [
      "  7%|████▉                                                                   | 3699/54391 [1:29:00<20:19:51,  1.44s/it]\n"
     ]
    },
    {
     "ename": "WebDriverException",
     "evalue": "Message: unknown error: net::ERR_CONNECTION_FAILED\n  (Session info: headless chrome=94.0.4606.71)\n",
     "output_type": "error",
     "traceback": [
      "\u001B[1;31m---------------------------------------------------------------------------\u001B[0m",
      "\u001B[1;31mWebDriverException\u001B[0m                        Traceback (most recent call last)",
      "\u001B[1;32m~\\AppData\\Local\\Temp/ipykernel_22448/1177536202.py\u001B[0m in \u001B[0;36m<module>\u001B[1;34m\u001B[0m\n\u001B[0;32m      8\u001B[0m         \u001B[0mtime\u001B[0m\u001B[1;33m.\u001B[0m\u001B[0msleep\u001B[0m\u001B[1;33m(\u001B[0m\u001B[1;36m120\u001B[0m\u001B[1;33m)\u001B[0m\u001B[1;33m\u001B[0m\u001B[1;33m\u001B[0m\u001B[0m\n\u001B[0;32m      9\u001B[0m \u001B[1;33m\u001B[0m\u001B[0m\n\u001B[1;32m---> 10\u001B[1;33m         \u001B[0mdriver\u001B[0m\u001B[1;33m.\u001B[0m\u001B[0mget\u001B[0m\u001B[1;33m(\u001B[0m\u001B[0murll\u001B[0m\u001B[1;33m)\u001B[0m\u001B[1;33m\u001B[0m\u001B[1;33m\u001B[0m\u001B[0m\n\u001B[0m\u001B[0;32m     11\u001B[0m         \u001B[0mmatch_hist\u001B[0m\u001B[1;33m.\u001B[0m\u001B[0mappend\u001B[0m\u001B[1;33m(\u001B[0m\u001B[0mBeautifulSoup\u001B[0m\u001B[1;33m(\u001B[0m\u001B[0mdriver\u001B[0m\u001B[1;33m.\u001B[0m\u001B[0mpage_source\u001B[0m\u001B[1;33m)\u001B[0m\u001B[1;33m.\u001B[0m\u001B[0mtext\u001B[0m\u001B[1;33m)\u001B[0m\u001B[1;33m\u001B[0m\u001B[1;33m\u001B[0m\u001B[0m\n\u001B[0;32m     12\u001B[0m \u001B[1;33m\u001B[0m\u001B[0m\n",
      "\u001B[1;32m~\\anaconda3\\envs\\seunghunii\\lib\\site-packages\\selenium\\webdriver\\remote\\webdriver.py\u001B[0m in \u001B[0;36mget\u001B[1;34m(self, url)\u001B[0m\n\u001B[0;32m    331\u001B[0m         \u001B[0mLoads\u001B[0m \u001B[0ma\u001B[0m \u001B[0mweb\u001B[0m \u001B[0mpage\u001B[0m \u001B[1;32min\u001B[0m \u001B[0mthe\u001B[0m \u001B[0mcurrent\u001B[0m \u001B[0mbrowser\u001B[0m \u001B[0msession\u001B[0m\u001B[1;33m.\u001B[0m\u001B[1;33m\u001B[0m\u001B[1;33m\u001B[0m\u001B[0m\n\u001B[0;32m    332\u001B[0m         \"\"\"\n\u001B[1;32m--> 333\u001B[1;33m         \u001B[0mself\u001B[0m\u001B[1;33m.\u001B[0m\u001B[0mexecute\u001B[0m\u001B[1;33m(\u001B[0m\u001B[0mCommand\u001B[0m\u001B[1;33m.\u001B[0m\u001B[0mGET\u001B[0m\u001B[1;33m,\u001B[0m \u001B[1;33m{\u001B[0m\u001B[1;34m'url'\u001B[0m\u001B[1;33m:\u001B[0m \u001B[0murl\u001B[0m\u001B[1;33m}\u001B[0m\u001B[1;33m)\u001B[0m\u001B[1;33m\u001B[0m\u001B[1;33m\u001B[0m\u001B[0m\n\u001B[0m\u001B[0;32m    334\u001B[0m \u001B[1;33m\u001B[0m\u001B[0m\n\u001B[0;32m    335\u001B[0m     \u001B[1;33m@\u001B[0m\u001B[0mproperty\u001B[0m\u001B[1;33m\u001B[0m\u001B[1;33m\u001B[0m\u001B[0m\n",
      "\u001B[1;32m~\\anaconda3\\envs\\seunghunii\\lib\\site-packages\\selenium\\webdriver\\remote\\webdriver.py\u001B[0m in \u001B[0;36mexecute\u001B[1;34m(self, driver_command, params)\u001B[0m\n\u001B[0;32m    319\u001B[0m         \u001B[0mresponse\u001B[0m \u001B[1;33m=\u001B[0m \u001B[0mself\u001B[0m\u001B[1;33m.\u001B[0m\u001B[0mcommand_executor\u001B[0m\u001B[1;33m.\u001B[0m\u001B[0mexecute\u001B[0m\u001B[1;33m(\u001B[0m\u001B[0mdriver_command\u001B[0m\u001B[1;33m,\u001B[0m \u001B[0mparams\u001B[0m\u001B[1;33m)\u001B[0m\u001B[1;33m\u001B[0m\u001B[1;33m\u001B[0m\u001B[0m\n\u001B[0;32m    320\u001B[0m         \u001B[1;32mif\u001B[0m \u001B[0mresponse\u001B[0m\u001B[1;33m:\u001B[0m\u001B[1;33m\u001B[0m\u001B[1;33m\u001B[0m\u001B[0m\n\u001B[1;32m--> 321\u001B[1;33m             \u001B[0mself\u001B[0m\u001B[1;33m.\u001B[0m\u001B[0merror_handler\u001B[0m\u001B[1;33m.\u001B[0m\u001B[0mcheck_response\u001B[0m\u001B[1;33m(\u001B[0m\u001B[0mresponse\u001B[0m\u001B[1;33m)\u001B[0m\u001B[1;33m\u001B[0m\u001B[1;33m\u001B[0m\u001B[0m\n\u001B[0m\u001B[0;32m    322\u001B[0m             response['value'] = self._unwrap_value(\n\u001B[0;32m    323\u001B[0m                 response.get('value', None))\n",
      "\u001B[1;32m~\\anaconda3\\envs\\seunghunii\\lib\\site-packages\\selenium\\webdriver\\remote\\errorhandler.py\u001B[0m in \u001B[0;36mcheck_response\u001B[1;34m(self, response)\u001B[0m\n\u001B[0;32m    240\u001B[0m                 \u001B[0malert_text\u001B[0m \u001B[1;33m=\u001B[0m \u001B[0mvalue\u001B[0m\u001B[1;33m[\u001B[0m\u001B[1;34m'alert'\u001B[0m\u001B[1;33m]\u001B[0m\u001B[1;33m.\u001B[0m\u001B[0mget\u001B[0m\u001B[1;33m(\u001B[0m\u001B[1;34m'text'\u001B[0m\u001B[1;33m)\u001B[0m\u001B[1;33m\u001B[0m\u001B[1;33m\u001B[0m\u001B[0m\n\u001B[0;32m    241\u001B[0m             \u001B[1;32mraise\u001B[0m \u001B[0mexception_class\u001B[0m\u001B[1;33m(\u001B[0m\u001B[0mmessage\u001B[0m\u001B[1;33m,\u001B[0m \u001B[0mscreen\u001B[0m\u001B[1;33m,\u001B[0m \u001B[0mstacktrace\u001B[0m\u001B[1;33m,\u001B[0m \u001B[0malert_text\u001B[0m\u001B[1;33m)\u001B[0m\u001B[1;33m\u001B[0m\u001B[1;33m\u001B[0m\u001B[0m\n\u001B[1;32m--> 242\u001B[1;33m         \u001B[1;32mraise\u001B[0m \u001B[0mexception_class\u001B[0m\u001B[1;33m(\u001B[0m\u001B[0mmessage\u001B[0m\u001B[1;33m,\u001B[0m \u001B[0mscreen\u001B[0m\u001B[1;33m,\u001B[0m \u001B[0mstacktrace\u001B[0m\u001B[1;33m)\u001B[0m\u001B[1;33m\u001B[0m\u001B[1;33m\u001B[0m\u001B[0m\n\u001B[0m\u001B[0;32m    243\u001B[0m \u001B[1;33m\u001B[0m\u001B[0m\n\u001B[0;32m    244\u001B[0m     \u001B[1;32mdef\u001B[0m \u001B[0m_value_or_default\u001B[0m\u001B[1;33m(\u001B[0m\u001B[0mself\u001B[0m\u001B[1;33m,\u001B[0m \u001B[0mobj\u001B[0m\u001B[1;33m,\u001B[0m \u001B[0mkey\u001B[0m\u001B[1;33m,\u001B[0m \u001B[0mdefault\u001B[0m\u001B[1;33m)\u001B[0m\u001B[1;33m:\u001B[0m\u001B[1;33m\u001B[0m\u001B[1;33m\u001B[0m\u001B[0m\n",
      "\u001B[1;31mWebDriverException\u001B[0m: Message: unknown error: net::ERR_CONNECTION_FAILED\n  (Session info: headless chrome=94.0.4606.71)\n"
     ]
    }
   ],
   "source": [
    "match_hist = []\n",
    "i = 0\n",
    "for match_cd in tqdm(np.unique(results_eval)):\n",
    "    \n",
    "    urll = match_hist_url.format(match_cd,my_api_key)\n",
    "\n",
    "    if i == 99:\n",
    "        time.sleep(120)\n",
    "        \n",
    "        driver.get(urll)\n",
    "        match_hist.append(BeautifulSoup(driver.page_source).text)\n",
    "    \n",
    "        i = 0\n",
    "        \n",
    "    else:\n",
    "        driver.get(urll)\n",
    "        match_hist.append(BeautifulSoup(driver.page_source).text)\n",
    "        \n",
    "        i += 1"
   ]
  }
 ],
 "metadata": {
  "kernelspec": {
   "display_name": "seunghun",
   "language": "python",
   "name": "seunghun"
  },
  "language_info": {
   "codemirror_mode": {
    "name": "ipython",
    "version": 3
   },
   "file_extension": ".py",
   "mimetype": "text/x-python",
   "name": "python",
   "nbconvert_exporter": "python",
   "pygments_lexer": "ipython3",
   "version": "3.8.0"
  },
  "toc": {
   "base_numbering": 1,
   "nav_menu": {},
   "number_sections": true,
   "sideBar": true,
   "skip_h1_title": true,
   "title_cell": "Table of Contents",
   "title_sidebar": "Contents",
   "toc_cell": false,
   "toc_position": {},
   "toc_section_display": true,
   "toc_window_display": false
  },
  "varInspector": {
   "cols": {
    "lenName": 16,
    "lenType": 16,
    "lenVar": 40
   },
   "kernels_config": {
    "python": {
     "delete_cmd_postfix": "",
     "delete_cmd_prefix": "del ",
     "library": "var_list.py",
     "varRefreshCmd": "print(var_dic_list())"
    },
    "r": {
     "delete_cmd_postfix": ") ",
     "delete_cmd_prefix": "rm(",
     "library": "var_list.r",
     "varRefreshCmd": "cat(var_dic_list()) "
    }
   },
   "types_to_exclude": [
    "module",
    "function",
    "builtin_function_or_method",
    "instance",
    "_Feature"
   ],
   "window_display": false
  }
 },
 "nbformat": 4,
 "nbformat_minor": 5
}