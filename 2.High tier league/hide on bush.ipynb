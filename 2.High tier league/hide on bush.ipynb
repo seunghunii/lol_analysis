{
 "cells": [
  {
   "cell_type": "code",
   "execution_count": 165,
   "id": "e9c648c7",
   "metadata": {
    "ExecuteTime": {
     "end_time": "2021-10-13T14:22:43.373514Z",
     "start_time": "2021-10-13T14:22:41.659531Z"
    }
   },
   "outputs": [],
   "source": [
    "import pandas as pd\n",
    "import numpy as np\n",
    "import time\n",
    "import datetime\n",
    "import requests\n",
    "import json\n",
    "import warnings\n",
    "import matplotlib as mpl\n",
    "import matplotlib.pyplot as plt\n",
    "import seaborn as sns\n",
    "from scipy import stats\n",
    "from random import randint\n",
    "from bs4 import BeautifulSoup\n",
    "from selenium import webdriver\n",
    "from tqdm import tqdm\n",
    "from glob import glob\n",
    "from datetime import timedelta"
   ]
  },
  {
   "cell_type": "code",
   "execution_count": 166,
   "outputs": [],
   "source": [
    "warnings.filterwarnings('ignore')\n",
    "plt.rcParams['font.family'] = 'JejuGothic'"
   ],
   "metadata": {
    "collapsed": false,
    "pycharm": {
     "name": "#%%\n"
    }
   }
  },
  {
   "cell_type": "markdown",
   "id": "78f8e31b",
   "metadata": {},
   "source": [
    "### Basic Data"
   ]
  },
  {
   "cell_type": "code",
   "execution_count": 2,
   "id": "9692f5e6",
   "metadata": {
    "ExecuteTime": {
     "end_time": "2021-10-12T18:30:24.941348Z",
     "start_time": "2021-10-12T18:30:24.936328Z"
    }
   },
   "outputs": [],
   "source": [
    "my_api_key = ''"
   ]
  },
  {
   "cell_type": "code",
   "execution_count": 3,
   "id": "b1bbe007",
   "metadata": {
    "ExecuteTime": {
     "end_time": "2021-10-12T18:21:35.129368Z",
     "start_time": "2021-10-12T18:21:35.016604Z"
    }
   },
   "outputs": [],
   "source": [
    "df = pd.read_csv('C:/Users/rsh15/Desktop/seunghuni/lol_analysis/data/lol_api/high_tier_user_1009.csv')"
   ]
  },
  {
   "cell_type": "code",
   "execution_count": 6,
   "id": "a394ee6b",
   "metadata": {
    "ExecuteTime": {
     "end_time": "2021-10-12T18:34:29.788199Z",
     "start_time": "2021-10-12T18:34:29.775229Z"
    }
   },
   "outputs": [
    {
     "data": {
      "text/plain": "      summonerName                                              puuid\n4160  Hide on bush  WtTsQKePbPTEtwvNVXSm97PwF5rmYj5T2qsHXRm8vlmR8h...",
      "text/html": "<div>\n<style scoped>\n    .dataframe tbody tr th:only-of-type {\n        vertical-align: middle;\n    }\n\n    .dataframe tbody tr th {\n        vertical-align: top;\n    }\n\n    .dataframe thead th {\n        text-align: right;\n    }\n</style>\n<table border=\"1\" class=\"dataframe\">\n  <thead>\n    <tr style=\"text-align: right;\">\n      <th></th>\n      <th>summonerName</th>\n      <th>puuid</th>\n    </tr>\n  </thead>\n  <tbody>\n    <tr>\n      <th>4160</th>\n      <td>Hide on bush</td>\n      <td>WtTsQKePbPTEtwvNVXSm97PwF5rmYj5T2qsHXRm8vlmR8h...</td>\n    </tr>\n  </tbody>\n</table>\n</div>"
     },
     "execution_count": 6,
     "metadata": {},
     "output_type": "execute_result"
    }
   ],
   "source": [
    "df[df['summonerName']=='Hide on bush'][['summonerName','puuid']]"
   ]
  },
  {
   "cell_type": "markdown",
   "id": "ad7c0afd",
   "metadata": {},
   "source": [
    "### Get match_id"
   ]
  },
  {
   "cell_type": "code",
   "execution_count": 8,
   "id": "77fe6ca8",
   "metadata": {
    "ExecuteTime": {
     "end_time": "2021-10-12T18:29:36.742134Z",
     "start_time": "2021-10-12T18:29:36.729165Z"
    }
   },
   "outputs": [
    {
     "name": "stdout",
     "output_type": "stream",
     "text": [
      "137 days\n"
     ]
    }
   ],
   "source": [
    "dates_range = pd.date_range(start='2021/06/16', end='2021/10/30',freq='1D')\n",
    "print(len(dates_range),'days')"
   ]
  },
  {
   "cell_type": "code",
   "execution_count": 9,
   "id": "2f43d844",
   "metadata": {
    "ExecuteTime": {
     "end_time": "2021-10-12T18:35:48.646941Z",
     "start_time": "2021-10-12T18:35:48.630973Z"
    }
   },
   "outputs": [],
   "source": [
    "date_start_list = []\n",
    "date_end_list = []\n",
    "for dd in dates_range:\n",
    "    date_start_list.append(int(time.mktime(datetime.datetime(\n",
    "        dd.year, dd.month, dd.day, 0, 0, 0).timetuple()\n",
    "    )))\n",
    "    \n",
    "    date_end_list.append(int(time.mktime(datetime.datetime(\n",
    "        dd.year, dd.month, dd.day, 23, 59, 59).timetuple()\n",
    "    )))"
   ]
  },
  {
   "cell_type": "code",
   "execution_count": 10,
   "id": "474d058f",
   "metadata": {
    "ExecuteTime": {
     "end_time": "2021-10-12T18:35:49.084415Z",
     "start_time": "2021-10-12T18:35:49.069425Z"
    }
   },
   "outputs": [],
   "source": [
    "match_id_url = 'https://asia.api.riotgames.com/lol/match/v5/matches/by-puuid/{}/ids?startTime={}&endTime={}&type=ranked&start=0&count=100&api_key={}'"
   ]
  },
  {
   "cell_type": "code",
   "execution_count": 11,
   "id": "0fbf9abb",
   "metadata": {
    "ExecuteTime": {
     "end_time": "2021-10-12T18:36:13.292662Z",
     "start_time": "2021-10-12T18:36:13.272183Z"
    }
   },
   "outputs": [],
   "source": [
    "urls_list = []\n",
    "for start_d, end_d in zip(date_start_list,date_end_list):\n",
    "    urls_list.append(\n",
    "        match_id_url.format(df['puuid'][4160],start_d,end_d,my_api_key))"
   ]
  },
  {
   "cell_type": "code",
   "execution_count": 12,
   "id": "1bf0ed76",
   "metadata": {
    "ExecuteTime": {
     "end_time": "2021-10-12T18:47:39.791990Z",
     "start_time": "2021-10-12T18:45:07.614293Z"
    }
   },
   "outputs": [
    {
     "name": "stderr",
     "output_type": "stream",
     "text": [
      "100%|██████████| 137/137 [02:39<00:00,  1.17s/it]\n"
     ]
    }
   ],
   "source": [
    "i = 0\n",
    "match_ids = []\n",
    "for urll in tqdm(urls_list):\n",
    "    if i == 99:\n",
    "        time.sleep(120)        \n",
    "        i = 0\n",
    "    else:\n",
    "        i += 1\n",
    "        \n",
    "    reqq = eval(requests.get(urll).text)\n",
    "    match_ids += reqq"
   ]
  },
  {
   "cell_type": "code",
   "execution_count": 13,
   "outputs": [
    {
     "name": "stdout",
     "output_type": "stream",
     "text": [
      "527 game\n"
     ]
    }
   ],
   "source": [
    "print(len(match_ids),'game')"
   ],
   "metadata": {
    "collapsed": false,
    "pycharm": {
     "name": "#%%\n"
    }
   }
  },
  {
   "cell_type": "code",
   "execution_count": 22,
   "outputs": [
    {
     "name": "stdout",
     "output_type": "stream",
     "text": [
      "527 unique games\n"
     ]
    }
   ],
   "source": [
    "print(len(np.unique(match_ids)),'unique games')"
   ],
   "metadata": {
    "collapsed": false,
    "pycharm": {
     "name": "#%%\n"
    }
   }
  },
  {
   "cell_type": "markdown",
   "id": "462a07e3",
   "metadata": {},
   "source": [
    "### Get match data"
   ]
  },
  {
   "cell_type": "code",
   "execution_count": 23,
   "id": "ef528c16",
   "metadata": {
    "ExecuteTime": {
     "end_time": "2021-10-12T18:47:42.597218Z",
     "start_time": "2021-10-12T18:47:42.589188Z"
    }
   },
   "outputs": [],
   "source": [
    "match_hist_url = 'https://asia.api.riotgames.com/lol/match/v5/matches/{}?api_key={}'"
   ]
  },
  {
   "cell_type": "code",
   "execution_count": 24,
   "id": "73311a73",
   "metadata": {
    "ExecuteTime": {
     "end_time": "2021-10-13T04:28:42.113745Z",
     "start_time": "2021-10-13T04:28:42.105765Z"
    }
   },
   "outputs": [],
   "source": [
    "match_hist_header = {\n",
    "    \"User-Agent\": \"Mozilla/5.0 (Windows NT 10.0; Win64; x64) AppleWebKit/537.36 (KHTML, like Gecko) Chrome/94.0.4606.71 Safari/537.36\",\n",
    "    \"Accept-Language\": \"ko-KR,ko;q=0.9,en-US;q=0.8,en;q=0.7\",\n",
    "    \"Accept-Charset\": \"application/x-www-form-urlencoded; charset=UTF-8\",\n",
    "    \"Origin\": \"https://developer.riotgames.com\"\n",
    "}"
   ]
  },
  {
   "cell_type": "code",
   "execution_count": 92,
   "outputs": [],
   "source": [
    "def write_json_file(request_text,match_id):\n",
    "    with open('C:/Users/rsh15/Desktop/seunghuni/lol_analysis/data/hide on bush/data_{}.json'.format(match_id),'w') as f:\n",
    "        json.dump(request_text, f)"
   ],
   "metadata": {
    "collapsed": false,
    "pycharm": {
     "name": "#%%\n"
    }
   }
  },
  {
   "cell_type": "code",
   "execution_count": 93,
   "id": "cfcadb1a",
   "metadata": {
    "ExecuteTime": {
     "end_time": "2021-10-13T04:42:43.592436Z",
     "start_time": "2021-10-13T04:29:42.830967Z"
    }
   },
   "outputs": [
    {
     "name": "stderr",
     "output_type": "stream",
     "text": [
      "100%|██████████| 527/527 [12:58<00:00,  1.48s/it]  \n"
     ]
    }
   ],
   "source": [
    "match_hist = []\n",
    "i = 0\n",
    "for match_id in tqdm(match_ids):\n",
    "\n",
    "    try:\n",
    "        reqq = requests.get(match_hist_url.format(match_id,my_api_key),headers=match_hist_header).text\n",
    "\n",
    "        if reqq == '{\"status\":{\"message\":\"Rate limit exceeded\",\"status_code\":429}}':\n",
    "            time.sleep(120)\n",
    "\n",
    "            reqq = requests.get(match_hist_url.format(match_id,my_api_key),headers=match_hist_header).text\n",
    "            write_json_file(reqq,match_id)\n",
    "\n",
    "        else:\n",
    "            write_json_file(reqq,match_id)\n",
    "\n",
    "    except:\n",
    "        time.sleep(30)\n",
    "        reqq = requests.get(match_hist_url.format(match_id,my_api_key),headers=match_hist_header).text\n",
    "\n",
    "        if reqq == '{\"status\":{\"message\":\"Rate limit exceeded\",\"status_code\":429}}':\n",
    "            time.sleep(120)\n",
    "\n",
    "            reqq = requests.get(match_hist_url.format(match_id,my_api_key),headers=match_hist_header).text\n",
    "            write_json_file(reqq,match_id)\n",
    "\n",
    "        else:\n",
    "            write_json_file(reqq,match_id)"
   ]
  },
  {
   "cell_type": "markdown",
   "id": "0040f20c",
   "metadata": {},
   "source": [
    "### Preprocessing "
   ]
  },
  {
   "cell_type": "markdown",
   "id": "166c2aea",
   "metadata": {},
   "source": [
    "#### Sample Preprocessing"
   ]
  },
  {
   "cell_type": "code",
   "execution_count": 93,
   "id": "0edb733f",
   "metadata": {
    "ExecuteTime": {
     "end_time": "2021-10-13T06:00:10.607929Z",
     "start_time": "2021-10-13T06:00:10.598966Z"
    }
   },
   "outputs": [],
   "source": [
    "sample_json = json.loads(reqq)"
   ]
  },
  {
   "cell_type": "code",
   "execution_count": 99,
   "id": "0b1a34ce",
   "metadata": {
    "ExecuteTime": {
     "end_time": "2021-10-13T06:00:55.706138Z",
     "start_time": "2021-10-13T06:00:55.692135Z"
    }
   },
   "outputs": [
    {
     "data": {
      "text/plain": [
       "['metadata', 'info']"
      ]
     },
     "execution_count": 99,
     "metadata": {},
     "output_type": "execute_result"
    }
   ],
   "source": [
    "[x for x in sample_json.keys()]"
   ]
  },
  {
   "cell_type": "code",
   "execution_count": 100,
   "id": "d629eb5b",
   "metadata": {
    "ExecuteTime": {
     "end_time": "2021-10-13T06:01:15.829529Z",
     "start_time": "2021-10-13T06:01:15.817560Z"
    }
   },
   "outputs": [
    {
     "data": {
      "text/plain": [
       "{'dataVersion': '2',\n",
       " 'matchId': 'KR_5476190678',\n",
       " 'participants': ['miX-Ec18NSvbEfg7ZVC5U2gMGUnWrFWNtPF1rrVShw8sUBjphcQ95z16kSySlYl3Z-UX4uBQt9whmw',\n",
       "  'wurdMhgmPY4h0njsbBrtpona7Ev9ZwA7Mq16OHijwCAyFYC64n2XJATTVXCCvtifObhFvlAOZyIqtw',\n",
       "  'yJCHxAO50M_nKpX6REdXf037ETg4slC6G_Ln2XcmQzZvbPVRjuVZQthUvjUyUqQVbDFBn_Yh41aF6A',\n",
       "  'MxfGQjIMNAhKFebnMwvz0-9KkTSpotOhSY81JquAfq_qEL13WgRZnA2LouWYTCTWEo7_MUjnbC86Rw',\n",
       "  'ZPevuzNMbmrNuCgok1NWgIAdiy0LUy8DzvNw4dPZJtqHsRQP8ztY06B-r74ewrRoXZx-JdMCl4Ur0w',\n",
       "  'Q0ucTiDnPFhILDTOjUttDj7Mr6EfCoGOEOUPQY8X-TsVNKYqZide__fLb1c3uQ2KMsKqK-OHB7W2Lw',\n",
       "  'WtTsQKePbPTEtwvNVXSm97PwF5rmYj5T2qsHXRm8vlmR8hPBA5E3hf4hDC8S_5UHEMZkZOS9CfWEKQ',\n",
       "  '6KNPMsWYUl43fbMegw4stpZwuqrWUUoQIRX1-1f9XVbIcDdQ_znlBPxf1PkSmT1wKaLwBc54ygUrCw',\n",
       "  'X1oqF2m_5yBhA885PxuwIjX5b2-O60TZOTJvjPH0Hga6vxH_NkSrr1MnCugwHpWTFpUpsSoi0ajsfg',\n",
       "  '2nOdCLN3-YEfC12GuVKIPBeDKtQuownkfCSDcx5HpH9283WE8Yj5W-qbte7oFuYyNjhgmCxR26WQzA']}"
      ]
     },
     "execution_count": 100,
     "metadata": {},
     "output_type": "execute_result"
    }
   ],
   "source": [
    "sample_json['metadata']"
   ]
  },
  {
   "cell_type": "code",
   "execution_count": 105,
   "id": "8a1a1be2",
   "metadata": {
    "ExecuteTime": {
     "end_time": "2021-10-13T06:06:50.576901Z",
     "start_time": "2021-10-13T06:06:50.559864Z"
    }
   },
   "outputs": [
    {
     "data": {
      "text/plain": [
       "['gameCreation',\n",
       " 'gameDuration',\n",
       " 'gameId',\n",
       " 'gameMode',\n",
       " 'gameName',\n",
       " 'gameStartTimestamp',\n",
       " 'gameType',\n",
       " 'gameVersion',\n",
       " 'mapId',\n",
       " 'participants',\n",
       " 'platformId',\n",
       " 'queueId',\n",
       " 'teams',\n",
       " 'tournamentCode']"
      ]
     },
     "execution_count": 105,
     "metadata": {},
     "output_type": "execute_result"
    }
   ],
   "source": [
    "[x for x in sample_json['info'].keys()]"
   ]
  },
  {
   "cell_type": "code",
   "execution_count": 110,
   "id": "04480d26",
   "metadata": {
    "ExecuteTime": {
     "end_time": "2021-10-13T06:08:34.994856Z",
     "start_time": "2021-10-13T06:08:34.978550Z"
    }
   },
   "outputs": [
    {
     "name": "stdout",
     "output_type": "stream",
     "text": [
      "gameCreation : 1632582258000\n",
      "gameDuration : 1694571\n",
      "gameId : 5476190678\n",
      "gameMode : CLASSIC\n",
      "gameName : teambuilder-match-5476190678\n",
      "gameStartTimestamp : 1632582277499\n",
      "gameType : MATCHED_GAME\n",
      "gameVersion : 11.19.398.9466\n",
      "mapId : 11\n",
      "platformId : KR\n",
      "queueId : 420\n",
      "tournamentCode : \n"
     ]
    }
   ],
   "source": [
    "for info_col in ['gameCreation','gameDuration','gameId','gameMode','gameName','gameStartTimestamp',\n",
    "                 'gameType','gameVersion','mapId','platformId','queueId','tournamentCode']:\n",
    "    print(info_col,':',sample_json['info'][info_col])"
   ]
  },
  {
   "cell_type": "code",
   "execution_count": 118,
   "id": "0420d3ab",
   "metadata": {
    "ExecuteTime": {
     "end_time": "2021-10-13T07:23:37.967397Z",
     "start_time": "2021-10-13T07:23:37.954738Z"
    }
   },
   "outputs": [
    {
     "data": {
      "text/plain": [
       "{'statPerks': {'defense': 5002, 'flex': 5008, 'offense': 5005},\n",
       " 'styles': [{'description': 'primaryStyle',\n",
       "   'selections': [{'perk': 8214, 'var1': 411, 'var2': 1085, 'var3': 0},\n",
       "    {'perk': 8226, 'var1': 250, 'var2': 545, 'var3': 0},\n",
       "    {'perk': 8210, 'var1': 1, 'var2': 0, 'var3': 0},\n",
       "    {'perk': 8237, 'var1': 257, 'var2': 0, 'var3': 0}],\n",
       "   'style': 8200},\n",
       "  {'description': 'subStyle',\n",
       "   'selections': [{'perk': 8345, 'var1': 3, 'var2': 0, 'var3': 0},\n",
       "    {'perk': 8352, 'var1': 143, 'var2': 1003, 'var3': 637}],\n",
       "   'style': 8300}]}"
      ]
     },
     "execution_count": 118,
     "metadata": {},
     "output_type": "execute_result"
    }
   ],
   "source": [
    "part_user = sample_json['info']['participants'][0]\n",
    "part_user['perks']"
   ]
  },
  {
   "cell_type": "code",
   "execution_count": 143,
   "id": "8e7573ca",
   "metadata": {
    "ExecuteTime": {
     "end_time": "2021-10-13T09:06:26.845760Z",
     "start_time": "2021-10-13T09:06:26.779928Z"
    },
    "scrolled": true
   },
   "outputs": [
    {
     "data": {
      "text/plain": [
       "[{'assists': 6,\n",
       "  'baronKills': 0,\n",
       "  'bountyLevel': 0,\n",
       "  'champExperience': 10207,\n",
       "  'champLevel': 13,\n",
       "  'championId': 26,\n",
       "  'championName': 'Zilean',\n",
       "  'championTransform': 0,\n",
       "  'consumablesPurchased': 3,\n",
       "  'damageDealtToBuildings': 2768,\n",
       "  'damageDealtToObjectives': 3039,\n",
       "  'damageDealtToTurrets': 2768,\n",
       "  'damageSelfMitigated': 3792,\n",
       "  'deaths': 3,\n",
       "  'detectorWardsPlaced': 3,\n",
       "  'doubleKills': 0,\n",
       "  'dragonKills': 0,\n",
       "  'firstBloodAssist': False,\n",
       "  'firstBloodKill': False,\n",
       "  'firstTowerAssist': False,\n",
       "  'firstTowerKill': False,\n",
       "  'gameEndedInEarlySurrender': False,\n",
       "  'gameEndedInSurrender': False,\n",
       "  'goldEarned': 8045,\n",
       "  'goldSpent': 7775,\n",
       "  'individualPosition': 'TOP',\n",
       "  'inhibitorKills': 0,\n",
       "  'inhibitorTakedowns': 0,\n",
       "  'inhibitorsLost': 1,\n",
       "  'item0': 2033,\n",
       "  'item1': 3158,\n",
       "  'item2': 3165,\n",
       "  'item3': 1028,\n",
       "  'item4': 6656,\n",
       "  'item5': 0,\n",
       "  'item6': 3340,\n",
       "  'itemsPurchased': 17,\n",
       "  'killingSprees': 0,\n",
       "  'kills': 0,\n",
       "  'lane': 'TOP',\n",
       "  'largestCriticalStrike': 0,\n",
       "  'largestKillingSpree': 0,\n",
       "  'largestMultiKill': 0,\n",
       "  'longestTimeSpentLiving': 865,\n",
       "  'magicDamageDealt': 56082,\n",
       "  'magicDamageDealtToChampions': 5403,\n",
       "  'magicDamageTaken': 3651,\n",
       "  'neutralMinionsKilled': 0,\n",
       "  'nexusKills': 0,\n",
       "  'nexusLost': 1,\n",
       "  'nexusTakedowns': 0,\n",
       "  'objectivesStolen': 0,\n",
       "  'objectivesStolenAssists': 0,\n",
       "  'participantId': 1,\n",
       "  'pentaKills': 0,\n",
       "  'physicalDamageDealt': 8435,\n",
       "  'physicalDamageDealtToChampions': 291,\n",
       "  'physicalDamageTaken': 6297,\n",
       "  'profileIcon': 4658,\n",
       "  'puuid': 'miX-Ec18NSvbEfg7ZVC5U2gMGUnWrFWNtPF1rrVShw8sUBjphcQ95z16kSySlYl3Z-UX4uBQt9whmw',\n",
       "  'quadraKills': 0,\n",
       "  'riotIdName': '',\n",
       "  'riotIdTagline': '',\n",
       "  'role': 'SOLO',\n",
       "  'sightWardsBoughtInGame': 0,\n",
       "  'spell1Casts': 152,\n",
       "  'spell2Casts': 56,\n",
       "  'spell3Casts': 72,\n",
       "  'spell4Casts': 6,\n",
       "  'summoner1Casts': 2,\n",
       "  'summoner1Id': 12,\n",
       "  'summoner2Casts': 2,\n",
       "  'summoner2Id': 4,\n",
       "  'summonerId': 'TiNMpbFkriHvXOBRIN8HTjtI3d_GhDUU7OHXTEQZjtU-1bvy',\n",
       "  'summonerLevel': 78,\n",
       "  'summonerName': '험악한분위기조성',\n",
       "  'teamEarlySurrendered': False,\n",
       "  'teamId': 100,\n",
       "  'teamPosition': 'TOP',\n",
       "  'timeCCingOthers': 13,\n",
       "  'timePlayed': 1694,\n",
       "  'totalDamageDealt': 69078,\n",
       "  'totalDamageDealtToChampions': 5694,\n",
       "  'totalDamageShieldedOnTeammates': 1171,\n",
       "  'totalDamageTaken': 10342,\n",
       "  'totalHeal': 4912,\n",
       "  'totalHealsOnTeammates': 3902,\n",
       "  'totalMinionsKilled': 132,\n",
       "  'totalTimeCCDealt': 133,\n",
       "  'totalTimeSpentDead': 115,\n",
       "  'totalUnitsHealed': 5,\n",
       "  'tripleKills': 0,\n",
       "  'trueDamageDealt': 4560,\n",
       "  'trueDamageDealtToChampions': 0,\n",
       "  'trueDamageTaken': 393,\n",
       "  'turretKills': 2,\n",
       "  'turretTakedowns': 3,\n",
       "  'turretsLost': 6,\n",
       "  'unrealKills': 0,\n",
       "  'visionScore': 31,\n",
       "  'visionWardsBoughtInGame': 3,\n",
       "  'wardsKilled': 5,\n",
       "  'wardsPlaced': 12,\n",
       "  'win': False},\n",
       " {'assists': 4,\n",
       "  'baronKills': 0,\n",
       "  'bountyLevel': 0,\n",
       "  'champExperience': 11969,\n",
       "  'champLevel': 14,\n",
       "  'championId': 76,\n",
       "  'championName': 'Nidalee',\n",
       "  'championTransform': 0,\n",
       "  'consumablesPurchased': 6,\n",
       "  'damageDealtToBuildings': 1492,\n",
       "  'damageDealtToObjectives': 17668,\n",
       "  'damageDealtToTurrets': 1492,\n",
       "  'damageSelfMitigated': 13193,\n",
       "  'deaths': 4,\n",
       "  'detectorWardsPlaced': 5,\n",
       "  'doubleKills': 1,\n",
       "  'dragonKills': 0,\n",
       "  'firstBloodAssist': False,\n",
       "  'firstBloodKill': True,\n",
       "  'firstTowerAssist': True,\n",
       "  'firstTowerKill': False,\n",
       "  'gameEndedInEarlySurrender': False,\n",
       "  'gameEndedInSurrender': False,\n",
       "  'goldEarned': 11835,\n",
       "  'goldSpent': 11850,\n",
       "  'individualPosition': 'JUNGLE',\n",
       "  'inhibitorKills': 0,\n",
       "  'inhibitorTakedowns': 0,\n",
       "  'inhibitorsLost': 1,\n",
       "  'item0': 2055,\n",
       "  'item1': 1026,\n",
       "  'item2': 3157,\n",
       "  'item3': 4636,\n",
       "  'item4': 3165,\n",
       "  'item5': 3020,\n",
       "  'item6': 3364,\n",
       "  'itemsPurchased': 20,\n",
       "  'killingSprees': 2,\n",
       "  'kills': 6,\n",
       "  'lane': 'JUNGLE',\n",
       "  'largestCriticalStrike': 0,\n",
       "  'largestKillingSpree': 4,\n",
       "  'largestMultiKill': 2,\n",
       "  'longestTimeSpentLiving': 760,\n",
       "  'magicDamageDealt': 130665,\n",
       "  'magicDamageDealtToChampions': 14352,\n",
       "  'magicDamageTaken': 10532,\n",
       "  'neutralMinionsKilled': 147,\n",
       "  'nexusKills': 0,\n",
       "  'nexusLost': 1,\n",
       "  'nexusTakedowns': 0,\n",
       "  'objectivesStolen': 0,\n",
       "  'objectivesStolenAssists': 0,\n",
       "  'participantId': 2,\n",
       "  'pentaKills': 0,\n",
       "  'perks': {'statPerks': {'defense': 5002, 'flex': 5008, 'offense': 5005},\n",
       "   'styles': [{'description': 'primaryStyle',\n",
       "     'selections': [{'perk': 8010, 'var1': 19, 'var2': 0, 'var3': 0},\n",
       "      {'perk': 9111, 'var1': 794, 'var2': 200, 'var3': 0},\n",
       "      {'perk': 9105, 'var1': 12, 'var2': 30, 'var3': 0},\n",
       "      {'perk': 8014, 'var1': 218, 'var2': 0, 'var3': 0}],\n",
       "     'style': 8000},\n",
       "    {'description': 'subStyle',\n",
       "     'selections': [{'perk': 8210, 'var1': 3, 'var2': 0, 'var3': 0},\n",
       "      {'perk': 8232, 'var1': 4, 'var2': 50, 'var3': 0}],\n",
       "     'style': 8200}]},\n",
       "  'physicalDamageDealt': 16374,\n",
       "  'physicalDamageDealtToChampions': 1239,\n",
       "  'physicalDamageTaken': 15205,\n",
       "  'profileIcon': 4568,\n",
       "  'puuid': 'wurdMhgmPY4h0njsbBrtpona7Ev9ZwA7Mq16OHijwCAyFYC64n2XJATTVXCCvtifObhFvlAOZyIqtw',\n",
       "  'quadraKills': 0,\n",
       "  'riotIdName': '',\n",
       "  'riotIdTagline': '',\n",
       "  'role': 'NONE',\n",
       "  'sightWardsBoughtInGame': 0,\n",
       "  'spell1Casts': 245,\n",
       "  'spell2Casts': 319,\n",
       "  'spell3Casts': 150,\n",
       "  'spell4Casts': 302,\n",
       "  'summoner1Casts': 16,\n",
       "  'summoner1Id': 11,\n",
       "  'summoner2Casts': 3,\n",
       "  'summoner2Id': 4,\n",
       "  'summonerId': 'WhsTFha4UBSkzNJP9V5fy9uv_U6_6hmbXlLFh2OwTdRx9DY',\n",
       "  'summonerLevel': 122,\n",
       "  'summonerName': '은정우 구재범',\n",
       "  'teamEarlySurrendered': False,\n",
       "  'teamId': 100,\n",
       "  'teamPosition': 'JUNGLE',\n",
       "  'timeCCingOthers': 0,\n",
       "  'timePlayed': 1694,\n",
       "  'totalDamageDealt': 161764,\n",
       "  'totalDamageDealtToChampions': 16017,\n",
       "  'totalDamageShieldedOnTeammates': 0,\n",
       "  'totalDamageTaken': 27100,\n",
       "  'totalHeal': 16120,\n",
       "  'totalHealsOnTeammates': 2303,\n",
       "  'totalMinionsKilled': 45,\n",
       "  'totalTimeCCDealt': 115,\n",
       "  'totalTimeSpentDead': 103,\n",
       "  'totalUnitsHealed': 4,\n",
       "  'tripleKills': 0,\n",
       "  'trueDamageDealt': 14724,\n",
       "  'trueDamageDealtToChampions': 424,\n",
       "  'trueDamageTaken': 1362,\n",
       "  'turretKills': 1,\n",
       "  'turretTakedowns': 2,\n",
       "  'turretsLost': 6,\n",
       "  'unrealKills': 0,\n",
       "  'visionScore': 45,\n",
       "  'visionWardsBoughtInGame': 6,\n",
       "  'wardsKilled': 10,\n",
       "  'wardsPlaced': 6,\n",
       "  'win': False},\n",
       " {'assists': 6,\n",
       "  'baronKills': 0,\n",
       "  'bountyLevel': 0,\n",
       "  'champExperience': 12804,\n",
       "  'champLevel': 14,\n",
       "  'championId': 777,\n",
       "  'championName': 'Yone',\n",
       "  'championTransform': 0,\n",
       "  'consumablesPurchased': 2,\n",
       "  'damageDealtToBuildings': 1503,\n",
       "  'damageDealtToObjectives': 5730,\n",
       "  'damageDealtToTurrets': 1503,\n",
       "  'damageSelfMitigated': 9630,\n",
       "  'deaths': 3,\n",
       "  'detectorWardsPlaced': 1,\n",
       "  'doubleKills': 0,\n",
       "  'dragonKills': 0,\n",
       "  'firstBloodAssist': False,\n",
       "  'firstBloodKill': False,\n",
       "  'firstTowerAssist': False,\n",
       "  'firstTowerKill': False,\n",
       "  'gameEndedInEarlySurrender': False,\n",
       "  'gameEndedInSurrender': False,\n",
       "  'goldEarned': 9143,\n",
       "  'goldSpent': 8925,\n",
       "  'individualPosition': 'MIDDLE',\n",
       "  'inhibitorKills': 0,\n",
       "  'inhibitorTakedowns': 0,\n",
       "  'inhibitorsLost': 1,\n",
       "  'item0': 3072,\n",
       "  'item1': 6671,\n",
       "  'item2': 0,\n",
       "  'item3': 3006,\n",
       "  'item4': 1042,\n",
       "  'item5': 0,\n",
       "  'item6': 3364,\n",
       "  'itemsPurchased': 18,\n",
       "  'killingSprees': 0,\n",
       "  'kills': 1,\n",
       "  'lane': 'MIDDLE',\n",
       "  'largestCriticalStrike': 386,\n",
       "  'largestKillingSpree': 0,\n",
       "  'largestMultiKill': 1,\n",
       "  'longestTimeSpentLiving': 672,\n",
       "  'magicDamageDealt': 17733,\n",
       "  'magicDamageDealtToChampions': 1599,\n",
       "  'magicDamageTaken': 6171,\n",
       "  'neutralMinionsKilled': 8,\n",
       "  'nexusKills': 0,\n",
       "  'nexusLost': 1,\n",
       "  'nexusTakedowns': 0,\n",
       "  'objectivesStolen': 0,\n",
       "  'objectivesStolenAssists': 0,\n",
       "  'participantId': 3,\n",
       "  'pentaKills': 0,\n",
       "  'perks': {'statPerks': {'defense': 5003, 'flex': 5008, 'offense': 5005},\n",
       "   'styles': [{'description': 'primaryStyle',\n",
       "     'selections': [{'perk': 8021, 'var1': 2001, 'var2': 2618, 'var3': 0},\n",
       "      {'perk': 9111, 'var1': 463, 'var2': 140, 'var3': 0},\n",
       "      {'perk': 9104, 'var1': 16, 'var2': 10, 'var3': 0},\n",
       "      {'perk': 8014, 'var1': 81, 'var2': 0, 'var3': 0}],\n",
       "     'style': 8000},\n",
       "    {'description': 'subStyle',\n",
       "     'selections': [{'perk': 8242, 'var1': 27, 'var2': 0, 'var3': 0},\n",
       "      {'perk': 8444, 'var1': 733, 'var2': 0, 'var3': 0}],\n",
       "     'style': 8400}]},\n",
       "  'physicalDamageDealt': 113521,\n",
       "  'physicalDamageDealtToChampions': 3580,\n",
       "  'physicalDamageTaken': 10395,\n",
       "  'profileIcon': 4020,\n",
       "  'puuid': 'yJCHxAO50M_nKpX6REdXf037ETg4slC6G_Ln2XcmQzZvbPVRjuVZQthUvjUyUqQVbDFBn_Yh41aF6A',\n",
       "  'quadraKills': 0,\n",
       "  'riotIdName': '',\n",
       "  'riotIdTagline': '',\n",
       "  'role': 'SOLO',\n",
       "  'sightWardsBoughtInGame': 0,\n",
       "  'spell1Casts': 223,\n",
       "  'spell2Casts': 65,\n",
       "  'spell3Casts': 40,\n",
       "  'spell4Casts': 5,\n",
       "  'summoner1Casts': 4,\n",
       "  'summoner1Id': 12,\n",
       "  'summoner2Casts': 2,\n",
       "  'summoner2Id': 4,\n",
       "  'summonerId': '3l-sMrWUoG_G5AqQdUUcZuTBD5FBtv9b-9DFxTPZKbkG7Ks',\n",
       "  'summonerLevel': 167,\n",
       "  'summonerName': '현주입니다',\n",
       "  'teamEarlySurrendered': False,\n",
       "  'teamId': 100,\n",
       "  'teamPosition': 'MIDDLE',\n",
       "  'timeCCingOthers': 8,\n",
       "  'timePlayed': 1694,\n",
       "  'totalDamageDealt': 136845,\n",
       "  'totalDamageDealtToChampions': 5665,\n",
       "  'totalDamageShieldedOnTeammates': 0,\n",
       "  'totalDamageTaken': 16666,\n",
       "  'totalHeal': 2664,\n",
       "  'totalHealsOnTeammates': 0,\n",
       "  'totalMinionsKilled': 192,\n",
       "  'totalTimeCCDealt': 131,\n",
       "  'totalTimeSpentDead': 98,\n",
       "  'totalUnitsHealed': 1,\n",
       "  'tripleKills': 0,\n",
       "  'trueDamageDealt': 5590,\n",
       "  'trueDamageDealtToChampions': 485,\n",
       "  'trueDamageTaken': 100,\n",
       "  'turretKills': 0,\n",
       "  'turretTakedowns': 1,\n",
       "  'turretsLost': 6,\n",
       "  'unrealKills': 0,\n",
       "  'visionScore': 17,\n",
       "  'visionWardsBoughtInGame': 1,\n",
       "  'wardsKilled': 2,\n",
       "  'wardsPlaced': 7,\n",
       "  'win': False},\n",
       " {'assists': 5,\n",
       "  'baronKills': 0,\n",
       "  'bountyLevel': 0,\n",
       "  'champExperience': 10862,\n",
       "  'champLevel': 13,\n",
       "  'championId': 236,\n",
       "  'championName': 'Lucian',\n",
       "  'championTransform': 0,\n",
       "  'consumablesPurchased': 7,\n",
       "  'damageDealtToBuildings': 3383,\n",
       "  'damageDealtToObjectives': 3383,\n",
       "  'damageDealtToTurrets': 3383,\n",
       "  'damageSelfMitigated': 9304,\n",
       "  'deaths': 8,\n",
       "  'detectorWardsPlaced': 3,\n",
       "  'doubleKills': 0,\n",
       "  'dragonKills': 0,\n",
       "  'firstBloodAssist': False,\n",
       "  'firstBloodKill': False,\n",
       "  'firstTowerAssist': False,\n",
       "  'firstTowerKill': False,\n",
       "  'gameEndedInEarlySurrender': False,\n",
       "  'gameEndedInSurrender': False,\n",
       "  'goldEarned': 11165,\n",
       "  'goldSpent': 10500,\n",
       "  'individualPosition': 'BOTTOM',\n",
       "  'inhibitorKills': 0,\n",
       "  'inhibitorTakedowns': 0,\n",
       "  'inhibitorsLost': 1,\n",
       "  'item0': 6672,\n",
       "  'item1': 1038,\n",
       "  'item2': 1037,\n",
       "  'item3': 3508,\n",
       "  'item4': 1018,\n",
       "  'item5': 3111,\n",
       "  'item6': 3363,\n",
       "  'itemsPurchased': 26,\n",
       "  'killingSprees': 2,\n",
       "  'kills': 5,\n",
       "  'lane': 'BOTTOM',\n",
       "  'largestCriticalStrike': 468,\n",
       "  'largestKillingSpree': 2,\n",
       "  'largestMultiKill': 1,\n",
       "  'longestTimeSpentLiving': 427,\n",
       "  'magicDamageDealt': 7351,\n",
       "  'magicDamageDealtToChampions': 1304,\n",
       "  'magicDamageTaken': 7837,\n",
       "  'neutralMinionsKilled': 14,\n",
       "  'nexusKills': 0,\n",
       "  'nexusLost': 1,\n",
       "  'nexusTakedowns': 0,\n",
       "  'objectivesStolen': 0,\n",
       "  'objectivesStolenAssists': 0,\n",
       "  'participantId': 4,\n",
       "  'pentaKills': 0,\n",
       "  'perks': {'statPerks': {'defense': 5003, 'flex': 5008, 'offense': 5005},\n",
       "   'styles': [{'description': 'primaryStyle',\n",
       "     'selections': [{'perk': 8005, 'var1': 1294, 'var2': 688, 'var3': 605},\n",
       "      {'perk': 8009, 'var1': 1291, 'var2': 0, 'var3': 0},\n",
       "      {'perk': 9104, 'var1': 14, 'var2': 0, 'var3': 0},\n",
       "      {'perk': 8014, 'var1': 287, 'var2': 0, 'var3': 0}],\n",
       "     'style': 8000},\n",
       "    {'description': 'subStyle',\n",
       "     'selections': [{'perk': 8139, 'var1': 891, 'var2': 0, 'var3': 0},\n",
       "      {'perk': 8135, 'var1': 3163, 'var2': 4, 'var3': 0}],\n",
       "     'style': 8100}]},\n",
       "  'physicalDamageDealt': 142509,\n",
       "  'physicalDamageDealtToChampions': 16472,\n",
       "  'physicalDamageTaken': 10590,\n",
       "  'profileIcon': 3478,\n",
       "  'puuid': 'MxfGQjIMNAhKFebnMwvz0-9KkTSpotOhSY81JquAfq_qEL13WgRZnA2LouWYTCTWEo7_MUjnbC86Rw',\n",
       "  'quadraKills': 0,\n",
       "  'riotIdName': '',\n",
       "  'riotIdTagline': '',\n",
       "  'role': 'CARRY',\n",
       "  'sightWardsBoughtInGame': 0,\n",
       "  'spell1Casts': 73,\n",
       "  'spell2Casts': 44,\n",
       "  'spell3Casts': 33,\n",
       "  'spell4Casts': 11,\n",
       "  'summoner1Casts': 4,\n",
       "  'summoner1Id': 7,\n",
       "  'summoner2Casts': 4,\n",
       "  'summoner2Id': 4,\n",
       "  'summonerId': 'tEa-zWFjBa3-8mMH9lmd4yBKXcGiqMAtJBQm_RMCFXdta6KJ',\n",
       "  'summonerLevel': 134,\n",
       "  'summonerName': '화가의 물감',\n",
       "  'teamEarlySurrendered': False,\n",
       "  'teamId': 100,\n",
       "  'teamPosition': 'BOTTOM',\n",
       "  'timeCCingOthers': 0,\n",
       "  'timePlayed': 1694,\n",
       "  'totalDamageDealt': 159460,\n",
       "  'totalDamageDealtToChampions': 19601,\n",
       "  'totalDamageShieldedOnTeammates': 0,\n",
       "  'totalDamageTaken': 19123,\n",
       "  'totalHeal': 1575,\n",
       "  'totalHealsOnTeammates': 356,\n",
       "  'totalMinionsKilled': 216,\n",
       "  'totalTimeCCDealt': 26,\n",
       "  'totalTimeSpentDead': 203,\n",
       "  'totalUnitsHealed': 3,\n",
       "  'tripleKills': 0,\n",
       "  'trueDamageDealt': 9599,\n",
       "  'trueDamageDealtToChampions': 1824,\n",
       "  'trueDamageTaken': 695,\n",
       "  'turretKills': 1,\n",
       "  'turretTakedowns': 2,\n",
       "  'turretsLost': 6,\n",
       "  'unrealKills': 0,\n",
       "  'visionScore': 40,\n",
       "  'visionWardsBoughtInGame': 3,\n",
       "  'wardsKilled': 10,\n",
       "  'wardsPlaced': 12,\n",
       "  'win': False},\n",
       " {'assists': 8,\n",
       "  'baronKills': 0,\n",
       "  'bountyLevel': 0,\n",
       "  'champExperience': 7618,\n",
       "  'champLevel': 11,\n",
       "  'championId': 43,\n",
       "  'championName': 'Karma',\n",
       "  'championTransform': 0,\n",
       "  'consumablesPurchased': 11,\n",
       "  'damageDealtToBuildings': 801,\n",
       "  'damageDealtToObjectives': 1544,\n",
       "  'damageDealtToTurrets': 801,\n",
       "  'damageSelfMitigated': 5446,\n",
       "  'deaths': 3,\n",
       "  'detectorWardsPlaced': 8,\n",
       "  'doubleKills': 0,\n",
       "  'dragonKills': 0,\n",
       "  'firstBloodAssist': True,\n",
       "  'firstBloodKill': False,\n",
       "  'firstTowerAssist': False,\n",
       "  'firstTowerKill': False,\n",
       "  'gameEndedInEarlySurrender': False,\n",
       "  'gameEndedInSurrender': False,\n",
       "  'goldEarned': 7790,\n",
       "  'goldSpent': 7360,\n",
       "  'individualPosition': 'UTILITY',\n",
       "  'inhibitorKills': 0,\n",
       "  'inhibitorTakedowns': 0,\n",
       "  'inhibitorsLost': 1,\n",
       "  'item0': 2055,\n",
       "  'item1': 3853,\n",
       "  'item2': 2065,\n",
       "  'item3': 3158,\n",
       "  'item4': 3011,\n",
       "  'item5': 1052,\n",
       "  'item6': 3364,\n",
       "  'itemsPurchased': 27,\n",
       "  'killingSprees': 1,\n",
       "  'kills': 3,\n",
       "  'lane': 'BOTTOM',\n",
       "  'largestCriticalStrike': 0,\n",
       "  'largestKillingSpree': 3,\n",
       "  'largestMultiKill': 1,\n",
       "  'longestTimeSpentLiving': 1025,\n",
       "  'magicDamageDealt': 32029,\n",
       "  'magicDamageDealtToChampions': 10299,\n",
       "  'magicDamageTaken': 5816,\n",
       "  'neutralMinionsKilled': 0,\n",
       "  'nexusKills': 0,\n",
       "  'nexusLost': 1,\n",
       "  'nexusTakedowns': 0,\n",
       "  'objectivesStolen': 0,\n",
       "  'objectivesStolenAssists': 0,\n",
       "  'participantId': 5,\n",
       "  'pentaKills': 0,\n",
       "  'perks': {'statPerks': {'defense': 5002, 'flex': 5008, 'offense': 5008},\n",
       "   'styles': [{'description': 'primaryStyle',\n",
       "     'selections': [{'perk': 8229, 'var1': 1311, 'var2': 0, 'var3': 0},\n",
       "      {'perk': 8275, 'var1': 9, 'var2': 0, 'var3': 0},\n",
       "      {'perk': 8233, 'var1': 16, 'var2': 30, 'var3': 0},\n",
       "      {'perk': 8237, 'var1': 470, 'var2': 0, 'var3': 0}],\n",
       "     'style': 8200},\n",
       "    {'description': 'subStyle',\n",
       "     'selections': [{'perk': 8345, 'var1': 3, 'var2': 0, 'var3': 0},\n",
       "      {'perk': 8347, 'var1': 0, 'var2': 0, 'var3': 0}],\n",
       "     'style': 8300}]},\n",
       "  'physicalDamageDealt': 2592,\n",
       "  'physicalDamageDealtToChampions': 644,\n",
       "  'physicalDamageTaken': 4336,\n",
       "  'profileIcon': 4903,\n",
       "  'puuid': 'ZPevuzNMbmrNuCgok1NWgIAdiy0LUy8DzvNw4dPZJtqHsRQP8ztY06B-r74ewrRoXZx-JdMCl4Ur0w',\n",
       "  'quadraKills': 0,\n",
       "  'riotIdName': '',\n",
       "  'riotIdTagline': '',\n",
       "  'role': 'SUPPORT',\n",
       "  'sightWardsBoughtInGame': 0,\n",
       "  'spell1Casts': 83,\n",
       "  'spell2Casts': 21,\n",
       "  'spell3Casts': 127,\n",
       "  'spell4Casts': 39,\n",
       "  'summoner1Casts': 5,\n",
       "  'summoner1Id': 3,\n",
       "  'summoner2Casts': 4,\n",
       "  'summoner2Id': 4,\n",
       "  'summonerId': 'F89XPGhiZNJAsX8r_NgHVkayRNRCeRTiFaytDJ0hkGMlMpG4r8XxHKAHMA',\n",
       "  'summonerLevel': 159,\n",
       "  'summonerName': '로se',\n",
       "  'teamEarlySurrendered': False,\n",
       "  'teamId': 100,\n",
       "  'teamPosition': 'UTILITY',\n",
       "  'timeCCingOthers': 21,\n",
       "  'timePlayed': 1694,\n",
       "  'totalDamageDealt': 46371,\n",
       "  'totalDamageDealtToChampions': 10944,\n",
       "  'totalDamageShieldedOnTeammates': 2879,\n",
       "  'totalDamageTaken': 10554,\n",
       "  'totalHeal': 535,\n",
       "  'totalHealsOnTeammates': 0,\n",
       "  'totalMinionsKilled': 27,\n",
       "  'totalTimeCCDealt': 202,\n",
       "  'totalTimeSpentDead': 88,\n",
       "  'totalUnitsHealed': 1,\n",
       "  'tripleKills': 0,\n",
       "  'trueDamageDealt': 11750,\n",
       "  'trueDamageDealtToChampions': 0,\n",
       "  'trueDamageTaken': 401,\n",
       "  'turretKills': 0,\n",
       "  'turretTakedowns': 2,\n",
       "  'turretsLost': 6,\n",
       "  'unrealKills': 0,\n",
       "  'visionScore': 53,\n",
       "  'visionWardsBoughtInGame': 9,\n",
       "  'wardsKilled': 4,\n",
       "  'wardsPlaced': 31,\n",
       "  'win': False},\n",
       " {'assists': 7,\n",
       "  'baronKills': 0,\n",
       "  'bountyLevel': 2,\n",
       "  'champExperience': 13477,\n",
       "  'champLevel': 15,\n",
       "  'championId': 142,\n",
       "  'championName': 'Zoe',\n",
       "  'championTransform': 0,\n",
       "  'consumablesPurchased': 6,\n",
       "  'damageDealtToBuildings': 5058,\n",
       "  'damageDealtToObjectives': 10915,\n",
       "  'damageDealtToTurrets': 5058,\n",
       "  'damageSelfMitigated': 5689,\n",
       "  'deaths': 2,\n",
       "  'detectorWardsPlaced': 6,\n",
       "  'doubleKills': 0,\n",
       "  'dragonKills': 0,\n",
       "  'firstBloodAssist': False,\n",
       "  'firstBloodKill': False,\n",
       "  'firstTowerAssist': False,\n",
       "  'firstTowerKill': False,\n",
       "  'gameEndedInEarlySurrender': False,\n",
       "  'gameEndedInSurrender': False,\n",
       "  'goldEarned': 10202,\n",
       "  'goldSpent': 8700,\n",
       "  'individualPosition': 'MIDDLE',\n",
       "  'inhibitorKills': 0,\n",
       "  'inhibitorTakedowns': 1,\n",
       "  'inhibitorsLost': 0,\n",
       "  'item0': 3020,\n",
       "  'item1': 6655,\n",
       "  'item2': 0,\n",
       "  'item3': 3135,\n",
       "  'item4': 1056,\n",
       "  'item5': 1082,\n",
       "  'item6': 3364,\n",
       "  'itemsPurchased': 20,\n",
       "  'killingSprees': 2,\n",
       "  'kills': 4,\n",
       "  'lane': 'MIDDLE',\n",
       "  'largestCriticalStrike': 0,\n",
       "  'largestKillingSpree': 2,\n",
       "  'largestMultiKill': 1,\n",
       "  'longestTimeSpentLiving': 773,\n",
       "  'magicDamageDealt': 94852,\n",
       "  'magicDamageDealtToChampions': 14609,\n",
       "  'magicDamageTaken': 3459,\n",
       "  'neutralMinionsKilled': 18,\n",
       "  'nexusKills': 1,\n",
       "  'nexusLost': 0,\n",
       "  'nexusTakedowns': 1,\n",
       "  'objectivesStolen': 0,\n",
       "  'objectivesStolenAssists': 0,\n",
       "  'participantId': 6,\n",
       "  'pentaKills': 0,\n",
       "  'perks': {'statPerks': {'defense': 5002, 'flex': 5008, 'offense': 5005},\n",
       "   'styles': [{'description': 'primaryStyle',\n",
       "     'selections': [{'perk': 8112, 'var1': 918, 'var2': 0, 'var3': 0},\n",
       "      {'perk': 8139, 'var1': 563, 'var2': 0, 'var3': 0},\n",
       "      {'perk': 8138, 'var1': 30, 'var2': 0, 'var3': 0},\n",
       "      {'perk': 8135, 'var1': 1194, 'var2': 5, 'var3': 0}],\n",
       "     'style': 8100},\n",
       "    {'description': 'subStyle',\n",
       "     'selections': [{'perk': 8345, 'var1': 3, 'var2': 0, 'var3': 0},\n",
       "      {'perk': 8352, 'var1': 159, 'var2': 683, 'var3': 543}],\n",
       "     'style': 8300}]},\n",
       "  'physicalDamageDealt': 16520,\n",
       "  'physicalDamageDealtToChampions': 1936,\n",
       "  'physicalDamageTaken': 7325,\n",
       "  'profileIcon': 5073,\n",
       "  'puuid': 'Q0ucTiDnPFhILDTOjUttDj7Mr6EfCoGOEOUPQY8X-TsVNKYqZide__fLb1c3uQ2KMsKqK-OHB7W2Lw',\n",
       "  'quadraKills': 0,\n",
       "  'riotIdName': '',\n",
       "  'riotIdTagline': '',\n",
       "  'role': 'SOLO',\n",
       "  'sightWardsBoughtInGame': 0,\n",
       "  'spell1Casts': 241,\n",
       "  'spell2Casts': 27,\n",
       "  'spell3Casts': 43,\n",
       "  'spell4Casts': 50,\n",
       "  'summoner1Casts': 5,\n",
       "  'summoner1Id': 14,\n",
       "  'summoner2Casts': 3,\n",
       "  'summoner2Id': 4,\n",
       "  'summonerId': '7xO_1MgupCC_czfNB1hGosh4viZpiDmIJm3esvBI-jJSm84',\n",
       "  'summonerLevel': 289,\n",
       "  'summonerName': 'Indexy',\n",
       "  'teamEarlySurrendered': False,\n",
       "  'teamId': 200,\n",
       "  'teamPosition': 'MIDDLE',\n",
       "  'timeCCingOthers': 24,\n",
       "  'timePlayed': 1694,\n",
       "  'totalDamageDealt': 122418,\n",
       "  'totalDamageDealtToChampions': 18120,\n",
       "  'totalDamageShieldedOnTeammates': 92,\n",
       "  'totalDamageTaken': 11390,\n",
       "  'totalHeal': 3480,\n",
       "  'totalHealsOnTeammates': 626,\n",
       "  'totalMinionsKilled': 168,\n",
       "  'totalTimeCCDealt': 103,\n",
       "  'totalTimeSpentDead': 48,\n",
       "  'totalUnitsHealed': 3,\n",
       "  'tripleKills': 0,\n",
       "  'trueDamageDealt': 11045,\n",
       "  'trueDamageDealtToChampions': 1574,\n",
       "  'trueDamageTaken': 605,\n",
       "  'turretKills': 3,\n",
       "  'turretTakedowns': 5,\n",
       "  'turretsLost': 4,\n",
       "  'unrealKills': 0,\n",
       "  'visionScore': 27,\n",
       "  'visionWardsBoughtInGame': 6,\n",
       "  'wardsKilled': 4,\n",
       "  'wardsPlaced': 8,\n",
       "  'win': True},\n",
       " {'assists': 11,\n",
       "  'baronKills': 0,\n",
       "  'bountyLevel': 5,\n",
       "  'champExperience': 12238,\n",
       "  'champLevel': 14,\n",
       "  'championId': 64,\n",
       "  'championName': 'LeeSin',\n",
       "  'championTransform': 0,\n",
       "  'consumablesPurchased': 8,\n",
       "  'damageDealtToBuildings': 1238,\n",
       "  'damageDealtToObjectives': 18348,\n",
       "  'damageDealtToTurrets': 1238,\n",
       "  'damageSelfMitigated': 36765,\n",
       "  'deaths': 3,\n",
       "  'detectorWardsPlaced': 7,\n",
       "  'doubleKills': 1,\n",
       "  'dragonKills': 3,\n",
       "  'firstBloodAssist': False,\n",
       "  'firstBloodKill': False,\n",
       "  'firstTowerAssist': False,\n",
       "  'firstTowerKill': False,\n",
       "  'gameEndedInEarlySurrender': False,\n",
       "  'gameEndedInSurrender': False,\n",
       "  'goldEarned': 11914,\n",
       "  'goldSpent': 10400,\n",
       "  'individualPosition': 'JUNGLE',\n",
       "  'inhibitorKills': 1,\n",
       "  'inhibitorTakedowns': 1,\n",
       "  'inhibitorsLost': 0,\n",
       "  'item0': 6630,\n",
       "  'item1': 1038,\n",
       "  'item2': 2055,\n",
       "  'item3': 3111,\n",
       "  'item4': 3053,\n",
       "  'item5': 1031,\n",
       "  'item6': 3340,\n",
       "  'itemsPurchased': 22,\n",
       "  'killingSprees': 2,\n",
       "  'kills': 7,\n",
       "  'lane': 'JUNGLE',\n",
       "  'largestCriticalStrike': 0,\n",
       "  'largestKillingSpree': 5,\n",
       "  'largestMultiKill': 2,\n",
       "  'longestTimeSpentLiving': 371,\n",
       "  'magicDamageDealt': 36852,\n",
       "  'magicDamageDealtToChampions': 2301,\n",
       "  'magicDamageTaken': 10040,\n",
       "  'neutralMinionsKilled': 140,\n",
       "  'nexusKills': 0,\n",
       "  'nexusLost': 0,\n",
       "  'nexusTakedowns': 1,\n",
       "  'objectivesStolen': 0,\n",
       "  'objectivesStolenAssists': 0,\n",
       "  'participantId': 7,\n",
       "  'pentaKills': 0,\n",
       "  'perks': {'statPerks': {'defense': 5003, 'flex': 5008, 'offense': 5005},\n",
       "   'styles': [{'description': 'primaryStyle',\n",
       "     'selections': [{'perk': 8010, 'var1': 240, 'var2': 0, 'var3': 0},\n",
       "      {'perk': 9111, 'var1': 1315, 'var2': 360, 'var3': 0},\n",
       "      {'perk': 9104, 'var1': 12, 'var2': 30, 'var3': 0},\n",
       "      {'perk': 8014, 'var1': 436, 'var2': 0, 'var3': 0}],\n",
       "     'style': 8000},\n",
       "    {'description': 'subStyle',\n",
       "     'selections': [{'perk': 8347, 'var1': 0, 'var2': 0, 'var3': 0},\n",
       "      {'perk': 8304, 'var1': 10, 'var2': 3, 'var3': 0}],\n",
       "     'style': 8300}]},\n",
       "  'physicalDamageDealt': 107340,\n",
       "  'physicalDamageDealtToChampions': 12221,\n",
       "  'physicalDamageTaken': 20051,\n",
       "  'profileIcon': 6,\n",
       "  'puuid': 'WtTsQKePbPTEtwvNVXSm97PwF5rmYj5T2qsHXRm8vlmR8hPBA5E3hf4hDC8S_5UHEMZkZOS9CfWEKQ',\n",
       "  'quadraKills': 0,\n",
       "  'riotIdName': '',\n",
       "  'riotIdTagline': '',\n",
       "  'role': 'NONE',\n",
       "  'sightWardsBoughtInGame': 0,\n",
       "  'spell1Casts': 227,\n",
       "  'spell2Casts': 228,\n",
       "  'spell3Casts': 156,\n",
       "  'spell4Casts': 9,\n",
       "  'summoner1Casts': 16,\n",
       "  'summoner1Id': 11,\n",
       "  'summoner2Casts': 4,\n",
       "  'summoner2Id': 4,\n",
       "  'summonerId': '5xZB9hXlCf440rn1sFoCGQ1V0GLnF4YphnetcbOP-4vllQ',\n",
       "  'summonerLevel': 502,\n",
       "  'summonerName': 'Hide on bush',\n",
       "  'teamEarlySurrendered': False,\n",
       "  'teamId': 200,\n",
       "  'teamPosition': 'JUNGLE',\n",
       "  'timeCCingOthers': 24,\n",
       "  'timePlayed': 1694,\n",
       "  'totalDamageDealt': 156355,\n",
       "  'totalDamageDealtToChampions': 15291,\n",
       "  'totalDamageShieldedOnTeammates': 331,\n",
       "  'totalDamageTaken': 31541,\n",
       "  'totalHeal': 11002,\n",
       "  'totalHealsOnTeammates': 0,\n",
       "  'totalMinionsKilled': 27,\n",
       "  'totalTimeCCDealt': 575,\n",
       "  'totalTimeSpentDead': 72,\n",
       "  'totalUnitsHealed': 1,\n",
       "  'tripleKills': 0,\n",
       "  'trueDamageDealt': 12162,\n",
       "  'trueDamageDealtToChampions': 768,\n",
       "  'trueDamageTaken': 1450,\n",
       "  'turretKills': 1,\n",
       "  'turretTakedowns': 3,\n",
       "  'turretsLost': 4,\n",
       "  'unrealKills': 0,\n",
       "  'visionScore': 35,\n",
       "  'visionWardsBoughtInGame': 8,\n",
       "  'wardsKilled': 9,\n",
       "  'wardsPlaced': 16,\n",
       "  'win': True},\n",
       " {'assists': 10,\n",
       "  'baronKills': 0,\n",
       "  'bountyLevel': 3,\n",
       "  'champExperience': 14637,\n",
       "  'champLevel': 15,\n",
       "  'championId': 126,\n",
       "  'championName': 'Jayce',\n",
       "  'championTransform': 0,\n",
       "  'consumablesPurchased': 3,\n",
       "  'damageDealtToBuildings': 7484,\n",
       "  'damageDealtToObjectives': 12911,\n",
       "  'damageDealtToTurrets': 7484,\n",
       "  'damageSelfMitigated': 9397,\n",
       "  'deaths': 0,\n",
       "  'detectorWardsPlaced': 2,\n",
       "  'doubleKills': 0,\n",
       "  'dragonKills': 1,\n",
       "  'firstBloodAssist': False,\n",
       "  'firstBloodKill': False,\n",
       "  'firstTowerAssist': False,\n",
       "  'firstTowerKill': False,\n",
       "  'gameEndedInEarlySurrender': False,\n",
       "  'gameEndedInSurrender': False,\n",
       "  'goldEarned': 12233,\n",
       "  'goldSpent': 11200,\n",
       "  'individualPosition': 'TOP',\n",
       "  'inhibitorKills': 0,\n",
       "  'inhibitorTakedowns': 1,\n",
       "  'inhibitorsLost': 0,\n",
       "  'item0': 3042,\n",
       "  'item1': 6692,\n",
       "  'item2': 3134,\n",
       "  'item3': 3158,\n",
       "  'item4': 3035,\n",
       "  'item5': 3133,\n",
       "  'item6': 3364,\n",
       "  'itemsPurchased': 23,\n",
       "  'killingSprees': 1,\n",
       "  'kills': 3,\n",
       "  'lane': 'TOP',\n",
       "  'largestCriticalStrike': 0,\n",
       "  'largestKillingSpree': 3,\n",
       "  'largestMultiKill': 1,\n",
       "  'longestTimeSpentLiving': 0,\n",
       "  'magicDamageDealt': 15943,\n",
       "  'magicDamageDealtToChampions': 1005,\n",
       "  'magicDamageTaken': 6810,\n",
       "  'neutralMinionsKilled': 37,\n",
       "  'nexusKills': 0,\n",
       "  'nexusLost': 0,\n",
       "  'nexusTakedowns': 1,\n",
       "  'objectivesStolen': 1,\n",
       "  'objectivesStolenAssists': 0,\n",
       "  'participantId': 8,\n",
       "  'pentaKills': 0,\n",
       "  'perks': {'statPerks': {'defense': 5003, 'flex': 5008, 'offense': 5008},\n",
       "   'styles': [{'description': 'primaryStyle',\n",
       "     'selections': [{'perk': 8010, 'var1': 62, 'var2': 0, 'var3': 0},\n",
       "      {'perk': 8009, 'var1': 2597, 'var2': 0, 'var3': 0},\n",
       "      {'perk': 9104, 'var1': 13, 'var2': 10, 'var3': 0},\n",
       "      {'perk': 8299, 'var1': 293, 'var2': 0, 'var3': 0}],\n",
       "     'style': 8000},\n",
       "    {'description': 'subStyle',\n",
       "     'selections': [{'perk': 8304, 'var1': 10, 'var2': 3, 'var3': 0},\n",
       "      {'perk': 8345, 'var1': 3, 'var2': 0, 'var3': 0}],\n",
       "     'style': 8300}]},\n",
       "  'physicalDamageDealt': 165016,\n",
       "  'physicalDamageDealtToChampions': 17825,\n",
       "  'physicalDamageTaken': 3565,\n",
       "  'profileIcon': 22,\n",
       "  'puuid': '6KNPMsWYUl43fbMegw4stpZwuqrWUUoQIRX1-1f9XVbIcDdQ_znlBPxf1PkSmT1wKaLwBc54ygUrCw',\n",
       "  'quadraKills': 0,\n",
       "  'riotIdName': '',\n",
       "  'riotIdTagline': '',\n",
       "  'role': 'SOLO',\n",
       "  'sightWardsBoughtInGame': 0,\n",
       "  'spell1Casts': 137,\n",
       "  'spell2Casts': 82,\n",
       "  'spell3Casts': 86,\n",
       "  'spell4Casts': 170,\n",
       "  'summoner1Casts': 2,\n",
       "  'summoner1Id': 12,\n",
       "  'summoner2Casts': 2,\n",
       "  'summoner2Id': 4,\n",
       "  'summonerId': 'yEvUgMLdRm0zbT3hlsjEFH9xRaAuGfCVAVY8o7HDEPEgfVMtheM2Jgprvw',\n",
       "  'summonerLevel': 45,\n",
       "  'summonerName': '피자호팡',\n",
       "  'teamEarlySurrendered': False,\n",
       "  'teamId': 200,\n",
       "  'teamPosition': 'TOP',\n",
       "  'timeCCingOthers': 2,\n",
       "  'timePlayed': 1694,\n",
       "  'totalDamageDealt': 200695,\n",
       "  'totalDamageDealtToChampions': 18831,\n",
       "  'totalDamageShieldedOnTeammates': 0,\n",
       "  'totalDamageTaken': 10506,\n",
       "  'totalHeal': 1299,\n",
       "  'totalHealsOnTeammates': 0,\n",
       "  'totalMinionsKilled': 228,\n",
       "  'totalTimeCCDealt': 121,\n",
       "  'totalTimeSpentDead': 0,\n",
       "  'totalUnitsHealed': 1,\n",
       "  'tripleKills': 0,\n",
       "  'trueDamageDealt': 19736,\n",
       "  'trueDamageDealtToChampions': 0,\n",
       "  'trueDamageTaken': 130,\n",
       "  'turretKills': 2,\n",
       "  'turretTakedowns': 5,\n",
       "  'turretsLost': 4,\n",
       "  'unrealKills': 0,\n",
       "  'visionScore': 29,\n",
       "  'visionWardsBoughtInGame': 2,\n",
       "  'wardsKilled': 6,\n",
       "  'wardsPlaced': 6,\n",
       "  'win': True},\n",
       " {'assists': 6,\n",
       "  'baronKills': 0,\n",
       "  'bountyLevel': 1,\n",
       "  'champExperience': 9728,\n",
       "  'champLevel': 12,\n",
       "  'championId': 69,\n",
       "  'championName': 'Cassiopeia',\n",
       "  'championTransform': 0,\n",
       "  'consumablesPurchased': 5,\n",
       "  'damageDealtToBuildings': 1445,\n",
       "  'damageDealtToObjectives': 9960,\n",
       "  'damageDealtToTurrets': 1445,\n",
       "  'damageSelfMitigated': 7519,\n",
       "  'deaths': 7,\n",
       "  'detectorWardsPlaced': 1,\n",
       "  'doubleKills': 0,\n",
       "  'dragonKills': 0,\n",
       "  'firstBloodAssist': False,\n",
       "  'firstBloodKill': False,\n",
       "  'firstTowerAssist': False,\n",
       "  'firstTowerKill': False,\n",
       "  'gameEndedInEarlySurrender': False,\n",
       "  'gameEndedInSurrender': False,\n",
       "  'goldEarned': 10025,\n",
       "  'goldSpent': 9335,\n",
       "  'individualPosition': 'BOTTOM',\n",
       "  'inhibitorKills': 0,\n",
       "  'inhibitorTakedowns': 1,\n",
       "  'inhibitorsLost': 0,\n",
       "  'item0': 3157,\n",
       "  'item1': 3070,\n",
       "  'item2': 2055,\n",
       "  'item3': 3102,\n",
       "  'item4': 0,\n",
       "  'item5': 6653,\n",
       "  'item6': 3363,\n",
       "  'itemsPurchased': 22,\n",
       "  'killingSprees': 0,\n",
       "  'kills': 4,\n",
       "  'lane': 'BOTTOM',\n",
       "  'largestCriticalStrike': 0,\n",
       "  'largestKillingSpree': 0,\n",
       "  'largestMultiKill': 1,\n",
       "  'longestTimeSpentLiving': 428,\n",
       "  'magicDamageDealt': 100087,\n",
       "  'magicDamageDealtToChampions': 10872,\n",
       "  'magicDamageTaken': 6979,\n",
       "  'neutralMinionsKilled': 5,\n",
       "  'nexusKills': 0,\n",
       "  'nexusLost': 0,\n",
       "  'nexusTakedowns': 1,\n",
       "  'objectivesStolen': 0,\n",
       "  'objectivesStolenAssists': 0,\n",
       "  'participantId': 9,\n",
       "  'pentaKills': 0,\n",
       "  'perks': {'statPerks': {'defense': 5002, 'flex': 5008, 'offense': 5007},\n",
       "   'styles': [{'description': 'primaryStyle',\n",
       "     'selections': [{'perk': 8010, 'var1': 125, 'var2': 0, 'var3': 0},\n",
       "      {'perk': 8009, 'var1': 1859, 'var2': 0, 'var3': 0},\n",
       "      {'perk': 9105, 'var1': 17, 'var2': 40, 'var3': 0},\n",
       "      {'perk': 8299, 'var1': 507, 'var2': 0, 'var3': 0}],\n",
       "     'style': 8000},\n",
       "    {'description': 'subStyle',\n",
       "     'selections': [{'perk': 8139, 'var1': 682, 'var2': 0, 'var3': 0},\n",
       "      {'perk': 8135, 'var1': 1245, 'var2': 5, 'var3': 0}],\n",
       "     'style': 8100}]},\n",
       "  'physicalDamageDealt': 7181,\n",
       "  'physicalDamageDealtToChampions': 50,\n",
       "  'physicalDamageTaken': 7232,\n",
       "  'profileIcon': 5063,\n",
       "  'puuid': 'X1oqF2m_5yBhA885PxuwIjX5b2-O60TZOTJvjPH0Hga6vxH_NkSrr1MnCugwHpWTFpUpsSoi0ajsfg',\n",
       "  'quadraKills': 0,\n",
       "  'riotIdName': '',\n",
       "  'riotIdTagline': '',\n",
       "  'role': 'CARRY',\n",
       "  'sightWardsBoughtInGame': 0,\n",
       "  'spell1Casts': 122,\n",
       "  'spell2Casts': 21,\n",
       "  'spell3Casts': 321,\n",
       "  'spell4Casts': 8,\n",
       "  'summoner1Casts': 4,\n",
       "  'summoner1Id': 4,\n",
       "  'summoner2Casts': 5,\n",
       "  'summoner2Id': 7,\n",
       "  'summonerId': '4sMNhb4iZa4saDtJodVxY1_vRGxAD3e2hYGhS1EEHhq_vrYcY1ain6smhg',\n",
       "  'summonerLevel': 54,\n",
       "  'summonerName': '라데시 너어',\n",
       "  'teamEarlySurrendered': False,\n",
       "  'teamId': 200,\n",
       "  'teamPosition': 'BOTTOM',\n",
       "  'timeCCingOthers': 15,\n",
       "  'timePlayed': 1694,\n",
       "  'totalDamageDealt': 107269,\n",
       "  'totalDamageDealtToChampions': 10923,\n",
       "  'totalDamageShieldedOnTeammates': 0,\n",
       "  'totalDamageTaken': 14488,\n",
       "  'totalHeal': 3158,\n",
       "  'totalHealsOnTeammates': 456,\n",
       "  'totalMinionsKilled': 188,\n",
       "  'totalTimeCCDealt': 234,\n",
       "  'totalTimeSpentDead': 184,\n",
       "  'totalUnitsHealed': 3,\n",
       "  'tripleKills': 0,\n",
       "  'trueDamageDealt': 0,\n",
       "  'trueDamageDealtToChampions': 0,\n",
       "  'trueDamageTaken': 276,\n",
       "  'turretKills': 0,\n",
       "  'turretTakedowns': 4,\n",
       "  'turretsLost': 4,\n",
       "  'unrealKills': 0,\n",
       "  'visionScore': 18,\n",
       "  'visionWardsBoughtInGame': 3,\n",
       "  'wardsKilled': 4,\n",
       "  'wardsPlaced': 7,\n",
       "  'win': True},\n",
       " {'assists': 9,\n",
       "  'baronKills': 0,\n",
       "  'bountyLevel': 1,\n",
       "  'champExperience': 9230,\n",
       "  'champLevel': 12,\n",
       "  'championId': 526,\n",
       "  'championName': 'Rell',\n",
       "  'championTransform': 0,\n",
       "  'consumablesPurchased': 14,\n",
       "  'damageDealtToBuildings': 399,\n",
       "  'damageDealtToObjectives': 2156,\n",
       "  'damageDealtToTurrets': 399,\n",
       "  'damageSelfMitigated': 16712,\n",
       "  'deaths': 3,\n",
       "  'detectorWardsPlaced': 12,\n",
       "  'doubleKills': 0,\n",
       "  'dragonKills': 0,\n",
       "  'firstBloodAssist': False,\n",
       "  'firstBloodKill': False,\n",
       "  'firstTowerAssist': False,\n",
       "  'firstTowerKill': False,\n",
       "  'gameEndedInEarlySurrender': False,\n",
       "  'gameEndedInSurrender': False,\n",
       "  'goldEarned': 7153,\n",
       "  'goldSpent': 6300,\n",
       "  'individualPosition': 'UTILITY',\n",
       "  'inhibitorKills': 0,\n",
       "  'inhibitorTakedowns': 1,\n",
       "  'inhibitorsLost': 0,\n",
       "  'item0': 3190,\n",
       "  'item1': 3860,\n",
       "  'item2': 0,\n",
       "  'item3': 2421,\n",
       "  'item4': 3076,\n",
       "  'item5': 3158,\n",
       "  'item6': 3364,\n",
       "  'itemsPurchased': 26,\n",
       "  'killingSprees': 0,\n",
       "  'kills': 3,\n",
       "  'lane': 'BOTTOM',\n",
       "  'largestCriticalStrike': 1,\n",
       "  'largestKillingSpree': 0,\n",
       "  'largestMultiKill': 1,\n",
       "  'longestTimeSpentLiving': 758,\n",
       "  'magicDamageDealt': 8727,\n",
       "  'magicDamageDealtToChampions': 3206,\n",
       "  'magicDamageTaken': 7416,\n",
       "  'neutralMinionsKilled': 0,\n",
       "  'nexusKills': 0,\n",
       "  'nexusLost': 0,\n",
       "  'nexusTakedowns': 1,\n",
       "  'objectivesStolen': 0,\n",
       "  'objectivesStolenAssists': 0,\n",
       "  'participantId': 10,\n",
       "  'pentaKills': 0,\n",
       "  'perks': {'statPerks': {'defense': 5003, 'flex': 5002, 'offense': 5007},\n",
       "   'styles': [{'description': 'primaryStyle',\n",
       "     'selections': [{'perk': 8439, 'var1': 245, 'var2': 0, 'var3': 0},\n",
       "      {'perk': 8463, 'var1': 267, 'var2': 0, 'var3': 0},\n",
       "      {'perk': 8444, 'var1': 640, 'var2': 0, 'var3': 0},\n",
       "      {'perk': 8242, 'var1': 28, 'var2': 0, 'var3': 0}],\n",
       "     'style': 8400},\n",
       "    {'description': 'subStyle',\n",
       "     'selections': [{'perk': 8306, 'var1': 3, 'var2': 0, 'var3': 0},\n",
       "      {'perk': 8347, 'var1': 0, 'var2': 0, 'var3': 0}],\n",
       "     'style': 8300}]},\n",
       "  'physicalDamageDealt': 4451,\n",
       "  'physicalDamageDealtToChampions': 224,\n",
       "  'physicalDamageTaken': 4631,\n",
       "  'profileIcon': 4301,\n",
       "  'puuid': '2nOdCLN3-YEfC12GuVKIPBeDKtQuownkfCSDcx5HpH9283WE8Yj5W-qbte7oFuYyNjhgmCxR26WQzA',\n",
       "  'quadraKills': 0,\n",
       "  'riotIdName': '',\n",
       "  'riotIdTagline': '',\n",
       "  'role': 'SUPPORT',\n",
       "  'sightWardsBoughtInGame': 0,\n",
       "  'spell1Casts': 44,\n",
       "  'spell2Casts': 25,\n",
       "  'spell3Casts': 55,\n",
       "  'spell4Casts': 5,\n",
       "  'summoner1Casts': 4,\n",
       "  'summoner1Id': 14,\n",
       "  'summoner2Casts': 7,\n",
       "  'summoner2Id': 4,\n",
       "  'summonerId': '9FjvrRCKu0Rf4QRljTlybi4yhpaAPQgFUDe4NrYTmynxMEo0O9UtyFp8ZA',\n",
       "  'summonerLevel': 58,\n",
       "  'summonerName': '언젠가만나게되는',\n",
       "  'teamEarlySurrendered': False,\n",
       "  'teamId': 200,\n",
       "  'teamPosition': 'UTILITY',\n",
       "  'timeCCingOthers': 16,\n",
       "  'timePlayed': 1694,\n",
       "  'totalDamageDealt': 21587,\n",
       "  'totalDamageDealtToChampions': 4041,\n",
       "  'totalDamageShieldedOnTeammates': 224,\n",
       "  'totalDamageTaken': 12319,\n",
       "  'totalHeal': 1792,\n",
       "  'totalHealsOnTeammates': 280,\n",
       "  'totalMinionsKilled': 32,\n",
       "  'totalTimeCCDealt': 32,\n",
       "  'totalTimeSpentDead': 80,\n",
       "  'totalUnitsHealed': 4,\n",
       "  'tripleKills': 0,\n",
       "  'trueDamageDealt': 8408,\n",
       "  'trueDamageDealtToChampions': 610,\n",
       "  'trueDamageTaken': 271,\n",
       "  'turretKills': 0,\n",
       "  'turretTakedowns': 3,\n",
       "  'turretsLost': 4,\n",
       "  'unrealKills': 0,\n",
       "  'visionScore': 46,\n",
       "  'visionWardsBoughtInGame': 12,\n",
       "  'wardsKilled': 3,\n",
       "  'wardsPlaced': 37,\n",
       "  'win': True}]"
      ]
     },
     "execution_count": 143,
     "metadata": {},
     "output_type": "execute_result"
    }
   ],
   "source": [
    "sample_json['info']['participants']"
   ]
  },
  {
   "cell_type": "code",
   "execution_count": 119,
   "id": "6c7d2b0b",
   "metadata": {
    "ExecuteTime": {
     "end_time": "2021-10-13T07:42:47.414443Z",
     "start_time": "2021-10-13T07:42:47.407452Z"
    }
   },
   "outputs": [
    {
     "data": {
      "text/plain": [
       "dict_keys(['statPerks', 'styles'])"
      ]
     },
     "execution_count": 119,
     "metadata": {},
     "output_type": "execute_result"
    }
   ],
   "source": [
    "part_user['perks'].keys()"
   ]
  },
  {
   "cell_type": "code",
   "execution_count": 132,
   "id": "e39c2d32",
   "metadata": {
    "ExecuteTime": {
     "end_time": "2021-10-13T08:46:15.175697Z",
     "start_time": "2021-10-13T08:46:15.162740Z"
    }
   },
   "outputs": [],
   "source": [
    "del part_user['perks']"
   ]
  },
  {
   "cell_type": "code",
   "execution_count": 146,
   "id": "37bb85e1",
   "metadata": {
    "ExecuteTime": {
     "end_time": "2021-10-13T09:11:38.143385Z",
     "start_time": "2021-10-13T09:11:38.119449Z"
    },
    "scrolled": true
   },
   "outputs": [
    {
     "data": {
      "text/plain": [
       "{'assists': 6,\n",
       " 'baronKills': 0,\n",
       " 'bountyLevel': 0,\n",
       " 'champExperience': 10207,\n",
       " 'champLevel': 13,\n",
       " 'championId': 26,\n",
       " 'championName': 'Zilean',\n",
       " 'championTransform': 0,\n",
       " 'consumablesPurchased': 3,\n",
       " 'damageDealtToBuildings': 2768,\n",
       " 'damageDealtToObjectives': 3039,\n",
       " 'damageDealtToTurrets': 2768,\n",
       " 'damageSelfMitigated': 3792,\n",
       " 'deaths': 3,\n",
       " 'detectorWardsPlaced': 3,\n",
       " 'doubleKills': 0,\n",
       " 'dragonKills': 0,\n",
       " 'firstBloodAssist': False,\n",
       " 'firstBloodKill': False,\n",
       " 'firstTowerAssist': False,\n",
       " 'firstTowerKill': False,\n",
       " 'gameEndedInEarlySurrender': False,\n",
       " 'gameEndedInSurrender': False,\n",
       " 'goldEarned': 8045,\n",
       " 'goldSpent': 7775,\n",
       " 'individualPosition': 'TOP',\n",
       " 'inhibitorKills': 0,\n",
       " 'inhibitorTakedowns': 0,\n",
       " 'inhibitorsLost': 1,\n",
       " 'item0': 2033,\n",
       " 'item1': 3158,\n",
       " 'item2': 3165,\n",
       " 'item3': 1028,\n",
       " 'item4': 6656,\n",
       " 'item5': 0,\n",
       " 'item6': 3340,\n",
       " 'itemsPurchased': 17,\n",
       " 'killingSprees': 0,\n",
       " 'kills': 0,\n",
       " 'lane': 'TOP',\n",
       " 'largestCriticalStrike': 0,\n",
       " 'largestKillingSpree': 0,\n",
       " 'largestMultiKill': 0,\n",
       " 'longestTimeSpentLiving': 865,\n",
       " 'magicDamageDealt': 56082,\n",
       " 'magicDamageDealtToChampions': 5403,\n",
       " 'magicDamageTaken': 3651,\n",
       " 'neutralMinionsKilled': 0,\n",
       " 'nexusKills': 0,\n",
       " 'nexusLost': 1,\n",
       " 'nexusTakedowns': 0,\n",
       " 'objectivesStolen': 0,\n",
       " 'objectivesStolenAssists': 0,\n",
       " 'participantId': 1,\n",
       " 'pentaKills': 0,\n",
       " 'physicalDamageDealt': 8435,\n",
       " 'physicalDamageDealtToChampions': 291,\n",
       " 'physicalDamageTaken': 6297,\n",
       " 'profileIcon': 4658,\n",
       " 'puuid': 'miX-Ec18NSvbEfg7ZVC5U2gMGUnWrFWNtPF1rrVShw8sUBjphcQ95z16kSySlYl3Z-UX4uBQt9whmw',\n",
       " 'quadraKills': 0,\n",
       " 'riotIdName': '',\n",
       " 'riotIdTagline': '',\n",
       " 'role': 'SOLO',\n",
       " 'sightWardsBoughtInGame': 0,\n",
       " 'spell1Casts': 152,\n",
       " 'spell2Casts': 56,\n",
       " 'spell3Casts': 72,\n",
       " 'spell4Casts': 6,\n",
       " 'summoner1Casts': 2,\n",
       " 'summoner1Id': 12,\n",
       " 'summoner2Casts': 2,\n",
       " 'summoner2Id': 4,\n",
       " 'summonerId': 'TiNMpbFkriHvXOBRIN8HTjtI3d_GhDUU7OHXTEQZjtU-1bvy',\n",
       " 'summonerLevel': 78,\n",
       " 'summonerName': '험악한분위기조성',\n",
       " 'teamEarlySurrendered': False,\n",
       " 'teamId': 100,\n",
       " 'teamPosition': 'TOP',\n",
       " 'timeCCingOthers': 13,\n",
       " 'timePlayed': 1694,\n",
       " 'totalDamageDealt': 69078,\n",
       " 'totalDamageDealtToChampions': 5694,\n",
       " 'totalDamageShieldedOnTeammates': 1171,\n",
       " 'totalDamageTaken': 10342,\n",
       " 'totalHeal': 4912,\n",
       " 'totalHealsOnTeammates': 3902,\n",
       " 'totalMinionsKilled': 132,\n",
       " 'totalTimeCCDealt': 133,\n",
       " 'totalTimeSpentDead': 115,\n",
       " 'totalUnitsHealed': 5,\n",
       " 'tripleKills': 0,\n",
       " 'trueDamageDealt': 4560,\n",
       " 'trueDamageDealtToChampions': 0,\n",
       " 'trueDamageTaken': 393,\n",
       " 'turretKills': 2,\n",
       " 'turretTakedowns': 3,\n",
       " 'turretsLost': 6,\n",
       " 'unrealKills': 0,\n",
       " 'visionScore': 31,\n",
       " 'visionWardsBoughtInGame': 3,\n",
       " 'wardsKilled': 5,\n",
       " 'wardsPlaced': 12,\n",
       " 'win': False}"
      ]
     },
     "execution_count": 146,
     "metadata": {},
     "output_type": "execute_result"
    }
   ],
   "source": [
    "part_user"
   ]
  },
  {
   "cell_type": "markdown",
   "id": "0c73d286",
   "metadata": {},
   "source": [
    "#### Preprocessing function"
   ]
  },
  {
   "cell_type": "code",
   "execution_count": 97,
   "id": "493ba300",
   "metadata": {
    "ExecuteTime": {
     "end_time": "2021-10-13T09:32:29.886110Z",
     "start_time": "2021-10-13T09:32:29.879127Z"
    }
   },
   "outputs": [],
   "source": [
    "def riot_json_preprocessing(json_data):\n",
    "    json_data = json.loads(json_data)\n",
    "    matchid = json_data['metadata']['matchId']\n",
    "    \n",
    "    return_dfs = []\n",
    "    for json_user in json_data['info']['participants']:\n",
    "        return_dict = {}\n",
    "        perks = str(json_user['perks'])\n",
    "        del json_user['perks']\n",
    "    \n",
    "        json_user['matchId'] = matchid\n",
    "        json_user['perks'] = perks\n",
    "        return_dfs.append(pd.DataFrame(json_user,index=[0]))\n",
    "    \n",
    "    return pd.concat(return_dfs).reset_index(drop=True)"
   ]
  },
  {
   "cell_type": "markdown",
   "id": "0c422c67",
   "metadata": {},
   "source": [
    "#### Make bind data"
   ]
  },
  {
   "cell_type": "code",
   "execution_count": 95,
   "id": "63f7c700",
   "metadata": {
    "ExecuteTime": {
     "end_time": "2021-10-13T09:44:46.782502Z",
     "start_time": "2021-10-13T09:44:46.287826Z"
    }
   },
   "outputs": [],
   "source": [
    "data_path = glob('C:/Users/rsh15/Desktop/seunghuni/lol_analysis/data/hide on bush/*.json')\n",
    "raw_json = []\n",
    "for path in data_path:\n",
    "    with open(path,'r') as f:\n",
    "        raw_json.append(json.load(f))"
   ]
  },
  {
   "cell_type": "code",
   "execution_count": 98,
   "id": "d70cd8ff",
   "metadata": {
    "ExecuteTime": {
     "end_time": "2021-10-13T09:50:00.437155Z",
     "start_time": "2021-10-13T09:49:38.005538Z"
    }
   },
   "outputs": [
    {
     "data": {
      "text/plain": "   assists  baronKills  bountyLevel  champExperience  champLevel  championId  \\\n0        6           0            0            14987          16         887   \n1       10           1            0            12992          14          78   \n2        7           0            2            16214          16         236   \n3        9           0            7            14664          15         110   \n4       19           0            0             9690          12         412   \n\n  championName  championTransform  consumablesPurchased  \\\n0         Gwen                  0                     3   \n1        Poppy                  0                     6   \n2       Lucian                  0                     8   \n3        Varus                  0                     4   \n4       Thresh                  0                    12   \n\n   damageDealtToBuildings  ...  visionScore  visionWardsBoughtInGame  \\\n0                    5715  ...           15                        2   \n1                    2646  ...           32                        6   \n2                    9738  ...           49                        7   \n3                    5347  ...           23                        1   \n4                     587  ...           61                       10   \n\n   wardsKilled  wardsPlaced   win        matchId  \\\n0            1            6  True  KR_5265344658   \n1            5            6  True  KR_5265344658   \n2           13           16  True  KR_5265344658   \n3            6            6  True  KR_5265344658   \n4            7           34  True  KR_5265344658   \n\n                                               perks  inhibitorTakedowns  \\\n0  {'statPerks': {'defense': 5002, 'flex': 5008, ...                 NaN   \n1  {'statPerks': {'defense': 5002, 'flex': 5008, ...                 NaN   \n2  {'statPerks': {'defense': 5003, 'flex': 5008, ...                 NaN   \n3  {'statPerks': {'defense': 5002, 'flex': 5008, ...                 NaN   \n4  {'statPerks': {'defense': 5002, 'flex': 5003, ...                 NaN   \n\n   nexusTakedowns  turretTakedowns  \n0             NaN              NaN  \n1             NaN              NaN  \n2             NaN              NaN  \n3             NaN              NaN  \n4             NaN              NaN  \n\n[5 rows x 106 columns]",
      "text/html": "<div>\n<style scoped>\n    .dataframe tbody tr th:only-of-type {\n        vertical-align: middle;\n    }\n\n    .dataframe tbody tr th {\n        vertical-align: top;\n    }\n\n    .dataframe thead th {\n        text-align: right;\n    }\n</style>\n<table border=\"1\" class=\"dataframe\">\n  <thead>\n    <tr style=\"text-align: right;\">\n      <th></th>\n      <th>assists</th>\n      <th>baronKills</th>\n      <th>bountyLevel</th>\n      <th>champExperience</th>\n      <th>champLevel</th>\n      <th>championId</th>\n      <th>championName</th>\n      <th>championTransform</th>\n      <th>consumablesPurchased</th>\n      <th>damageDealtToBuildings</th>\n      <th>...</th>\n      <th>visionScore</th>\n      <th>visionWardsBoughtInGame</th>\n      <th>wardsKilled</th>\n      <th>wardsPlaced</th>\n      <th>win</th>\n      <th>matchId</th>\n      <th>perks</th>\n      <th>inhibitorTakedowns</th>\n      <th>nexusTakedowns</th>\n      <th>turretTakedowns</th>\n    </tr>\n  </thead>\n  <tbody>\n    <tr>\n      <th>0</th>\n      <td>6</td>\n      <td>0</td>\n      <td>0</td>\n      <td>14987</td>\n      <td>16</td>\n      <td>887</td>\n      <td>Gwen</td>\n      <td>0</td>\n      <td>3</td>\n      <td>5715</td>\n      <td>...</td>\n      <td>15</td>\n      <td>2</td>\n      <td>1</td>\n      <td>6</td>\n      <td>True</td>\n      <td>KR_5265344658</td>\n      <td>{'statPerks': {'defense': 5002, 'flex': 5008, ...</td>\n      <td>NaN</td>\n      <td>NaN</td>\n      <td>NaN</td>\n    </tr>\n    <tr>\n      <th>1</th>\n      <td>10</td>\n      <td>1</td>\n      <td>0</td>\n      <td>12992</td>\n      <td>14</td>\n      <td>78</td>\n      <td>Poppy</td>\n      <td>0</td>\n      <td>6</td>\n      <td>2646</td>\n      <td>...</td>\n      <td>32</td>\n      <td>6</td>\n      <td>5</td>\n      <td>6</td>\n      <td>True</td>\n      <td>KR_5265344658</td>\n      <td>{'statPerks': {'defense': 5002, 'flex': 5008, ...</td>\n      <td>NaN</td>\n      <td>NaN</td>\n      <td>NaN</td>\n    </tr>\n    <tr>\n      <th>2</th>\n      <td>7</td>\n      <td>0</td>\n      <td>2</td>\n      <td>16214</td>\n      <td>16</td>\n      <td>236</td>\n      <td>Lucian</td>\n      <td>0</td>\n      <td>8</td>\n      <td>9738</td>\n      <td>...</td>\n      <td>49</td>\n      <td>7</td>\n      <td>13</td>\n      <td>16</td>\n      <td>True</td>\n      <td>KR_5265344658</td>\n      <td>{'statPerks': {'defense': 5003, 'flex': 5008, ...</td>\n      <td>NaN</td>\n      <td>NaN</td>\n      <td>NaN</td>\n    </tr>\n    <tr>\n      <th>3</th>\n      <td>9</td>\n      <td>0</td>\n      <td>7</td>\n      <td>14664</td>\n      <td>15</td>\n      <td>110</td>\n      <td>Varus</td>\n      <td>0</td>\n      <td>4</td>\n      <td>5347</td>\n      <td>...</td>\n      <td>23</td>\n      <td>1</td>\n      <td>6</td>\n      <td>6</td>\n      <td>True</td>\n      <td>KR_5265344658</td>\n      <td>{'statPerks': {'defense': 5002, 'flex': 5008, ...</td>\n      <td>NaN</td>\n      <td>NaN</td>\n      <td>NaN</td>\n    </tr>\n    <tr>\n      <th>4</th>\n      <td>19</td>\n      <td>0</td>\n      <td>0</td>\n      <td>9690</td>\n      <td>12</td>\n      <td>412</td>\n      <td>Thresh</td>\n      <td>0</td>\n      <td>12</td>\n      <td>587</td>\n      <td>...</td>\n      <td>61</td>\n      <td>10</td>\n      <td>7</td>\n      <td>34</td>\n      <td>True</td>\n      <td>KR_5265344658</td>\n      <td>{'statPerks': {'defense': 5002, 'flex': 5003, ...</td>\n      <td>NaN</td>\n      <td>NaN</td>\n      <td>NaN</td>\n    </tr>\n  </tbody>\n</table>\n<p>5 rows × 106 columns</p>\n</div>"
     },
     "execution_count": 98,
     "metadata": {},
     "output_type": "execute_result"
    }
   ],
   "source": [
    "faker_df = list(map(riot_json_preprocessing,raw_json))\n",
    "faker_df = pd.concat(faker_df)\n",
    "faker_df = faker_df.reset_index(drop=True)\n",
    "faker_df.head(5)"
   ]
  },
  {
   "cell_type": "code",
   "execution_count": 99,
   "id": "ac1d71d2",
   "metadata": {
    "ExecuteTime": {
     "end_time": "2021-10-13T10:13:02.607186Z",
     "start_time": "2021-10-13T10:13:02.342503Z"
    }
   },
   "outputs": [],
   "source": [
    "#faker_df.to_csv('C:/Users/rsh15/Desktop/seunghuni/lol_analysis/data/hide on bush/faker_df.csv',index=False,encoding='utf-8-sig')"
   ]
  },
  {
   "cell_type": "markdown",
   "id": "5db3d66a",
   "metadata": {},
   "source": [
    "### eda"
   ]
  },
  {
   "cell_type": "markdown",
   "id": "2e775dbd",
   "metadata": {},
   "source": [
    "#### 가장 많이 만난 유저?"
   ]
  },
  {
   "cell_type": "code",
   "execution_count": 100,
   "id": "7a345df8",
   "metadata": {
    "ExecuteTime": {
     "end_time": "2021-10-13T14:41:32.493898Z",
     "start_time": "2021-10-13T14:41:32.449018Z"
    }
   },
   "outputs": [
    {
     "data": {
      "text/plain": "          summonerName  size\n302       Hide on bush   527\n527           T1 Canna    21\n1144              고등학생    21\n114               BJ갈배    21\n414              Mocha    16\n366   La Casa de PapeI    15\n165          Cuzzzzzzz    14\n1789             현주입니다    14\n1325              무인데용    13\n1669          짜요짜요먹고싶어    12\n1251          데아시두스이어링    12\n268       Gen G Rascal    12\n121           BRO Hena    12\n147               COCG    12\n1683           처피뱅 카와이    12\n1753             폭탄치우기    12\n342            KT Dove    12\n314             Indexy    11\n375         Let me sup    11\n1197          나는변신할것이다    11",
      "text/html": "<div>\n<style scoped>\n    .dataframe tbody tr th:only-of-type {\n        vertical-align: middle;\n    }\n\n    .dataframe tbody tr th {\n        vertical-align: top;\n    }\n\n    .dataframe thead th {\n        text-align: right;\n    }\n</style>\n<table border=\"1\" class=\"dataframe\">\n  <thead>\n    <tr style=\"text-align: right;\">\n      <th></th>\n      <th>summonerName</th>\n      <th>size</th>\n    </tr>\n  </thead>\n  <tbody>\n    <tr>\n      <th>302</th>\n      <td>Hide on bush</td>\n      <td>527</td>\n    </tr>\n    <tr>\n      <th>527</th>\n      <td>T1 Canna</td>\n      <td>21</td>\n    </tr>\n    <tr>\n      <th>1144</th>\n      <td>고등학생</td>\n      <td>21</td>\n    </tr>\n    <tr>\n      <th>114</th>\n      <td>BJ갈배</td>\n      <td>21</td>\n    </tr>\n    <tr>\n      <th>414</th>\n      <td>Mocha</td>\n      <td>16</td>\n    </tr>\n    <tr>\n      <th>366</th>\n      <td>La Casa de PapeI</td>\n      <td>15</td>\n    </tr>\n    <tr>\n      <th>165</th>\n      <td>Cuzzzzzzz</td>\n      <td>14</td>\n    </tr>\n    <tr>\n      <th>1789</th>\n      <td>현주입니다</td>\n      <td>14</td>\n    </tr>\n    <tr>\n      <th>1325</th>\n      <td>무인데용</td>\n      <td>13</td>\n    </tr>\n    <tr>\n      <th>1669</th>\n      <td>짜요짜요먹고싶어</td>\n      <td>12</td>\n    </tr>\n    <tr>\n      <th>1251</th>\n      <td>데아시두스이어링</td>\n      <td>12</td>\n    </tr>\n    <tr>\n      <th>268</th>\n      <td>Gen G Rascal</td>\n      <td>12</td>\n    </tr>\n    <tr>\n      <th>121</th>\n      <td>BRO Hena</td>\n      <td>12</td>\n    </tr>\n    <tr>\n      <th>147</th>\n      <td>COCG</td>\n      <td>12</td>\n    </tr>\n    <tr>\n      <th>1683</th>\n      <td>처피뱅 카와이</td>\n      <td>12</td>\n    </tr>\n    <tr>\n      <th>1753</th>\n      <td>폭탄치우기</td>\n      <td>12</td>\n    </tr>\n    <tr>\n      <th>342</th>\n      <td>KT Dove</td>\n      <td>12</td>\n    </tr>\n    <tr>\n      <th>314</th>\n      <td>Indexy</td>\n      <td>11</td>\n    </tr>\n    <tr>\n      <th>375</th>\n      <td>Let me sup</td>\n      <td>11</td>\n    </tr>\n    <tr>\n      <th>1197</th>\n      <td>나는변신할것이다</td>\n      <td>11</td>\n    </tr>\n  </tbody>\n</table>\n</div>"
     },
     "execution_count": 100,
     "metadata": {},
     "output_type": "execute_result"
    }
   ],
   "source": [
    "faker_df.groupby('summonerName',as_index=False).size().sort_values('size',ascending=False)[0:20]"
   ]
  },
  {
   "cell_type": "markdown",
   "id": "923cb8c4",
   "metadata": {},
   "source": [
    "#### 어떤 챔피언을 많이 썼을까?"
   ]
  },
  {
   "cell_type": "code",
   "execution_count": 237,
   "outputs": [],
   "source": [
    "champions_count = faker_df[faker_df['summonerName']=='Hide on bush'].groupby(\n",
    "    'championName',as_index=True)['win'].agg(['mean','count']).sort_values('count',ascending=False)\n",
    "total_champ = len(champions_count)\n",
    "champions_count = champions_count[champions_count['count']>5]\n",
    "win_df = champions_count['count'] * champions_count['mean']\n",
    "win_rt = [str(round(x * 100,1)) + '%' for x in champions_count['mean']]"
   ],
   "metadata": {
    "collapsed": false,
    "pycharm": {
     "name": "#%%\n"
    }
   }
  },
  {
   "cell_type": "code",
   "execution_count": 238,
   "id": "5838935e",
   "metadata": {
    "ExecuteTime": {
     "end_time": "2021-10-13T17:35:37.490009Z",
     "start_time": "2021-10-13T17:35:36.000745Z"
    }
   },
   "outputs": [
    {
     "name": "stdout",
     "output_type": "stream",
     "text": [
      "총 사용된 챔피언 76개, 그 중 5게임 이상 사용된 챔피언 24개\n"
     ]
    },
    {
     "data": {
      "text/plain": "<Figure size 1440x648 with 1 Axes>",
      "image/png": "[encoded data removed]"
     },
     "metadata": {
      "needs_background": "light"
     },
     "output_type": "display_data"
    }
   ],
   "source": [
    "print('총 사용된 챔피언 {}개, 그 중 5게임 이상 사용된 챔피언 {}개'.format(total_champ,len(champions_count)))\n",
    "champions_count.plot.bar(y='count',figsize=(20,9),width=0.7,legend=None);\n",
    "win_df.plot.bar(color='orange',width=0.7)\n",
    "plt.legend(['총 판수','승리한 판수'])\n",
    "for a in range(len(champions_count)):\n",
    "    plt.text(a-0.3,champions_count['count'][a]+1,win_rt[a]);\n",
    "plt.xticks(rotation=45);"
   ]
  },
  {
   "cell_type": "markdown",
   "id": "521ba98a",
   "metadata": {},
   "source": [
    "#### 퍼블 & 어시스트?"
   ]
  },
  {
   "cell_type": "code",
   "execution_count": 269,
   "id": "06622a89",
   "metadata": {
    "ExecuteTime": {
     "end_time": "2021-10-13T18:32:42.335390Z",
     "start_time": "2021-10-13T18:32:42.048556Z"
    },
    "pycharm": {
     "name": "#%%\n"
    }
   },
   "outputs": [
    {
     "data": {
      "text/plain": "<Figure size 720x432 with 1 Axes>",
      "image/png": "[encoded data removed]"
     },
     "metadata": {
      "needs_background": "light"
     },
     "output_type": "display_data"
    }
   ],
   "source": [
    "first_blood_win = faker_df[['matchId','teamId','firstBloodKill','win']].drop_duplicates().groupby('firstBloodKill')['win'].mean()\n",
    "\n",
    "plt.figure(figsize=(10,6))\n",
    "first_blood_win.plot.bar()\n",
    "plt.text(0-0.02,first_blood_win[0]+0.01,first_blood_win[0])\n",
    "plt.text(1-0.02,first_blood_win[1]+0.01,round(first_blood_win[1],2))\n",
    "plt.xticks(rotation=0);\n",
    "plt.ylim(0,0.65);"
   ]
  },
  {
   "cell_type": "markdown",
   "source": [
    "#### 여기다?"
   ],
   "metadata": {
    "collapsed": false,
    "pycharm": {
     "name": "#%% md\n"
    }
   }
  },
  {
   "cell_type": "code",
   "execution_count": 270,
   "outputs": [
    {
     "data": {
      "text/plain": "Index(['assists', 'baronKills', 'bountyLevel', 'champExperience', 'champLevel',\n       'championId', 'championName', 'championTransform',\n       'consumablesPurchased', 'damageDealtToBuildings',\n       ...\n       'visionScore', 'visionWardsBoughtInGame', 'wardsKilled', 'wardsPlaced',\n       'win', 'matchId', 'perks', 'inhibitorTakedowns', 'nexusTakedowns',\n       'turretTakedowns'],\n      dtype='object', length=106)"
     },
     "execution_count": 270,
     "metadata": {},
     "output_type": "execute_result"
    }
   ],
   "source": [
    "faker_df.columns"
   ],
   "metadata": {
    "collapsed": false,
    "pycharm": {
     "name": "#%%\n"
    }
   }
  },
  {
   "cell_type": "code",
   "execution_count": 275,
   "outputs": [
    {
     "data": {
      "text/plain": "array(['MIDDLE', 'NONE', 'TOP', 'JUNGLE', 'BOTTOM'], dtype=object)"
     },
     "execution_count": 275,
     "metadata": {},
     "output_type": "execute_result"
    }
   ],
   "source": [
    "faker_df[faker_df['summonerName']=='Hide on bush']['lane'].unique()"
   ],
   "metadata": {
    "collapsed": false,
    "pycharm": {
     "name": "#%%\n"
    }
   }
  },
  {
   "cell_type": "code",
   "execution_count": 278,
   "outputs": [
    {
     "data": {
      "text/plain": "        0    1\n0  BOTTOM   67\n1  JUNGLE   33\n2  MIDDLE  268\n3    NONE  117\n4     TOP   42",
      "text/html": "<div>\n<style scoped>\n    .dataframe tbody tr th:only-of-type {\n        vertical-align: middle;\n    }\n\n    .dataframe tbody tr th {\n        vertical-align: top;\n    }\n\n    .dataframe thead th {\n        text-align: right;\n    }\n</style>\n<table border=\"1\" class=\"dataframe\">\n  <thead>\n    <tr style=\"text-align: right;\">\n      <th></th>\n      <th>0</th>\n      <th>1</th>\n    </tr>\n  </thead>\n  <tbody>\n    <tr>\n      <th>0</th>\n      <td>BOTTOM</td>\n      <td>67</td>\n    </tr>\n    <tr>\n      <th>1</th>\n      <td>JUNGLE</td>\n      <td>33</td>\n    </tr>\n    <tr>\n      <th>2</th>\n      <td>MIDDLE</td>\n      <td>268</td>\n    </tr>\n    <tr>\n      <th>3</th>\n      <td>NONE</td>\n      <td>117</td>\n    </tr>\n    <tr>\n      <th>4</th>\n      <td>TOP</td>\n      <td>42</td>\n    </tr>\n  </tbody>\n</table>\n</div>"
     },
     "execution_count": 278,
     "metadata": {},
     "output_type": "execute_result"
    }
   ],
   "source": [
    "pd.DataFrame(np.unique(faker_df[faker_df['summonerName']=='Hide on bush']['lane'],return_counts=True)).T"
   ],
   "metadata": {
    "collapsed": false,
    "pycharm": {
     "name": "#%%\n"
    }
   }
  },
  {
   "cell_type": "code",
   "execution_count": null,
   "outputs": [],
   "source": [],
   "metadata": {
    "collapsed": false,
    "pycharm": {
     "name": "#%%\n"
    }
   }
  }
 ],
 "metadata": {
  "kernelspec": {
   "display_name": "seunghun",
   "language": "python",
   "name": "seunghun"
  },
  "language_info": {
   "codemirror_mode": {
    "name": "ipython",
    "version": 3
   },
   "file_extension": ".py",
   "mimetype": "text/x-python",
   "name": "python",
   "nbconvert_exporter": "python",
   "pygments_lexer": "ipython3",
   "version": "3.8.0"
  },
  "toc": {
   "base_numbering": 1,
   "nav_menu": {},
   "number_sections": true,
   "sideBar": true,
   "skip_h1_title": true,
   "title_cell": "Table of Contents",
   "title_sidebar": "Contents",
   "toc_cell": false,
   "toc_position": {
    "height": "999.091px",
    "left": "167px",
    "top": "158.619px",
    "width": "310.412px"
   },
   "toc_section_display": true,
   "toc_window_display": true
  },
  "varInspector": {
   "cols": {
    "lenName": 16,
    "lenType": 16,
    "lenVar": 40
   },
   "kernels_config": {
    "python": {
     "delete_cmd_postfix": "",
     "delete_cmd_prefix": "del ",
     "library": "var_list.py",
     "varRefreshCmd": "print(var_dic_list())"
    },
    "r": {
     "delete_cmd_postfix": ") ",
     "delete_cmd_prefix": "rm(",
     "library": "var_list.r",
     "varRefreshCmd": "cat(var_dic_list()) "
    }
   },
   "types_to_exclude": [
    "module",
    "function",
    "builtin_function_or_method",
    "instance",
    "_Feature"
   ],
   "window_display": false
  }
 },
 "nbformat": 4,
 "nbformat_minor": 5
}