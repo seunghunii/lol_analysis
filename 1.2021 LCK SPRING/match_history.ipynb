{
 "cells": [
  {
   "cell_type": "code",
   "execution_count": 1,
   "metadata": {
    "ExecuteTime": {
     "end_time": "2021-05-31T16:46:34.416898Z",
     "start_time": "2021-05-31T16:46:32.488399Z"
    }
   },
   "outputs": [],
   "source": [
    "import pandas as pd\n",
    "from bs4 import BeautifulSoup as bs\n",
    "from selenium import webdriver\n",
    "import matplotlib as mpl\n",
    "import requests\n",
    "import re"
   ]
  },
  {
   "cell_type": "code",
   "execution_count": 2,
   "metadata": {
    "ExecuteTime": {
     "end_time": "2021-05-31T16:46:34.432038Z",
     "start_time": "2021-05-31T16:46:34.418896Z"
    }
   },
   "outputs": [],
   "source": [
    "import warnings\n",
    "warnings.filterwarnings(action='ignore')\n",
    "\n",
    "from IPython.core.interactiveshell import InteractiveShell\n",
    "InteractiveShell.ast_node_interactivity = \"all\"\n",
    "\n",
    "mpl.rcParams['font.family'] = \"Malgun Gothic\""
   ]
  },
  {
   "cell_type": "code",
   "execution_count": 3,
   "metadata": {
    "ExecuteTime": {
     "end_time": "2021-05-31T16:46:38.678117Z",
     "start_time": "2021-05-31T16:46:34.435031Z"
    }
   },
   "outputs": [
    {
     "data": {
      "text/plain": [
       "(215, 36)"
      ]
     },
     "execution_count": 3,
     "metadata": {},
     "output_type": "execute_result"
    }
   ],
   "source": [
    "url2 = 'https://lol.gamepedia.com/Special:RunQuery/PickBanHistory?PBH%5Bpage%5D=LCK+2021+Spring&PBH%5Btextonly%5D=Yes&pfRunQueryFormName=PickBanHistory'\n",
    "ban_pick = pd.read_html(url2,encoding='utf-8')\n",
    "ban_pick_df = pd.DataFrame(ban_pick[0])\n",
    "ban_pick_df.columns = ban_pick_df.columns.droplevel()\n",
    "ban_pick_df.shape"
   ]
  },
  {
   "cell_type": "code",
   "execution_count": 4,
   "metadata": {
    "ExecuteTime": {
     "end_time": "2021-05-31T16:46:38.724627Z",
     "start_time": "2021-05-31T16:46:38.681101Z"
    }
   },
   "outputs": [
    {
     "data": {
      "text/html": [
       "<div>\n",
       "<style scoped>\n",
       "    .dataframe tbody tr th:only-of-type {\n",
       "        vertical-align: middle;\n",
       "    }\n",
       "\n",
       "    .dataframe tbody tr th {\n",
       "        vertical-align: top;\n",
       "    }\n",
       "\n",
       "    .dataframe thead th {\n",
       "        text-align: right;\n",
       "    }\n",
       "</style>\n",
       "<table border=\"1\" class=\"dataframe\">\n",
       "  <thead>\n",
       "    <tr style=\"text-align: right;\">\n",
       "      <th></th>\n",
       "      <th>Phase</th>\n",
       "      <th>Blue</th>\n",
       "      <th>Red</th>\n",
       "      <th>Score</th>\n",
       "      <th>Winner</th>\n",
       "      <th>Patch</th>\n",
       "      <th>BB1</th>\n",
       "      <th>RB1</th>\n",
       "      <th>BB2</th>\n",
       "      <th>RB2</th>\n",
       "      <th>...</th>\n",
       "      <th>BR4</th>\n",
       "      <th>BR5</th>\n",
       "      <th>RR1</th>\n",
       "      <th>RR2</th>\n",
       "      <th>RR3</th>\n",
       "      <th>RR4</th>\n",
       "      <th>RR5</th>\n",
       "      <th>SB</th>\n",
       "      <th>MH</th>\n",
       "      <th>VOD</th>\n",
       "    </tr>\n",
       "  </thead>\n",
       "  <tbody>\n",
       "    <tr>\n",
       "      <th>0</th>\n",
       "      <td>Week 10</td>\n",
       "      <td>Liiv SANDBOX</td>\n",
       "      <td>DRX</td>\n",
       "      <td>2 - 1</td>\n",
       "      <td>1</td>\n",
       "      <td>11.5</td>\n",
       "      <td>Seraphine</td>\n",
       "      <td>Gragas</td>\n",
       "      <td>Renekton</td>\n",
       "      <td>Hecarim</td>\n",
       "      <td>...</td>\n",
       "      <td>Mid</td>\n",
       "      <td>Top</td>\n",
       "      <td>Jungle</td>\n",
       "      <td>Bot</td>\n",
       "      <td>Top</td>\n",
       "      <td>Support</td>\n",
       "      <td>Mid</td>\n",
       "      <td>SB</td>\n",
       "      <td>http://matchhistory.na.leagueoflegends.com/en/...</td>\n",
       "      <td>https://youtu.be/JwiT-V9vmBk?t=18143</td>\n",
       "    </tr>\n",
       "    <tr>\n",
       "      <th>1</th>\n",
       "      <td>Week 10</td>\n",
       "      <td>DRX</td>\n",
       "      <td>Liiv SANDBOX</td>\n",
       "      <td>1 - 1</td>\n",
       "      <td>1</td>\n",
       "      <td>11.5</td>\n",
       "      <td>Thresh</td>\n",
       "      <td>Seraphine</td>\n",
       "      <td>Azir</td>\n",
       "      <td>Udyr</td>\n",
       "      <td>...</td>\n",
       "      <td>Bot</td>\n",
       "      <td>Support</td>\n",
       "      <td>Top</td>\n",
       "      <td>Jungle</td>\n",
       "      <td>Bot</td>\n",
       "      <td>Mid</td>\n",
       "      <td>Support</td>\n",
       "      <td>SB</td>\n",
       "      <td>http://matchhistory.na.leagueoflegends.com/en/...</td>\n",
       "      <td>https://youtu.be/JwiT-V9vmBk?t=14846</td>\n",
       "    </tr>\n",
       "    <tr>\n",
       "      <th>2</th>\n",
       "      <td>Week 10</td>\n",
       "      <td>Liiv SANDBOX</td>\n",
       "      <td>DRX</td>\n",
       "      <td>1 - 0</td>\n",
       "      <td>1</td>\n",
       "      <td>11.5</td>\n",
       "      <td>Thresh</td>\n",
       "      <td>Camille</td>\n",
       "      <td>Renekton</td>\n",
       "      <td>Hecarim</td>\n",
       "      <td>...</td>\n",
       "      <td>Mid</td>\n",
       "      <td>Support</td>\n",
       "      <td>Jungle</td>\n",
       "      <td>Bot</td>\n",
       "      <td>Top</td>\n",
       "      <td>Mid</td>\n",
       "      <td>Support</td>\n",
       "      <td>SB</td>\n",
       "      <td>http://matchhistory.na.leagueoflegends.com/en/...</td>\n",
       "      <td>https://youtu.be/JwiT-V9vmBk?t=10860</td>\n",
       "    </tr>\n",
       "    <tr>\n",
       "      <th>3</th>\n",
       "      <td>Week 10</td>\n",
       "      <td>T1</td>\n",
       "      <td>Hanwha Life Esports</td>\n",
       "      <td>2 - 0</td>\n",
       "      <td>1</td>\n",
       "      <td>11.5</td>\n",
       "      <td>Lucian</td>\n",
       "      <td>Seraphine</td>\n",
       "      <td>Renekton</td>\n",
       "      <td>Hecarim</td>\n",
       "      <td>...</td>\n",
       "      <td>Bot</td>\n",
       "      <td>Support</td>\n",
       "      <td>Jungle</td>\n",
       "      <td>Top</td>\n",
       "      <td>Bot</td>\n",
       "      <td>Support</td>\n",
       "      <td>Mid</td>\n",
       "      <td>SB</td>\n",
       "      <td>http://matchhistory.na.leagueoflegends.com/en/...</td>\n",
       "      <td>https://youtu.be/JwiT-V9vmBk?t=4829</td>\n",
       "    </tr>\n",
       "    <tr>\n",
       "      <th>4</th>\n",
       "      <td>Week 10</td>\n",
       "      <td>Hanwha Life Esports</td>\n",
       "      <td>T1</td>\n",
       "      <td>0 - 1</td>\n",
       "      <td>2</td>\n",
       "      <td>11.5</td>\n",
       "      <td>Gnar</td>\n",
       "      <td>Lucian</td>\n",
       "      <td>Udyr</td>\n",
       "      <td>Sion</td>\n",
       "      <td>...</td>\n",
       "      <td>Bot</td>\n",
       "      <td>Support</td>\n",
       "      <td>Mid</td>\n",
       "      <td>Bot</td>\n",
       "      <td>Support</td>\n",
       "      <td>Jungle</td>\n",
       "      <td>Top</td>\n",
       "      <td>SB</td>\n",
       "      <td>http://matchhistory.na.leagueoflegends.com/en/...</td>\n",
       "      <td>https://youtu.be/JwiT-V9vmBk?t=1737</td>\n",
       "    </tr>\n",
       "    <tr>\n",
       "      <th>...</th>\n",
       "      <td>...</td>\n",
       "      <td>...</td>\n",
       "      <td>...</td>\n",
       "      <td>...</td>\n",
       "      <td>...</td>\n",
       "      <td>...</td>\n",
       "      <td>...</td>\n",
       "      <td>...</td>\n",
       "      <td>...</td>\n",
       "      <td>...</td>\n",
       "      <td>...</td>\n",
       "      <td>...</td>\n",
       "      <td>...</td>\n",
       "      <td>...</td>\n",
       "      <td>...</td>\n",
       "      <td>...</td>\n",
       "      <td>...</td>\n",
       "      <td>...</td>\n",
       "      <td>...</td>\n",
       "      <td>...</td>\n",
       "      <td>...</td>\n",
       "    </tr>\n",
       "    <tr>\n",
       "      <th>210</th>\n",
       "      <td>Week 1</td>\n",
       "      <td>T1</td>\n",
       "      <td>Hanwha Life Esports</td>\n",
       "      <td>2 - 1</td>\n",
       "      <td>1</td>\n",
       "      <td>11.1</td>\n",
       "      <td>Lucian</td>\n",
       "      <td>Pantheon</td>\n",
       "      <td>Akali</td>\n",
       "      <td>Aphelios</td>\n",
       "      <td>...</td>\n",
       "      <td>Support</td>\n",
       "      <td>Mid</td>\n",
       "      <td>Jungle</td>\n",
       "      <td>Bot</td>\n",
       "      <td>Top</td>\n",
       "      <td>Support</td>\n",
       "      <td>Mid</td>\n",
       "      <td>SB</td>\n",
       "      <td>http://matchhistory.na.leagueoflegends.com/en/...</td>\n",
       "      <td>https://www.youtube.com/watch?v=J9FpxhAAqW0</td>\n",
       "    </tr>\n",
       "    <tr>\n",
       "      <th>211</th>\n",
       "      <td>Week 1</td>\n",
       "      <td>Hanwha Life Esports</td>\n",
       "      <td>T1</td>\n",
       "      <td>1 - 1</td>\n",
       "      <td>1</td>\n",
       "      <td>11.1</td>\n",
       "      <td>Lucian</td>\n",
       "      <td>Taliyah</td>\n",
       "      <td>Akali</td>\n",
       "      <td>Renekton</td>\n",
       "      <td>...</td>\n",
       "      <td>Support</td>\n",
       "      <td>Mid</td>\n",
       "      <td>Jungle</td>\n",
       "      <td>Mid</td>\n",
       "      <td>Bot</td>\n",
       "      <td>Top</td>\n",
       "      <td>Support</td>\n",
       "      <td>SB</td>\n",
       "      <td>http://matchhistory.na.leagueoflegends.com/en/...</td>\n",
       "      <td>https://www.youtube.com/watch?v=WQhPkLRJugo</td>\n",
       "    </tr>\n",
       "    <tr>\n",
       "      <th>212</th>\n",
       "      <td>Week 1</td>\n",
       "      <td>T1</td>\n",
       "      <td>Hanwha Life Esports</td>\n",
       "      <td>1 - 0</td>\n",
       "      <td>1</td>\n",
       "      <td>11.1</td>\n",
       "      <td>Lucian</td>\n",
       "      <td>Pantheon</td>\n",
       "      <td>Azir</td>\n",
       "      <td>Taliyah</td>\n",
       "      <td>...</td>\n",
       "      <td>Mid</td>\n",
       "      <td>Top</td>\n",
       "      <td>Bot</td>\n",
       "      <td>Jungle</td>\n",
       "      <td>Support</td>\n",
       "      <td>Mid</td>\n",
       "      <td>Top</td>\n",
       "      <td>SB</td>\n",
       "      <td>http://matchhistory.na.leagueoflegends.com/en/...</td>\n",
       "      <td>https://www.youtube.com/watch?v=6dk49hjLDTs</td>\n",
       "    </tr>\n",
       "    <tr>\n",
       "      <th>213</th>\n",
       "      <td>Week 1</td>\n",
       "      <td>KT Rolster</td>\n",
       "      <td>Gen.G</td>\n",
       "      <td>0 - 2</td>\n",
       "      <td>2</td>\n",
       "      <td>11.1</td>\n",
       "      <td>Gragas</td>\n",
       "      <td>Samira</td>\n",
       "      <td>Nidalee</td>\n",
       "      <td>Taliyah</td>\n",
       "      <td>...</td>\n",
       "      <td>Mid</td>\n",
       "      <td>Top</td>\n",
       "      <td>Bot</td>\n",
       "      <td>Jungle</td>\n",
       "      <td>Support</td>\n",
       "      <td>Mid</td>\n",
       "      <td>Top</td>\n",
       "      <td>SB</td>\n",
       "      <td>http://matchhistory.na.leagueoflegends.com/en/...</td>\n",
       "      <td>https://youtu.be/LXQ2hehVkw4</td>\n",
       "    </tr>\n",
       "    <tr>\n",
       "      <th>214</th>\n",
       "      <td>Week 1</td>\n",
       "      <td>Gen.G</td>\n",
       "      <td>KT Rolster</td>\n",
       "      <td>1 - 0</td>\n",
       "      <td>1</td>\n",
       "      <td>11.1</td>\n",
       "      <td>Samira</td>\n",
       "      <td>Gragas</td>\n",
       "      <td>Akali</td>\n",
       "      <td>Pantheon</td>\n",
       "      <td>...</td>\n",
       "      <td>Support</td>\n",
       "      <td>Mid</td>\n",
       "      <td>Support</td>\n",
       "      <td>Jungle</td>\n",
       "      <td>Bot</td>\n",
       "      <td>Top</td>\n",
       "      <td>Mid</td>\n",
       "      <td>SB</td>\n",
       "      <td>http://matchhistory.na.leagueoflegends.com/en/...</td>\n",
       "      <td>https://youtu.be/GnRZVAaYgXo?t=1</td>\n",
       "    </tr>\n",
       "  </tbody>\n",
       "</table>\n",
       "<p>215 rows × 36 columns</p>\n",
       "</div>"
      ],
      "text/plain": [
       "       Phase                 Blue                  Red  Score  Winner  Patch  \\\n",
       "0    Week 10         Liiv SANDBOX                  DRX  2 - 1       1   11.5   \n",
       "1    Week 10                  DRX         Liiv SANDBOX  1 - 1       1   11.5   \n",
       "2    Week 10         Liiv SANDBOX                  DRX  1 - 0       1   11.5   \n",
       "3    Week 10                   T1  Hanwha Life Esports  2 - 0       1   11.5   \n",
       "4    Week 10  Hanwha Life Esports                   T1  0 - 1       2   11.5   \n",
       "..       ...                  ...                  ...    ...     ...    ...   \n",
       "210   Week 1                   T1  Hanwha Life Esports  2 - 1       1   11.1   \n",
       "211   Week 1  Hanwha Life Esports                   T1  1 - 1       1   11.1   \n",
       "212   Week 1                   T1  Hanwha Life Esports  1 - 0       1   11.1   \n",
       "213   Week 1           KT Rolster                Gen.G  0 - 2       2   11.1   \n",
       "214   Week 1                Gen.G           KT Rolster  1 - 0       1   11.1   \n",
       "\n",
       "           BB1        RB1       BB2       RB2  ...      BR4      BR5      RR1  \\\n",
       "0    Seraphine     Gragas  Renekton   Hecarim  ...      Mid      Top   Jungle   \n",
       "1       Thresh  Seraphine      Azir      Udyr  ...      Bot  Support      Top   \n",
       "2       Thresh    Camille  Renekton   Hecarim  ...      Mid  Support   Jungle   \n",
       "3       Lucian  Seraphine  Renekton   Hecarim  ...      Bot  Support   Jungle   \n",
       "4         Gnar     Lucian      Udyr      Sion  ...      Bot  Support      Mid   \n",
       "..         ...        ...       ...       ...  ...      ...      ...      ...   \n",
       "210     Lucian   Pantheon     Akali  Aphelios  ...  Support      Mid   Jungle   \n",
       "211     Lucian    Taliyah     Akali  Renekton  ...  Support      Mid   Jungle   \n",
       "212     Lucian   Pantheon      Azir   Taliyah  ...      Mid      Top      Bot   \n",
       "213     Gragas     Samira   Nidalee   Taliyah  ...      Mid      Top      Bot   \n",
       "214     Samira     Gragas     Akali  Pantheon  ...  Support      Mid  Support   \n",
       "\n",
       "        RR2      RR3      RR4      RR5  SB  \\\n",
       "0       Bot      Top  Support      Mid  SB   \n",
       "1    Jungle      Bot      Mid  Support  SB   \n",
       "2       Bot      Top      Mid  Support  SB   \n",
       "3       Top      Bot  Support      Mid  SB   \n",
       "4       Bot  Support   Jungle      Top  SB   \n",
       "..      ...      ...      ...      ...  ..   \n",
       "210     Bot      Top  Support      Mid  SB   \n",
       "211     Mid      Bot      Top  Support  SB   \n",
       "212  Jungle  Support      Mid      Top  SB   \n",
       "213  Jungle  Support      Mid      Top  SB   \n",
       "214  Jungle      Bot      Top      Mid  SB   \n",
       "\n",
       "                                                    MH  \\\n",
       "0    http://matchhistory.na.leagueoflegends.com/en/...   \n",
       "1    http://matchhistory.na.leagueoflegends.com/en/...   \n",
       "2    http://matchhistory.na.leagueoflegends.com/en/...   \n",
       "3    http://matchhistory.na.leagueoflegends.com/en/...   \n",
       "4    http://matchhistory.na.leagueoflegends.com/en/...   \n",
       "..                                                 ...   \n",
       "210  http://matchhistory.na.leagueoflegends.com/en/...   \n",
       "211  http://matchhistory.na.leagueoflegends.com/en/...   \n",
       "212  http://matchhistory.na.leagueoflegends.com/en/...   \n",
       "213  http://matchhistory.na.leagueoflegends.com/en/...   \n",
       "214  http://matchhistory.na.leagueoflegends.com/en/...   \n",
       "\n",
       "                                             VOD  \n",
       "0           https://youtu.be/JwiT-V9vmBk?t=18143  \n",
       "1           https://youtu.be/JwiT-V9vmBk?t=14846  \n",
       "2           https://youtu.be/JwiT-V9vmBk?t=10860  \n",
       "3            https://youtu.be/JwiT-V9vmBk?t=4829  \n",
       "4            https://youtu.be/JwiT-V9vmBk?t=1737  \n",
       "..                                           ...  \n",
       "210  https://www.youtube.com/watch?v=J9FpxhAAqW0  \n",
       "211  https://www.youtube.com/watch?v=WQhPkLRJugo  \n",
       "212  https://www.youtube.com/watch?v=6dk49hjLDTs  \n",
       "213                 https://youtu.be/LXQ2hehVkw4  \n",
       "214             https://youtu.be/GnRZVAaYgXo?t=1  \n",
       "\n",
       "[215 rows x 36 columns]"
      ]
     },
     "execution_count": 4,
     "metadata": {},
     "output_type": "execute_result"
    }
   ],
   "source": [
    "ban_pick_df"
   ]
  },
  {
   "cell_type": "code",
   "execution_count": 5,
   "metadata": {
    "ExecuteTime": {
     "end_time": "2021-05-31T16:46:38.740549Z",
     "start_time": "2021-05-31T16:46:38.727585Z"
    }
   },
   "outputs": [
    {
     "name": "stdout",
     "output_type": "stream",
     "text": [
      "10\n"
     ]
    }
   ],
   "source": [
    "teams = ban_pick_df['Red'].unique()\n",
    "teams = [k.replace(' ','+') for k in teams]\n",
    "print(len(teams))"
   ]
  },
  {
   "cell_type": "code",
   "execution_count": 6,
   "metadata": {
    "ExecuteTime": {
     "end_time": "2021-05-31T16:46:49.773779Z",
     "start_time": "2021-05-31T16:46:38.742545Z"
    }
   },
   "outputs": [],
   "source": [
    "urls_list = []\n",
    "for team in teams:\n",
    "    url_new = 'https://lol.fandom.com/wiki/Special:RunQuery/PickBanHistory?pfRunQueryFormName=PickBanHistory&PBH%5Bpage%5D=LCK+2021+Spring&PBH%5Bteam%5D={0}&PBH%5Btextonly%5D%5Bis_checkbox%5D=true&PBH%5Btextonly%5D%5Bvalue%5D=1&wpRunQuery=Run+query&pf_free_text='\n",
    "    urls = url_new.format(team)\n",
    "    \n",
    "    html2 = requests.get(urls).text\n",
    "    soup2 = bs(html2,'html.parser')\n",
    "    \n",
    "    tmp_parsed2 = soup2.find_all('a',{'target' : '_blank',\n",
    "                                      'rel' : 'nofollow noreferrer noopener',\n",
    "                                      'class' : 'external free',\n",
    "                                      'href' : re.compile('http://matchhistory')})\n",
    "                                                  \n",
    "    tmp_list = [k.text for k in tmp_parsed2]\n",
    "    urls_list += tmp_list\n",
    "urls_list = list(set(urls_list))"
   ]
  },
  {
   "cell_type": "code",
   "execution_count": 7,
   "metadata": {
    "ExecuteTime": {
     "end_time": "2021-05-31T16:46:49.789777Z",
     "start_time": "2021-05-31T16:46:49.775776Z"
    }
   },
   "outputs": [],
   "source": [
    "# basic link for selenium\n",
    "link_sel = 'C:/Users/rsh15/Desktop/바탕/seunghuni/selenium'"
   ]
  },
  {
   "cell_type": "code",
   "execution_count": 13,
   "metadata": {
    "ExecuteTime": {
     "end_time": "2021-05-31T16:52:45.968517Z",
     "start_time": "2021-05-31T16:52:42.361036Z"
    }
   },
   "outputs": [],
   "source": [
    "browser = webdriver.Chrome(link_sel+'/chromedriver.exe')\n",
    "browser.get(urls_list[0])\n",
    "# browser.maximize_window()"
   ]
  },
  {
   "cell_type": "code",
   "execution_count": 14,
   "metadata": {
    "ExecuteTime": {
     "end_time": "2021-05-31T16:54:31.057927Z",
     "start_time": "2021-05-31T16:54:31.018034Z"
    }
   },
   "outputs": [],
   "source": [
    "html = browser.page_source\n",
    "soup = bs(html,'html.parser')"
   ]
  },
  {
   "cell_type": "code",
   "execution_count": 15,
   "metadata": {
    "ExecuteTime": {
     "end_time": "2021-05-31T16:54:32.035517Z",
     "start_time": "2021-05-31T16:54:32.026580Z"
    }
   },
   "outputs": [
    {
     "data": {
      "text/plain": [
       "True"
      ]
     },
     "execution_count": 15,
     "metadata": {},
     "output_type": "execute_result"
    }
   ],
   "source": [
    "if_signin = soup.find_all('h5',{'data-testid':'panel-title'})[0]\n",
    "if_signin.text == 'Sign In'"
   ]
  },
  {
   "cell_type": "code",
   "execution_count": 17,
   "metadata": {
    "ExecuteTime": {
     "end_time": "2021-05-31T16:57:40.170190Z",
     "start_time": "2021-05-31T16:57:39.863478Z"
    }
   },
   "outputs": [],
   "source": [
    "browser.find_element_by_name('username').send_keys('dbtmdgns1502')\n",
    "browser.find_element_by_name('password').send_keys('simon1304!')\n",
    "browser.find_element_by_css_selector('body > div > div > div > div.grid.grid-direction__row.grid-page-web__content > div > div > button').click()"
   ]
  },
  {
   "cell_type": "code",
   "execution_count": 18,
   "metadata": {
    "ExecuteTime": {
     "end_time": "2021-05-31T16:57:52.052978Z",
     "start_time": "2021-05-31T16:57:49.687735Z"
    }
   },
   "outputs": [
    {
     "data": {
      "text/plain": [
       "'30:01'"
      ]
     },
     "execution_count": 18,
     "metadata": {},
     "output_type": "execute_result"
    }
   ],
   "source": [
    "mh_html = bs(browser.page_source,'html.parser')\n",
    "match_time = mh_html.find_all('div',{'id':'binding-698',\n",
    "                              'class':'binding'})[0].text\n",
    "match_time"
   ]
  },
  {
   "cell_type": "code",
   "execution_count": null,
   "metadata": {
    "ExecuteTime": {
     "end_time": "2021-05-31T16:46:54.516942Z",
     "start_time": "2021-05-31T16:46:32.509Z"
    }
   },
   "outputs": [],
   "source": [
    "mh_html.find_all('div',{'class':'tower-kills'})\n"
   ]
  },
  {
   "cell_type": "code",
   "execution_count": null,
   "metadata": {
    "ExecuteTime": {
     "end_time": "2021-05-31T16:46:54.517939Z",
     "start_time": "2021-05-31T16:46:32.511Z"
    }
   },
   "outputs": [],
   "source": [
    "obj_tags = ['tower-kills','inhibitor-kills','baron-kills','dragon-kills','rift-herald-kills']\n",
    "tmp_dict = dict()\n",
    "for tag in obj_tags:\n",
    "    tmp_html = mh_html.find_all('div',{'class':tag})\n",
    "    tmp_dict['blue_'+tag] = int(tmp_html[0].text.strip())\n",
    "    tmp_dict['red_'+tag]  = int(tmp_html[1].text.strip())\n"
   ]
  },
  {
   "cell_type": "code",
   "execution_count": null,
   "metadata": {
    "ExecuteTime": {
     "end_time": "2021-05-31T16:46:54.519934Z",
     "start_time": "2021-05-31T16:46:32.512Z"
    }
   },
   "outputs": [],
   "source": [
    "tmp_dict"
   ]
  },
  {
   "cell_type": "code",
   "execution_count": null,
   "metadata": {
    "ExecuteTime": {
     "end_time": "2021-05-31T16:46:54.520931Z",
     "start_time": "2021-05-31T16:46:32.514Z"
    }
   },
   "outputs": [],
   "source": [
    "browser.find_element_by_id('tab-695').click()"
   ]
  },
  {
   "cell_type": "code",
   "execution_count": null,
   "metadata": {
    "ExecuteTime": {
     "end_time": "2021-05-31T16:46:54.521929Z",
     "start_time": "2021-05-31T16:46:32.515Z"
    }
   },
   "outputs": [],
   "source": [
    "mh_table_html = bs(browser.page_source,'html.parser')\n",
    "mh_table_html = mh_table_html.find_all('div',{'class':'champion-icon binding'})\n",
    "mh_table_html"
   ]
  }
 ],
 "metadata": {
  "kernelspec": {
   "display_name": "Python 3 (ipykernel)",
   "language": "python",
   "name": "python3"
  },
  "language_info": {
   "codemirror_mode": {
    "name": "ipython",
    "version": 3
   },
   "file_extension": ".py",
   "mimetype": "text/x-python",
   "name": "python",
   "nbconvert_exporter": "python",
   "pygments_lexer": "ipython3",
   "version": "3.8.11"
  },
  "toc": {
   "base_numbering": 1,
   "nav_menu": {},
   "number_sections": true,
   "sideBar": true,
   "skip_h1_title": false,
   "title_cell": "Table of Contents",
   "title_sidebar": "Contents",
   "toc_cell": false,
   "toc_position": {},
   "toc_section_display": true,
   "toc_window_display": false
  },
  "varInspector": {
   "cols": {
    "lenName": 16,
    "lenType": 16,
    "lenVar": 40
   },
   "kernels_config": {
    "python": {
     "delete_cmd_postfix": "",
     "delete_cmd_prefix": "del ",
     "library": "var_list.py",
     "varRefreshCmd": "print(var_dic_list())"
    },
    "r": {
     "delete_cmd_postfix": ") ",
     "delete_cmd_prefix": "rm(",
     "library": "var_list.r",
     "varRefreshCmd": "cat(var_dic_list()) "
    }
   },
   "types_to_exclude": [
    "module",
    "function",
    "builtin_function_or_method",
    "instance",
    "_Feature"
   ],
   "window_display": false
  }
 },
 "nbformat": 4,
 "nbformat_minor": 4
}
