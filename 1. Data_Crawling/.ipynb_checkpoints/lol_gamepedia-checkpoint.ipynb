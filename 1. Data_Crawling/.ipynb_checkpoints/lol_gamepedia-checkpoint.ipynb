{
 "cells": [
  {
   "cell_type": "markdown",
   "metadata": {},
   "source": [
    "# Prepare"
   ]
  },
  {
   "cell_type": "code",
   "execution_count": 222,
   "metadata": {
    "ExecuteTime": {
     "end_time": "2021-04-22T19:54:45.452625Z",
     "start_time": "2021-04-22T19:54:45.442641Z"
    }
   },
   "outputs": [],
   "source": [
    "import pandas as pd\n",
    "import numpy as np\n",
    "import matplotlib.pyplot as plt\n",
    "import seaborn as sns\n",
    "import requests\n",
    "from bs4 import BeautifulSoup as bs"
   ]
  },
  {
   "cell_type": "code",
   "execution_count": 223,
   "metadata": {
    "ExecuteTime": {
     "end_time": "2021-04-22T19:54:46.027288Z",
     "start_time": "2021-04-22T19:54:46.016111Z"
    }
   },
   "outputs": [],
   "source": [
    "urls = 'https://lol.gamepedia.com/LCK/2021_Season/Spring_Season/Match_History'"
   ]
  },
  {
   "cell_type": "markdown",
   "metadata": {},
   "source": [
    "# Read table data"
   ]
  },
  {
   "cell_type": "markdown",
   "metadata": {},
   "source": [
    " * Blue, Red, Winner 데이터는 비어있고, 벤픽 데이터는 NaN입니다. 이미지로 되어있기 때문에 따로 가져와서 넣어줘야 합니다."
   ]
  },
  {
   "cell_type": "code",
   "execution_count": 224,
   "metadata": {
    "ExecuteTime": {
     "end_time": "2021-04-22T19:54:49.712305Z",
     "start_time": "2021-04-22T19:54:48.056261Z"
    }
   },
   "outputs": [
    {
     "data": {
      "text/html": [
       "<div>\n",
       "<style scoped>\n",
       "    .dataframe tbody tr th:only-of-type {\n",
       "        vertical-align: middle;\n",
       "    }\n",
       "\n",
       "    .dataframe tbody tr th {\n",
       "        vertical-align: top;\n",
       "    }\n",
       "\n",
       "    .dataframe thead tr th {\n",
       "        text-align: left;\n",
       "    }\n",
       "</style>\n",
       "<table border=\"1\" class=\"dataframe\">\n",
       "  <thead>\n",
       "    <tr>\n",
       "      <th></th>\n",
       "      <th colspan=\"14\" halign=\"left\">Tournament: LCK/2021 Season/Spring Season; Limit: 200 - Open As Query</th>\n",
       "    </tr>\n",
       "    <tr>\n",
       "      <th></th>\n",
       "      <th>Date</th>\n",
       "      <th>P</th>\n",
       "      <th>Blue</th>\n",
       "      <th>Red</th>\n",
       "      <th>Winner</th>\n",
       "      <th>Bans</th>\n",
       "      <th>Bans.1</th>\n",
       "      <th>Picks</th>\n",
       "      <th>Picks.1</th>\n",
       "      <th>Blue Roster</th>\n",
       "      <th>Red Roster</th>\n",
       "      <th>SB</th>\n",
       "      <th>MH</th>\n",
       "      <th>VOD</th>\n",
       "    </tr>\n",
       "  </thead>\n",
       "  <tbody>\n",
       "    <tr>\n",
       "      <th>0</th>\n",
       "      <td>2021-03-28</td>\n",
       "      <td>11.5</td>\n",
       "      <td>⁠⁠</td>\n",
       "      <td>⁠⁠</td>\n",
       "      <td>⁠⁠</td>\n",
       "      <td>NaN</td>\n",
       "      <td>NaN</td>\n",
       "      <td>NaN</td>\n",
       "      <td>NaN</td>\n",
       "      <td>Summit, Croco, FATE, Prince, Effort</td>\n",
       "      <td>Kingen, Pyosik, SOLKA, BAO, Becca</td>\n",
       "      <td>SB</td>\n",
       "      <td>MH</td>\n",
       "      <td>VOD</td>\n",
       "    </tr>\n",
       "    <tr>\n",
       "      <th>1</th>\n",
       "      <td>2021-03-28</td>\n",
       "      <td>11.5</td>\n",
       "      <td>⁠⁠</td>\n",
       "      <td>⁠⁠</td>\n",
       "      <td>⁠⁠</td>\n",
       "      <td>NaN</td>\n",
       "      <td>NaN</td>\n",
       "      <td>NaN</td>\n",
       "      <td>NaN</td>\n",
       "      <td>Kingen, Pyosik, SOLKA, BAO, Becca</td>\n",
       "      <td>Summit, Croco, FATE, Prince, Effort</td>\n",
       "      <td>SB</td>\n",
       "      <td>MH</td>\n",
       "      <td>VOD</td>\n",
       "    </tr>\n",
       "    <tr>\n",
       "      <th>2</th>\n",
       "      <td>2021-03-28</td>\n",
       "      <td>11.5</td>\n",
       "      <td>⁠⁠</td>\n",
       "      <td>⁠⁠</td>\n",
       "      <td>⁠⁠</td>\n",
       "      <td>NaN</td>\n",
       "      <td>NaN</td>\n",
       "      <td>NaN</td>\n",
       "      <td>NaN</td>\n",
       "      <td>Summit, Croco, FATE, Prince, Effort</td>\n",
       "      <td>Kingen, Pyosik, SOLKA, BAO, Becca</td>\n",
       "      <td>SB</td>\n",
       "      <td>MH</td>\n",
       "      <td>VOD</td>\n",
       "    </tr>\n",
       "    <tr>\n",
       "      <th>3</th>\n",
       "      <td>2021-03-28</td>\n",
       "      <td>11.5</td>\n",
       "      <td>⁠⁠</td>\n",
       "      <td>⁠⁠</td>\n",
       "      <td>⁠⁠</td>\n",
       "      <td>NaN</td>\n",
       "      <td>NaN</td>\n",
       "      <td>NaN</td>\n",
       "      <td>NaN</td>\n",
       "      <td>Canna, Cuzz, Faker, Teddy, Keria</td>\n",
       "      <td>Morgan, yoHan, Chovy, Deft, Vsta</td>\n",
       "      <td>SB</td>\n",
       "      <td>MH</td>\n",
       "      <td>VOD</td>\n",
       "    </tr>\n",
       "    <tr>\n",
       "      <th>4</th>\n",
       "      <td>2021-03-28</td>\n",
       "      <td>11.5</td>\n",
       "      <td>⁠⁠</td>\n",
       "      <td>⁠⁠</td>\n",
       "      <td>⁠⁠</td>\n",
       "      <td>NaN</td>\n",
       "      <td>NaN</td>\n",
       "      <td>NaN</td>\n",
       "      <td>NaN</td>\n",
       "      <td>Morgan, yoHan, Chovy, Deft, Vsta</td>\n",
       "      <td>Canna, Cuzz, Faker, Teddy, Keria</td>\n",
       "      <td>SB</td>\n",
       "      <td>MH</td>\n",
       "      <td>VOD</td>\n",
       "    </tr>\n",
       "    <tr>\n",
       "      <th>...</th>\n",
       "      <td>...</td>\n",
       "      <td>...</td>\n",
       "      <td>...</td>\n",
       "      <td>...</td>\n",
       "      <td>...</td>\n",
       "      <td>...</td>\n",
       "      <td>...</td>\n",
       "      <td>...</td>\n",
       "      <td>...</td>\n",
       "      <td>...</td>\n",
       "      <td>...</td>\n",
       "      <td>...</td>\n",
       "      <td>...</td>\n",
       "      <td>...</td>\n",
       "    </tr>\n",
       "    <tr>\n",
       "      <th>195</th>\n",
       "      <td>2021-01-16</td>\n",
       "      <td>11.1</td>\n",
       "      <td>⁠⁠</td>\n",
       "      <td>⁠⁠</td>\n",
       "      <td>⁠⁠</td>\n",
       "      <td>NaN</td>\n",
       "      <td>NaN</td>\n",
       "      <td>NaN</td>\n",
       "      <td>NaN</td>\n",
       "      <td>Kingen, Pyosik, SOLKA, BAO, Becca</td>\n",
       "      <td>DuDu, Arthur, Chovy, Deft, Vsta</td>\n",
       "      <td>SB</td>\n",
       "      <td>MH</td>\n",
       "      <td>VOD</td>\n",
       "    </tr>\n",
       "    <tr>\n",
       "      <th>196</th>\n",
       "      <td>2021-01-16</td>\n",
       "      <td>11.1</td>\n",
       "      <td>⁠⁠</td>\n",
       "      <td>⁠⁠</td>\n",
       "      <td>⁠⁠</td>\n",
       "      <td>NaN</td>\n",
       "      <td>NaN</td>\n",
       "      <td>NaN</td>\n",
       "      <td>NaN</td>\n",
       "      <td>DuDu, Arthur, Chovy, Deft, Vsta</td>\n",
       "      <td>Kingen, Pyosik, SOLKA, BAO, Becca</td>\n",
       "      <td>SB</td>\n",
       "      <td>MH</td>\n",
       "      <td>VOD</td>\n",
       "    </tr>\n",
       "    <tr>\n",
       "      <th>197</th>\n",
       "      <td>2021-01-16</td>\n",
       "      <td>11.1</td>\n",
       "      <td>⁠⁠</td>\n",
       "      <td>⁠⁠</td>\n",
       "      <td>⁠⁠</td>\n",
       "      <td>NaN</td>\n",
       "      <td>NaN</td>\n",
       "      <td>NaN</td>\n",
       "      <td>NaN</td>\n",
       "      <td>Doran, Blank, Ucal, HyBriD, Zzus</td>\n",
       "      <td>Summit, Croco, FATE, Route, Effort</td>\n",
       "      <td>SB</td>\n",
       "      <td>MH</td>\n",
       "      <td>VOD</td>\n",
       "    </tr>\n",
       "    <tr>\n",
       "      <th>198</th>\n",
       "      <td>2021-01-16</td>\n",
       "      <td>11.1</td>\n",
       "      <td>⁠⁠</td>\n",
       "      <td>⁠⁠</td>\n",
       "      <td>⁠⁠</td>\n",
       "      <td>NaN</td>\n",
       "      <td>NaN</td>\n",
       "      <td>NaN</td>\n",
       "      <td>NaN</td>\n",
       "      <td>Summit, Croco, FATE, Route, Effort</td>\n",
       "      <td>Doran, Blank, Ucal, HyBriD, Zzus</td>\n",
       "      <td>SB</td>\n",
       "      <td>MH</td>\n",
       "      <td>VOD</td>\n",
       "    </tr>\n",
       "    <tr>\n",
       "      <th>199</th>\n",
       "      <td>2021-01-15</td>\n",
       "      <td>11.1</td>\n",
       "      <td>⁠⁠</td>\n",
       "      <td>⁠⁠</td>\n",
       "      <td>⁠⁠</td>\n",
       "      <td>NaN</td>\n",
       "      <td>NaN</td>\n",
       "      <td>NaN</td>\n",
       "      <td>NaN</td>\n",
       "      <td>Khan, Canyon, ShowMaker, Ghost, BeryL</td>\n",
       "      <td>Canna, Ellim, Faker, Gumayusi, Keria</td>\n",
       "      <td>SB</td>\n",
       "      <td>MH</td>\n",
       "      <td>VOD</td>\n",
       "    </tr>\n",
       "  </tbody>\n",
       "</table>\n",
       "<p>200 rows × 14 columns</p>\n",
       "</div>"
      ],
      "text/plain": [
       "    Tournament: LCK/2021 Season/Spring Season; Limit: 200 - Open As Query  \\\n",
       "                                                                     Date   \n",
       "0                                           2021-03-28                      \n",
       "1                                           2021-03-28                      \n",
       "2                                           2021-03-28                      \n",
       "3                                           2021-03-28                      \n",
       "4                                           2021-03-28                      \n",
       "..                                                 ...                      \n",
       "195                                         2021-01-16                      \n",
       "196                                         2021-01-16                      \n",
       "197                                         2021-01-16                      \n",
       "198                                         2021-01-16                      \n",
       "199                                         2021-01-15                      \n",
       "\n",
       "                                                     \\\n",
       "        P Blue Red Winner Bans Bans.1 Picks Picks.1   \n",
       "0    11.5   ⁠⁠  ⁠⁠     ⁠⁠  NaN    NaN   NaN     NaN   \n",
       "1    11.5   ⁠⁠  ⁠⁠     ⁠⁠  NaN    NaN   NaN     NaN   \n",
       "2    11.5   ⁠⁠  ⁠⁠     ⁠⁠  NaN    NaN   NaN     NaN   \n",
       "3    11.5   ⁠⁠  ⁠⁠     ⁠⁠  NaN    NaN   NaN     NaN   \n",
       "4    11.5   ⁠⁠  ⁠⁠     ⁠⁠  NaN    NaN   NaN     NaN   \n",
       "..    ...  ...  ..    ...  ...    ...   ...     ...   \n",
       "195  11.1   ⁠⁠  ⁠⁠     ⁠⁠  NaN    NaN   NaN     NaN   \n",
       "196  11.1   ⁠⁠  ⁠⁠     ⁠⁠  NaN    NaN   NaN     NaN   \n",
       "197  11.1   ⁠⁠  ⁠⁠     ⁠⁠  NaN    NaN   NaN     NaN   \n",
       "198  11.1   ⁠⁠  ⁠⁠     ⁠⁠  NaN    NaN   NaN     NaN   \n",
       "199  11.1   ⁠⁠  ⁠⁠     ⁠⁠  NaN    NaN   NaN     NaN   \n",
       "\n",
       "                                            \\\n",
       "                               Blue Roster   \n",
       "0      Summit, Croco, FATE, Prince, Effort   \n",
       "1        Kingen, Pyosik, SOLKA, BAO, Becca   \n",
       "2      Summit, Croco, FATE, Prince, Effort   \n",
       "3         Canna, Cuzz, Faker, Teddy, Keria   \n",
       "4         Morgan, yoHan, Chovy, Deft, Vsta   \n",
       "..                                     ...   \n",
       "195      Kingen, Pyosik, SOLKA, BAO, Becca   \n",
       "196        DuDu, Arthur, Chovy, Deft, Vsta   \n",
       "197       Doran, Blank, Ucal, HyBriD, Zzus   \n",
       "198     Summit, Croco, FATE, Route, Effort   \n",
       "199  Khan, Canyon, ShowMaker, Ghost, BeryL   \n",
       "\n",
       "                                                        \n",
       "                               Red Roster  SB  MH  VOD  \n",
       "0       Kingen, Pyosik, SOLKA, BAO, Becca  SB  MH  VOD  \n",
       "1     Summit, Croco, FATE, Prince, Effort  SB  MH  VOD  \n",
       "2       Kingen, Pyosik, SOLKA, BAO, Becca  SB  MH  VOD  \n",
       "3        Morgan, yoHan, Chovy, Deft, Vsta  SB  MH  VOD  \n",
       "4        Canna, Cuzz, Faker, Teddy, Keria  SB  MH  VOD  \n",
       "..                                    ...  ..  ..  ...  \n",
       "195       DuDu, Arthur, Chovy, Deft, Vsta  SB  MH  VOD  \n",
       "196     Kingen, Pyosik, SOLKA, BAO, Becca  SB  MH  VOD  \n",
       "197    Summit, Croco, FATE, Route, Effort  SB  MH  VOD  \n",
       "198      Doran, Blank, Ucal, HyBriD, Zzus  SB  MH  VOD  \n",
       "199  Canna, Ellim, Faker, Gumayusi, Keria  SB  MH  VOD  \n",
       "\n",
       "[200 rows x 14 columns]"
      ]
     },
     "execution_count": 224,
     "metadata": {},
     "output_type": "execute_result"
    }
   ],
   "source": [
    "dfs = pd.read_html(urls,encoding='utf-8')\n",
    "dfs[4]"
   ]
  },
  {
   "cell_type": "markdown",
   "metadata": {},
   "source": [
    "# Get empty data"
   ]
  },
  {
   "cell_type": "markdown",
   "metadata": {},
   "source": [
    "## Blue, Red, Winner"
   ]
  },
  {
   "cell_type": "code",
   "execution_count": 225,
   "metadata": {
    "ExecuteTime": {
     "end_time": "2021-04-22T19:54:55.447116Z",
     "start_time": "2021-04-22T19:54:53.479840Z"
    }
   },
   "outputs": [],
   "source": [
    "html = requests.get(urls).text\n",
    "soup = bs(html,'html.parser')"
   ]
  },
  {
   "cell_type": "code",
   "execution_count": 226,
   "metadata": {
    "ExecuteTime": {
     "end_time": "2021-04-22T19:54:55.985908Z",
     "start_time": "2021-04-22T19:54:55.920076Z"
    }
   },
   "outputs": [
    {
     "data": {
      "text/plain": [
       "[<td class=\"mhgame-result\">2021-03-28</td>,\n",
       " <td class=\"mhgame-result\"><a class=\"to_hasTooltip\" data-to-flags=\"fieM\" data-to-id=\"Patch_11_2e-5\" data-to-titles=\"Patch 11.5||Tooltip:Patch 11.5\" href=\"/wiki/Patch_11.5\" title=\"Patch 11.5\">11.5</a></td>,\n",
       " <td class=\"mhgame-result\">⁠<a class=\"to_hasTooltip\" data-to-flags=\"fiem\" data-to-id=\"Liiv_SANDBOX\" data-to-titles=\"Liiv SANDBOX||Tooltip:Liiv SANDBOX\" href=\"/wiki/Liiv_SANDBOX\" title=\"Liiv SANDBOX\"><img alt=\"Liiv SANDBOXlogo std.png\" data-file-height=\"25\" data-file-width=\"60\" decoding=\"async\" height=\"25\" src=\"https://static.wikia.nocookie.net/lolesports_gamepedia_en/images/7/75/Liiv_SANDBOXlogo_std.png/revision/latest/scale-to-width-down/60?cb=20210319212308\" width=\"60\"/></a>⁠</td>,\n",
       " <td class=\"mhgame-result\">⁠<a class=\"to_hasTooltip\" data-to-flags=\"fiem\" data-to-id=\"DRX\" data-to-titles=\"DRX||Tooltip:DRX\" href=\"/wiki/DRX\" title=\"DRX\"><img alt=\"DRXlogo std.png\" data-file-height=\"25\" data-file-width=\"60\" decoding=\"async\" height=\"25\" src=\"https://static.wikia.nocookie.net/lolesports_gamepedia_en/images/5/58/DRXlogo_std.png/revision/latest/scale-to-width-down/60?cb=20191010064713\" width=\"60\"/></a>⁠</td>,\n",
       " <td class=\"mhgame-result\">⁠<a class=\"to_hasTooltip\" data-to-flags=\"fiem\" data-to-id=\"Liiv_SANDBOX\" data-to-titles=\"Liiv SANDBOX||Tooltip:Liiv SANDBOX\" href=\"/wiki/Liiv_SANDBOX\" title=\"Liiv SANDBOX\"><img alt=\"Liiv SANDBOXlogo std.png\" data-file-height=\"25\" data-file-width=\"60\" decoding=\"async\" height=\"25\" src=\"https://static.wikia.nocookie.net/lolesports_gamepedia_en/images/7/75/Liiv_SANDBOXlogo_std.png/revision/latest/scale-to-width-down/60?cb=20210319212308\" width=\"60\"/></a>⁠</td>]"
      ]
     },
     "execution_count": 226,
     "metadata": {},
     "output_type": "execute_result"
    }
   ],
   "source": [
    "soup_extract  = soup.find_all('td',attrs={'class':'mhgame-result'})\n",
    "soup_extract[0:5]"
   ]
  },
  {
   "cell_type": "code",
   "execution_count": 227,
   "metadata": {
    "ExecuteTime": {
     "end_time": "2021-04-22T19:54:56.510495Z",
     "start_time": "2021-04-22T19:54:56.497532Z"
    }
   },
   "outputs": [
    {
     "data": {
      "text/plain": [
       "['Patch_11_2e-5',\n",
       " 'Liiv_SANDBOX',\n",
       " 'DRX',\n",
       " 'Liiv_SANDBOX',\n",
       " 'Patch_11_2e-5',\n",
       " 'DRX',\n",
       " 'Liiv_SANDBOX',\n",
       " 'DRX',\n",
       " 'Patch_11_2e-5',\n",
       " 'Liiv_SANDBOX',\n",
       " 'DRX',\n",
       " 'Liiv_SANDBOX']"
      ]
     },
     "execution_count": 227,
     "metadata": {},
     "output_type": "execute_result"
    }
   ],
   "source": [
    "link_list = []\n",
    "for link in soup_extract:\n",
    "    for k in link.find_all('a'):\n",
    "        link_list.append(k['data-to-id']) \n",
    "link_list[0:12]"
   ]
  },
  {
   "cell_type": "code",
   "execution_count": 228,
   "metadata": {
    "ExecuteTime": {
     "end_time": "2021-04-22T19:54:57.060317Z",
     "start_time": "2021-04-22T19:54:57.031431Z"
    }
   },
   "outputs": [
    {
     "data": {
      "text/html": [
       "<div>\n",
       "<style scoped>\n",
       "    .dataframe tbody tr th:only-of-type {\n",
       "        vertical-align: middle;\n",
       "    }\n",
       "\n",
       "    .dataframe tbody tr th {\n",
       "        vertical-align: top;\n",
       "    }\n",
       "\n",
       "    .dataframe thead th {\n",
       "        text-align: right;\n",
       "    }\n",
       "</style>\n",
       "<table border=\"1\" class=\"dataframe\">\n",
       "  <thead>\n",
       "    <tr style=\"text-align: right;\">\n",
       "      <th></th>\n",
       "      <th>patch</th>\n",
       "      <th>blue</th>\n",
       "      <th>red</th>\n",
       "      <th>win</th>\n",
       "    </tr>\n",
       "  </thead>\n",
       "  <tbody>\n",
       "    <tr>\n",
       "      <th>0</th>\n",
       "      <td>Patch_11_2e-5</td>\n",
       "      <td>Liiv_SANDBOX</td>\n",
       "      <td>DRX</td>\n",
       "      <td>Liiv_SANDBOX</td>\n",
       "    </tr>\n",
       "    <tr>\n",
       "      <th>1</th>\n",
       "      <td>Patch_11_2e-5</td>\n",
       "      <td>DRX</td>\n",
       "      <td>Liiv_SANDBOX</td>\n",
       "      <td>DRX</td>\n",
       "    </tr>\n",
       "    <tr>\n",
       "      <th>2</th>\n",
       "      <td>Patch_11_2e-5</td>\n",
       "      <td>Liiv_SANDBOX</td>\n",
       "      <td>DRX</td>\n",
       "      <td>Liiv_SANDBOX</td>\n",
       "    </tr>\n",
       "    <tr>\n",
       "      <th>3</th>\n",
       "      <td>Patch_11_2e-5</td>\n",
       "      <td>T1</td>\n",
       "      <td>Hanwha_Life_Esports</td>\n",
       "      <td>T1</td>\n",
       "    </tr>\n",
       "    <tr>\n",
       "      <th>4</th>\n",
       "      <td>Patch_11_2e-5</td>\n",
       "      <td>Hanwha_Life_Esports</td>\n",
       "      <td>T1</td>\n",
       "      <td>T1</td>\n",
       "    </tr>\n",
       "    <tr>\n",
       "      <th>...</th>\n",
       "      <td>...</td>\n",
       "      <td>...</td>\n",
       "      <td>...</td>\n",
       "      <td>...</td>\n",
       "    </tr>\n",
       "    <tr>\n",
       "      <th>195</th>\n",
       "      <td>Patch_11_2e-1</td>\n",
       "      <td>DRX</td>\n",
       "      <td>Hanwha_Life_Esports</td>\n",
       "      <td>DRX</td>\n",
       "    </tr>\n",
       "    <tr>\n",
       "      <th>196</th>\n",
       "      <td>Patch_11_2e-1</td>\n",
       "      <td>Hanwha_Life_Esports</td>\n",
       "      <td>DRX</td>\n",
       "      <td>Hanwha_Life_Esports</td>\n",
       "    </tr>\n",
       "    <tr>\n",
       "      <th>197</th>\n",
       "      <td>Patch_11_2e-1</td>\n",
       "      <td>KT_Rolster</td>\n",
       "      <td>Liiv_SANDBOX</td>\n",
       "      <td>KT_Rolster</td>\n",
       "    </tr>\n",
       "    <tr>\n",
       "      <th>198</th>\n",
       "      <td>Patch_11_2e-1</td>\n",
       "      <td>Liiv_SANDBOX</td>\n",
       "      <td>KT_Rolster</td>\n",
       "      <td>KT_Rolster</td>\n",
       "    </tr>\n",
       "    <tr>\n",
       "      <th>199</th>\n",
       "      <td>Patch_11_2e-1</td>\n",
       "      <td>DWG_KIA</td>\n",
       "      <td>T1</td>\n",
       "      <td>DWG_KIA</td>\n",
       "    </tr>\n",
       "  </tbody>\n",
       "</table>\n",
       "<p>200 rows × 4 columns</p>\n",
       "</div>"
      ],
      "text/plain": [
       "             patch                 blue                  red  \\\n",
       "0    Patch_11_2e-5         Liiv_SANDBOX                  DRX   \n",
       "1    Patch_11_2e-5                  DRX         Liiv_SANDBOX   \n",
       "2    Patch_11_2e-5         Liiv_SANDBOX                  DRX   \n",
       "3    Patch_11_2e-5                   T1  Hanwha_Life_Esports   \n",
       "4    Patch_11_2e-5  Hanwha_Life_Esports                   T1   \n",
       "..             ...                  ...                  ...   \n",
       "195  Patch_11_2e-1                  DRX  Hanwha_Life_Esports   \n",
       "196  Patch_11_2e-1  Hanwha_Life_Esports                  DRX   \n",
       "197  Patch_11_2e-1           KT_Rolster         Liiv_SANDBOX   \n",
       "198  Patch_11_2e-1         Liiv_SANDBOX           KT_Rolster   \n",
       "199  Patch_11_2e-1              DWG_KIA                   T1   \n",
       "\n",
       "                     win  \n",
       "0           Liiv_SANDBOX  \n",
       "1                    DRX  \n",
       "2           Liiv_SANDBOX  \n",
       "3                     T1  \n",
       "4                     T1  \n",
       "..                   ...  \n",
       "195                  DRX  \n",
       "196  Hanwha_Life_Esports  \n",
       "197           KT_Rolster  \n",
       "198           KT_Rolster  \n",
       "199              DWG_KIA  \n",
       "\n",
       "[200 rows x 4 columns]"
      ]
     },
     "execution_count": 228,
     "metadata": {},
     "output_type": "execute_result"
    }
   ],
   "source": [
    "reshape_rows = int(len(link_list)/4)\n",
    "reshape_array = np.reshape(np.array(link_list),(reshape_rows,4))\n",
    "blue_red_df = pd.DataFrame(reshape_array,columns=['patch','blue','red','win'])\n",
    "blue_red_df"
   ]
  },
  {
   "cell_type": "markdown",
   "metadata": {},
   "source": [
    "## Ban, Pick"
   ]
  },
  {
   "cell_type": "code",
   "execution_count": 47,
   "metadata": {
    "ExecuteTime": {
     "end_time": "2021-04-22T17:47:14.913196Z",
     "start_time": "2021-04-22T17:47:11.185119Z"
    }
   },
   "outputs": [],
   "source": [
    "url2 = 'https://lol.gamepedia.com/Special:RunQuery/PickBanHistory?PBH%5Bpage%5D=LCK+2021+Spring&PBH%5Btextonly%5D=Yes&pfRunQueryFormName=PickBanHistory'\n",
    "ban_pick = pd.read_html(url2,encoding='utf-8')[0]"
   ]
  },
  {
   "cell_type": "code",
   "execution_count": 121,
   "metadata": {
    "ExecuteTime": {
     "end_time": "2021-04-22T18:35:54.103374Z",
     "start_time": "2021-04-22T18:35:54.038546Z"
    }
   },
   "outputs": [
    {
     "data": {
      "text/html": [
       "<div>\n",
       "<style scoped>\n",
       "    .dataframe tbody tr th:only-of-type {\n",
       "        vertical-align: middle;\n",
       "    }\n",
       "\n",
       "    .dataframe tbody tr th {\n",
       "        vertical-align: top;\n",
       "    }\n",
       "\n",
       "    .dataframe thead th {\n",
       "        text-align: right;\n",
       "    }\n",
       "</style>\n",
       "<table border=\"1\" class=\"dataframe\">\n",
       "  <thead>\n",
       "    <tr style=\"text-align: right;\">\n",
       "      <th></th>\n",
       "      <th>Patch</th>\n",
       "      <th>BB1</th>\n",
       "      <th>RB1</th>\n",
       "      <th>BB2</th>\n",
       "      <th>RB2</th>\n",
       "      <th>BB3</th>\n",
       "      <th>RB3</th>\n",
       "      <th>BP1</th>\n",
       "      <th>RP1-2</th>\n",
       "      <th>BP2-3</th>\n",
       "      <th>...</th>\n",
       "      <th>BR1</th>\n",
       "      <th>BR2</th>\n",
       "      <th>BR3</th>\n",
       "      <th>BR4</th>\n",
       "      <th>BR5</th>\n",
       "      <th>RR1</th>\n",
       "      <th>RR2</th>\n",
       "      <th>RR3</th>\n",
       "      <th>RR4</th>\n",
       "      <th>RR5</th>\n",
       "    </tr>\n",
       "  </thead>\n",
       "  <tbody>\n",
       "    <tr>\n",
       "      <th>0</th>\n",
       "      <td>11.5</td>\n",
       "      <td>Seraphine</td>\n",
       "      <td>Gragas</td>\n",
       "      <td>Renekton</td>\n",
       "      <td>Hecarim</td>\n",
       "      <td>Tristana</td>\n",
       "      <td>Thresh</td>\n",
       "      <td>Udyr</td>\n",
       "      <td>Lillia, Kai'Sa</td>\n",
       "      <td>Alistar, Samira</td>\n",
       "      <td>...</td>\n",
       "      <td>Jungle</td>\n",
       "      <td>Support</td>\n",
       "      <td>Bot</td>\n",
       "      <td>Mid</td>\n",
       "      <td>Top</td>\n",
       "      <td>Jungle</td>\n",
       "      <td>Bot</td>\n",
       "      <td>Top</td>\n",
       "      <td>Support</td>\n",
       "      <td>Mid</td>\n",
       "    </tr>\n",
       "    <tr>\n",
       "      <th>1</th>\n",
       "      <td>11.5</td>\n",
       "      <td>Thresh</td>\n",
       "      <td>Seraphine</td>\n",
       "      <td>Azir</td>\n",
       "      <td>Udyr</td>\n",
       "      <td>Gragas</td>\n",
       "      <td>Renekton</td>\n",
       "      <td>Hecarim</td>\n",
       "      <td>Gnar, Olaf</td>\n",
       "      <td>Jayce, Zoe</td>\n",
       "      <td>...</td>\n",
       "      <td>Jungle</td>\n",
       "      <td>Top</td>\n",
       "      <td>Mid</td>\n",
       "      <td>Bot</td>\n",
       "      <td>Support</td>\n",
       "      <td>Top</td>\n",
       "      <td>Jungle</td>\n",
       "      <td>Bot</td>\n",
       "      <td>Mid</td>\n",
       "      <td>Support</td>\n",
       "    </tr>\n",
       "    <tr>\n",
       "      <th>2</th>\n",
       "      <td>11.5</td>\n",
       "      <td>Thresh</td>\n",
       "      <td>Camille</td>\n",
       "      <td>Renekton</td>\n",
       "      <td>Hecarim</td>\n",
       "      <td>Seraphine</td>\n",
       "      <td>Gragas</td>\n",
       "      <td>Udyr</td>\n",
       "      <td>Lillia, Tristana</td>\n",
       "      <td>Ezreal, Gnar</td>\n",
       "      <td>...</td>\n",
       "      <td>Jungle</td>\n",
       "      <td>Bot</td>\n",
       "      <td>Top</td>\n",
       "      <td>Mid</td>\n",
       "      <td>Support</td>\n",
       "      <td>Jungle</td>\n",
       "      <td>Bot</td>\n",
       "      <td>Top</td>\n",
       "      <td>Mid</td>\n",
       "      <td>Support</td>\n",
       "    </tr>\n",
       "    <tr>\n",
       "      <th>3</th>\n",
       "      <td>11.5</td>\n",
       "      <td>Lucian</td>\n",
       "      <td>Seraphine</td>\n",
       "      <td>Renekton</td>\n",
       "      <td>Hecarim</td>\n",
       "      <td>Jinx</td>\n",
       "      <td>Udyr</td>\n",
       "      <td>Lillia</td>\n",
       "      <td>Nidalee, Sion</td>\n",
       "      <td>Gnar, Viktor</td>\n",
       "      <td>...</td>\n",
       "      <td>Jungle</td>\n",
       "      <td>Top</td>\n",
       "      <td>Mid</td>\n",
       "      <td>Bot</td>\n",
       "      <td>Support</td>\n",
       "      <td>Jungle</td>\n",
       "      <td>Top</td>\n",
       "      <td>Bot</td>\n",
       "      <td>Support</td>\n",
       "      <td>Mid</td>\n",
       "    </tr>\n",
       "    <tr>\n",
       "      <th>4</th>\n",
       "      <td>11.5</td>\n",
       "      <td>Gnar</td>\n",
       "      <td>Lucian</td>\n",
       "      <td>Udyr</td>\n",
       "      <td>Sion</td>\n",
       "      <td>Nidalee</td>\n",
       "      <td>Renekton</td>\n",
       "      <td>Hecarim</td>\n",
       "      <td>Seraphine, Senna</td>\n",
       "      <td>Orianna, Gragas</td>\n",
       "      <td>...</td>\n",
       "      <td>Jungle</td>\n",
       "      <td>Mid</td>\n",
       "      <td>Top</td>\n",
       "      <td>Bot</td>\n",
       "      <td>Support</td>\n",
       "      <td>Mid</td>\n",
       "      <td>Bot</td>\n",
       "      <td>Support</td>\n",
       "      <td>Jungle</td>\n",
       "      <td>Top</td>\n",
       "    </tr>\n",
       "    <tr>\n",
       "      <th>...</th>\n",
       "      <td>...</td>\n",
       "      <td>...</td>\n",
       "      <td>...</td>\n",
       "      <td>...</td>\n",
       "      <td>...</td>\n",
       "      <td>...</td>\n",
       "      <td>...</td>\n",
       "      <td>...</td>\n",
       "      <td>...</td>\n",
       "      <td>...</td>\n",
       "      <td>...</td>\n",
       "      <td>...</td>\n",
       "      <td>...</td>\n",
       "      <td>...</td>\n",
       "      <td>...</td>\n",
       "      <td>...</td>\n",
       "      <td>...</td>\n",
       "      <td>...</td>\n",
       "      <td>...</td>\n",
       "      <td>...</td>\n",
       "      <td>...</td>\n",
       "    </tr>\n",
       "    <tr>\n",
       "      <th>210</th>\n",
       "      <td>11.1</td>\n",
       "      <td>Lucian</td>\n",
       "      <td>Pantheon</td>\n",
       "      <td>Akali</td>\n",
       "      <td>Aphelios</td>\n",
       "      <td>Olaf</td>\n",
       "      <td>Yone</td>\n",
       "      <td>Taliyah</td>\n",
       "      <td>Graves, Kai'Sa</td>\n",
       "      <td>Renekton, Samira</td>\n",
       "      <td>...</td>\n",
       "      <td>Jungle</td>\n",
       "      <td>Top</td>\n",
       "      <td>Bot</td>\n",
       "      <td>Support</td>\n",
       "      <td>Mid</td>\n",
       "      <td>Jungle</td>\n",
       "      <td>Bot</td>\n",
       "      <td>Top</td>\n",
       "      <td>Support</td>\n",
       "      <td>Mid</td>\n",
       "    </tr>\n",
       "    <tr>\n",
       "      <th>211</th>\n",
       "      <td>11.1</td>\n",
       "      <td>Lucian</td>\n",
       "      <td>Taliyah</td>\n",
       "      <td>Akali</td>\n",
       "      <td>Renekton</td>\n",
       "      <td>Aphelios</td>\n",
       "      <td>Pantheon</td>\n",
       "      <td>Olaf</td>\n",
       "      <td>Graves, Zoe</td>\n",
       "      <td>Kai'Sa, Sett</td>\n",
       "      <td>...</td>\n",
       "      <td>Jungle</td>\n",
       "      <td>Bot</td>\n",
       "      <td>Top</td>\n",
       "      <td>Support</td>\n",
       "      <td>Mid</td>\n",
       "      <td>Jungle</td>\n",
       "      <td>Mid</td>\n",
       "      <td>Bot</td>\n",
       "      <td>Top</td>\n",
       "      <td>Support</td>\n",
       "    </tr>\n",
       "    <tr>\n",
       "      <th>212</th>\n",
       "      <td>11.1</td>\n",
       "      <td>Lucian</td>\n",
       "      <td>Pantheon</td>\n",
       "      <td>Azir</td>\n",
       "      <td>Taliyah</td>\n",
       "      <td>Akali</td>\n",
       "      <td>Nidalee</td>\n",
       "      <td>Olaf</td>\n",
       "      <td>Kai'Sa, Graves</td>\n",
       "      <td>Aphelios, Thresh</td>\n",
       "      <td>...</td>\n",
       "      <td>Jungle</td>\n",
       "      <td>Bot</td>\n",
       "      <td>Support</td>\n",
       "      <td>Mid</td>\n",
       "      <td>Top</td>\n",
       "      <td>Bot</td>\n",
       "      <td>Jungle</td>\n",
       "      <td>Support</td>\n",
       "      <td>Mid</td>\n",
       "      <td>Top</td>\n",
       "    </tr>\n",
       "    <tr>\n",
       "      <th>213</th>\n",
       "      <td>11.1</td>\n",
       "      <td>Gragas</td>\n",
       "      <td>Samira</td>\n",
       "      <td>Nidalee</td>\n",
       "      <td>Taliyah</td>\n",
       "      <td>Lucian</td>\n",
       "      <td>Akali</td>\n",
       "      <td>Pantheon</td>\n",
       "      <td>Kai'Sa, Olaf</td>\n",
       "      <td>Aphelios, Thresh</td>\n",
       "      <td>...</td>\n",
       "      <td>Jungle</td>\n",
       "      <td>Bot</td>\n",
       "      <td>Support</td>\n",
       "      <td>Mid</td>\n",
       "      <td>Top</td>\n",
       "      <td>Bot</td>\n",
       "      <td>Jungle</td>\n",
       "      <td>Support</td>\n",
       "      <td>Mid</td>\n",
       "      <td>Top</td>\n",
       "    </tr>\n",
       "    <tr>\n",
       "      <th>214</th>\n",
       "      <td>11.1</td>\n",
       "      <td>Samira</td>\n",
       "      <td>Gragas</td>\n",
       "      <td>Akali</td>\n",
       "      <td>Pantheon</td>\n",
       "      <td>Olaf</td>\n",
       "      <td>Renekton</td>\n",
       "      <td>Taliyah</td>\n",
       "      <td>Alistar, Nidalee</td>\n",
       "      <td>Camille, Jhin</td>\n",
       "      <td>...</td>\n",
       "      <td>Jungle</td>\n",
       "      <td>Top</td>\n",
       "      <td>Bot</td>\n",
       "      <td>Support</td>\n",
       "      <td>Mid</td>\n",
       "      <td>Support</td>\n",
       "      <td>Jungle</td>\n",
       "      <td>Bot</td>\n",
       "      <td>Top</td>\n",
       "      <td>Mid</td>\n",
       "    </tr>\n",
       "  </tbody>\n",
       "</table>\n",
       "<p>215 rows × 28 columns</p>\n",
       "</div>"
      ],
      "text/plain": [
       "     Patch        BB1        RB1       BB2       RB2        BB3       RB3  \\\n",
       "0     11.5  Seraphine     Gragas  Renekton   Hecarim   Tristana    Thresh   \n",
       "1     11.5     Thresh  Seraphine      Azir      Udyr     Gragas  Renekton   \n",
       "2     11.5     Thresh    Camille  Renekton   Hecarim  Seraphine    Gragas   \n",
       "3     11.5     Lucian  Seraphine  Renekton   Hecarim       Jinx      Udyr   \n",
       "4     11.5       Gnar     Lucian      Udyr      Sion    Nidalee  Renekton   \n",
       "..     ...        ...        ...       ...       ...        ...       ...   \n",
       "210   11.1     Lucian   Pantheon     Akali  Aphelios       Olaf      Yone   \n",
       "211   11.1     Lucian    Taliyah     Akali  Renekton   Aphelios  Pantheon   \n",
       "212   11.1     Lucian   Pantheon      Azir   Taliyah      Akali   Nidalee   \n",
       "213   11.1     Gragas     Samira   Nidalee   Taliyah     Lucian     Akali   \n",
       "214   11.1     Samira     Gragas     Akali  Pantheon       Olaf  Renekton   \n",
       "\n",
       "          BP1             RP1-2             BP2-3  ...     BR1      BR2  \\\n",
       "0        Udyr    Lillia, Kai'Sa   Alistar, Samira  ...  Jungle  Support   \n",
       "1     Hecarim        Gnar, Olaf        Jayce, Zoe  ...  Jungle      Top   \n",
       "2        Udyr  Lillia, Tristana      Ezreal, Gnar  ...  Jungle      Bot   \n",
       "3      Lillia     Nidalee, Sion      Gnar, Viktor  ...  Jungle      Top   \n",
       "4     Hecarim  Seraphine, Senna   Orianna, Gragas  ...  Jungle      Mid   \n",
       "..        ...               ...               ...  ...     ...      ...   \n",
       "210   Taliyah    Graves, Kai'Sa  Renekton, Samira  ...  Jungle      Top   \n",
       "211      Olaf       Graves, Zoe      Kai'Sa, Sett  ...  Jungle      Bot   \n",
       "212      Olaf    Kai'Sa, Graves  Aphelios, Thresh  ...  Jungle      Bot   \n",
       "213  Pantheon      Kai'Sa, Olaf  Aphelios, Thresh  ...  Jungle      Bot   \n",
       "214   Taliyah  Alistar, Nidalee     Camille, Jhin  ...  Jungle      Top   \n",
       "\n",
       "         BR3      BR4      BR5      RR1     RR2      RR3      RR4      RR5  \n",
       "0        Bot      Mid      Top   Jungle     Bot      Top  Support      Mid  \n",
       "1        Mid      Bot  Support      Top  Jungle      Bot      Mid  Support  \n",
       "2        Top      Mid  Support   Jungle     Bot      Top      Mid  Support  \n",
       "3        Mid      Bot  Support   Jungle     Top      Bot  Support      Mid  \n",
       "4        Top      Bot  Support      Mid     Bot  Support   Jungle      Top  \n",
       "..       ...      ...      ...      ...     ...      ...      ...      ...  \n",
       "210      Bot  Support      Mid   Jungle     Bot      Top  Support      Mid  \n",
       "211      Top  Support      Mid   Jungle     Mid      Bot      Top  Support  \n",
       "212  Support      Mid      Top      Bot  Jungle  Support      Mid      Top  \n",
       "213  Support      Mid      Top      Bot  Jungle  Support      Mid      Top  \n",
       "214      Bot  Support      Mid  Support  Jungle      Bot      Top      Mid  \n",
       "\n",
       "[215 rows x 28 columns]"
      ]
     },
     "execution_count": 121,
     "metadata": {},
     "output_type": "execute_result"
    }
   ],
   "source": [
    "ban_pick_df = pd.DataFrame(ban_pick).iloc[:,5:]\n",
    "ban_pick_df.columns = ban_pick_df.columns.droplevel()\n",
    "ban_pick_df.drop(['SB','MH','VOD'],axis=1,inplace=True)\n",
    "ban_pick_df"
   ]
  },
  {
   "cell_type": "code",
   "execution_count": 122,
   "metadata": {
    "ExecuteTime": {
     "end_time": "2021-04-22T18:35:54.641938Z",
     "start_time": "2021-04-22T18:35:54.633966Z"
    }
   },
   "outputs": [],
   "source": [
    "rep_dict = {'BB':'Blue_Ban',\n",
    "            'RB':'Red_Ban',\n",
    "            'BP':'Blue_Pick',\n",
    "            'RP':'Red_Pick',\n",
    "            'BR':'Blue_Position',\n",
    "            'RR':'Red_Position'}\n",
    "tmp_columns = ban_pick_df.columns"
   ]
  },
  {
   "cell_type": "code",
   "execution_count": 123,
   "metadata": {
    "ExecuteTime": {
     "end_time": "2021-04-22T18:35:55.242851Z",
     "start_time": "2021-04-22T18:35:55.228850Z"
    }
   },
   "outputs": [
    {
     "data": {
      "text/plain": [
       "Index(['Patch', 'Blue_Ban1', 'Red_Ban1', 'Blue_Ban2', 'Red_Ban2', 'Blue_Ban3',\n",
       "       'Red_Ban3', 'Blue_Pick1', 'Red_Pick1-2', 'Blue_Pick2-3', 'Red_Pick3',\n",
       "       'Red_Ban4', 'Blue_Ban4', 'Red_Ban5', 'Blue_Ban5', 'Red_Pick4',\n",
       "       'Blue_Pick4-5', 'Red_Pick5', 'Blue_Position1', 'Blue_Position2',\n",
       "       'Blue_Position3', 'Blue_Position4', 'Blue_Position5', 'Red_Position1',\n",
       "       'Red_Position2', 'Red_Position3', 'Red_Position4', 'Red_Position5'],\n",
       "      dtype='object')"
      ]
     },
     "execution_count": 123,
     "metadata": {},
     "output_type": "execute_result"
    }
   ],
   "source": [
    "for k,v in rep_dict.items():\n",
    "    tmp_columns = tmp_columns.str.replace(k,v)\n",
    "tmp_columns"
   ]
  },
  {
   "cell_type": "code",
   "execution_count": 124,
   "metadata": {
    "ExecuteTime": {
     "end_time": "2021-04-22T18:35:55.791351Z",
     "start_time": "2021-04-22T18:35:55.747468Z"
    }
   },
   "outputs": [
    {
     "data": {
      "text/html": [
       "<div>\n",
       "<style scoped>\n",
       "    .dataframe tbody tr th:only-of-type {\n",
       "        vertical-align: middle;\n",
       "    }\n",
       "\n",
       "    .dataframe tbody tr th {\n",
       "        vertical-align: top;\n",
       "    }\n",
       "\n",
       "    .dataframe thead th {\n",
       "        text-align: right;\n",
       "    }\n",
       "</style>\n",
       "<table border=\"1\" class=\"dataframe\">\n",
       "  <thead>\n",
       "    <tr style=\"text-align: right;\">\n",
       "      <th></th>\n",
       "      <th>Patch</th>\n",
       "      <th>Blue_Ban1</th>\n",
       "      <th>Red_Ban1</th>\n",
       "      <th>Blue_Ban2</th>\n",
       "      <th>Red_Ban2</th>\n",
       "      <th>Blue_Ban3</th>\n",
       "      <th>Red_Ban3</th>\n",
       "      <th>Blue_Pick1</th>\n",
       "      <th>Red_Pick1-2</th>\n",
       "      <th>Blue_Pick2-3</th>\n",
       "      <th>...</th>\n",
       "      <th>Blue_Position1</th>\n",
       "      <th>Blue_Position2</th>\n",
       "      <th>Blue_Position3</th>\n",
       "      <th>Blue_Position4</th>\n",
       "      <th>Blue_Position5</th>\n",
       "      <th>Red_Position1</th>\n",
       "      <th>Red_Position2</th>\n",
       "      <th>Red_Position3</th>\n",
       "      <th>Red_Position4</th>\n",
       "      <th>Red_Position5</th>\n",
       "    </tr>\n",
       "  </thead>\n",
       "  <tbody>\n",
       "    <tr>\n",
       "      <th>0</th>\n",
       "      <td>11.5</td>\n",
       "      <td>Seraphine</td>\n",
       "      <td>Gragas</td>\n",
       "      <td>Renekton</td>\n",
       "      <td>Hecarim</td>\n",
       "      <td>Tristana</td>\n",
       "      <td>Thresh</td>\n",
       "      <td>Udyr</td>\n",
       "      <td>Lillia, Kai'Sa</td>\n",
       "      <td>Alistar, Samira</td>\n",
       "      <td>...</td>\n",
       "      <td>Jungle</td>\n",
       "      <td>Support</td>\n",
       "      <td>Bot</td>\n",
       "      <td>Mid</td>\n",
       "      <td>Top</td>\n",
       "      <td>Jungle</td>\n",
       "      <td>Bot</td>\n",
       "      <td>Top</td>\n",
       "      <td>Support</td>\n",
       "      <td>Mid</td>\n",
       "    </tr>\n",
       "    <tr>\n",
       "      <th>1</th>\n",
       "      <td>11.5</td>\n",
       "      <td>Thresh</td>\n",
       "      <td>Seraphine</td>\n",
       "      <td>Azir</td>\n",
       "      <td>Udyr</td>\n",
       "      <td>Gragas</td>\n",
       "      <td>Renekton</td>\n",
       "      <td>Hecarim</td>\n",
       "      <td>Gnar, Olaf</td>\n",
       "      <td>Jayce, Zoe</td>\n",
       "      <td>...</td>\n",
       "      <td>Jungle</td>\n",
       "      <td>Top</td>\n",
       "      <td>Mid</td>\n",
       "      <td>Bot</td>\n",
       "      <td>Support</td>\n",
       "      <td>Top</td>\n",
       "      <td>Jungle</td>\n",
       "      <td>Bot</td>\n",
       "      <td>Mid</td>\n",
       "      <td>Support</td>\n",
       "    </tr>\n",
       "    <tr>\n",
       "      <th>2</th>\n",
       "      <td>11.5</td>\n",
       "      <td>Thresh</td>\n",
       "      <td>Camille</td>\n",
       "      <td>Renekton</td>\n",
       "      <td>Hecarim</td>\n",
       "      <td>Seraphine</td>\n",
       "      <td>Gragas</td>\n",
       "      <td>Udyr</td>\n",
       "      <td>Lillia, Tristana</td>\n",
       "      <td>Ezreal, Gnar</td>\n",
       "      <td>...</td>\n",
       "      <td>Jungle</td>\n",
       "      <td>Bot</td>\n",
       "      <td>Top</td>\n",
       "      <td>Mid</td>\n",
       "      <td>Support</td>\n",
       "      <td>Jungle</td>\n",
       "      <td>Bot</td>\n",
       "      <td>Top</td>\n",
       "      <td>Mid</td>\n",
       "      <td>Support</td>\n",
       "    </tr>\n",
       "    <tr>\n",
       "      <th>3</th>\n",
       "      <td>11.5</td>\n",
       "      <td>Lucian</td>\n",
       "      <td>Seraphine</td>\n",
       "      <td>Renekton</td>\n",
       "      <td>Hecarim</td>\n",
       "      <td>Jinx</td>\n",
       "      <td>Udyr</td>\n",
       "      <td>Lillia</td>\n",
       "      <td>Nidalee, Sion</td>\n",
       "      <td>Gnar, Viktor</td>\n",
       "      <td>...</td>\n",
       "      <td>Jungle</td>\n",
       "      <td>Top</td>\n",
       "      <td>Mid</td>\n",
       "      <td>Bot</td>\n",
       "      <td>Support</td>\n",
       "      <td>Jungle</td>\n",
       "      <td>Top</td>\n",
       "      <td>Bot</td>\n",
       "      <td>Support</td>\n",
       "      <td>Mid</td>\n",
       "    </tr>\n",
       "    <tr>\n",
       "      <th>4</th>\n",
       "      <td>11.5</td>\n",
       "      <td>Gnar</td>\n",
       "      <td>Lucian</td>\n",
       "      <td>Udyr</td>\n",
       "      <td>Sion</td>\n",
       "      <td>Nidalee</td>\n",
       "      <td>Renekton</td>\n",
       "      <td>Hecarim</td>\n",
       "      <td>Seraphine, Senna</td>\n",
       "      <td>Orianna, Gragas</td>\n",
       "      <td>...</td>\n",
       "      <td>Jungle</td>\n",
       "      <td>Mid</td>\n",
       "      <td>Top</td>\n",
       "      <td>Bot</td>\n",
       "      <td>Support</td>\n",
       "      <td>Mid</td>\n",
       "      <td>Bot</td>\n",
       "      <td>Support</td>\n",
       "      <td>Jungle</td>\n",
       "      <td>Top</td>\n",
       "    </tr>\n",
       "  </tbody>\n",
       "</table>\n",
       "<p>5 rows × 28 columns</p>\n",
       "</div>"
      ],
      "text/plain": [
       "   Patch  Blue_Ban1   Red_Ban1 Blue_Ban2 Red_Ban2  Blue_Ban3  Red_Ban3  \\\n",
       "0   11.5  Seraphine     Gragas  Renekton  Hecarim   Tristana    Thresh   \n",
       "1   11.5     Thresh  Seraphine      Azir     Udyr     Gragas  Renekton   \n",
       "2   11.5     Thresh    Camille  Renekton  Hecarim  Seraphine    Gragas   \n",
       "3   11.5     Lucian  Seraphine  Renekton  Hecarim       Jinx      Udyr   \n",
       "4   11.5       Gnar     Lucian      Udyr     Sion    Nidalee  Renekton   \n",
       "\n",
       "  Blue_Pick1       Red_Pick1-2     Blue_Pick2-3  ... Blue_Position1  \\\n",
       "0       Udyr    Lillia, Kai'Sa  Alistar, Samira  ...         Jungle   \n",
       "1    Hecarim        Gnar, Olaf       Jayce, Zoe  ...         Jungle   \n",
       "2       Udyr  Lillia, Tristana     Ezreal, Gnar  ...         Jungle   \n",
       "3     Lillia     Nidalee, Sion     Gnar, Viktor  ...         Jungle   \n",
       "4    Hecarim  Seraphine, Senna  Orianna, Gragas  ...         Jungle   \n",
       "\n",
       "  Blue_Position2 Blue_Position3 Blue_Position4 Blue_Position5 Red_Position1  \\\n",
       "0        Support            Bot            Mid            Top        Jungle   \n",
       "1            Top            Mid            Bot        Support           Top   \n",
       "2            Bot            Top            Mid        Support        Jungle   \n",
       "3            Top            Mid            Bot        Support        Jungle   \n",
       "4            Mid            Top            Bot        Support           Mid   \n",
       "\n",
       "  Red_Position2 Red_Position3 Red_Position4 Red_Position5  \n",
       "0           Bot           Top       Support           Mid  \n",
       "1        Jungle           Bot           Mid       Support  \n",
       "2           Bot           Top           Mid       Support  \n",
       "3           Top           Bot       Support           Mid  \n",
       "4           Bot       Support        Jungle           Top  \n",
       "\n",
       "[5 rows x 28 columns]"
      ]
     },
     "execution_count": 124,
     "metadata": {},
     "output_type": "execute_result"
    }
   ],
   "source": [
    "ban_pick_df.columns = tmp_columns\n",
    "ban_pick_df.head()"
   ]
  },
  {
   "cell_type": "code",
   "execution_count": 125,
   "metadata": {
    "ExecuteTime": {
     "end_time": "2021-04-22T18:35:56.306198Z",
     "start_time": "2021-04-22T18:35:56.294170Z"
    }
   },
   "outputs": [],
   "source": [
    "red12 = ban_pick_df['Red_Pick1-2'].str.split(',',expand=True)\n",
    "blue23 = ban_pick_df['Blue_Pick2-3'].str.split(',',expand=True)\n",
    "blue45 = ban_pick_df['Blue_Pick4-5'].str.split(',',expand=True)"
   ]
  },
  {
   "cell_type": "code",
   "execution_count": 126,
   "metadata": {
    "ExecuteTime": {
     "end_time": "2021-04-22T18:35:56.780925Z",
     "start_time": "2021-04-22T18:35:56.751947Z"
    }
   },
   "outputs": [],
   "source": [
    "ban_pick_df.insert(8,'Red_Pick1',red12.iloc[:,0])\n",
    "ban_pick_df.insert(9,'Red_Pick2',red12.iloc[:,1])\n",
    "ban_pick_df.insert(10,'Blue_Pick2',blue23.iloc[:,0])\n",
    "ban_pick_df.insert(11,'Blue_Pick3',blue23.iloc[:,1])\n",
    "ban_pick_df.insert(16,'Blue_Pick4',blue45.iloc[:,0])\n",
    "ban_pick_df.insert(17,'Blue_Pick5',blue45.iloc[:,1])"
   ]
  },
  {
   "cell_type": "code",
   "execution_count": 127,
   "metadata": {
    "ExecuteTime": {
     "end_time": "2021-04-22T18:35:57.256063Z",
     "start_time": "2021-04-22T18:35:57.238074Z"
    }
   },
   "outputs": [],
   "source": [
    "ban_pick_df.drop(['Red_Pick1-2','Blue_Pick2-3','Blue_Pick4-5'],axis=1,inplace=True)"
   ]
  },
  {
   "cell_type": "code",
   "execution_count": 199,
   "metadata": {
    "ExecuteTime": {
     "end_time": "2021-04-22T19:21:44.933040Z",
     "start_time": "2021-04-22T19:21:44.924063Z"
    }
   },
   "outputs": [],
   "source": [
    "def select_cols(str_contain,df,with_patch=True,sel_type='contains'):\n",
    "    if sel_type == 'contains':\n",
    "        to_contain = df.columns.str.contains(str_contain)\n",
    "    \n",
    "    elif sel_type == 'start':\n",
    "        to_contain = df.columns.str.startswith(str_contain)\n",
    "    \n",
    "    elif sel_type == 'end':\n",
    "        to_contain = df.columns.str.endswith(str_contain)\n",
    "    \n",
    "    cols_list = df.columns[to_contain].values.tolist()\n",
    "    \n",
    "    if with_patch == True:\n",
    "        cols_list.append('Patch')\n",
    "        return cols_list\n",
    "    \n",
    "    else:\n",
    "        return cols_list"
   ]
  },
  {
   "cell_type": "code",
   "execution_count": 200,
   "metadata": {
    "ExecuteTime": {
     "end_time": "2021-04-22T19:21:46.495264Z",
     "start_time": "2021-04-22T19:21:46.479307Z"
    }
   },
   "outputs": [],
   "source": [
    "position_df = ban_pick_df.loc[:,select_cols('Position',ban_pick_df)]\n",
    "ban_df = ban_pick_df.loc[:,select_cols('Ban',ban_pick_df)]\n",
    "pick_df = ban_pick_df.loc[:,select_cols('Pick',ban_pick_df)]"
   ]
  },
  {
   "cell_type": "markdown",
   "metadata": {},
   "source": [
    "# Position"
   ]
  },
  {
   "cell_type": "code",
   "execution_count": 217,
   "metadata": {
    "ExecuteTime": {
     "end_time": "2021-04-22T19:33:11.535941Z",
     "start_time": "2021-04-22T19:33:11.374600Z"
    }
   },
   "outputs": [
    {
     "name": "stdout",
     "output_type": "stream",
     "text": [
      "왼쪽이 블루, 오른쪽이 레드\n"
     ]
    },
    {
     "data": {
      "image/jpeg": "[encoded data removed]",
      "text/plain": [
       "<IPython.core.display.Image object>"
      ]
     },
     "execution_count": 217,
     "metadata": {},
     "output_type": "execute_result"
    }
   ],
   "source": [
    "from IPython.display import Image\n",
    "print('왼쪽이 블루, 오른쪽이 레드')\n",
    "Image('https://upcle.me/wp-content/uploads/2020/06/5.jpeg')"
   ]
  },
  {
   "cell_type": "code",
   "execution_count": 201,
   "metadata": {
    "ExecuteTime": {
     "end_time": "2021-04-22T19:21:48.922715Z",
     "start_time": "2021-04-22T19:21:48.898727Z"
    }
   },
   "outputs": [],
   "source": [
    "blue_df = position_df[select_cols('Blue',position_df)].assign(side='Blue')\n",
    "blue_df.columns = ['Position'+str(k) for k in range(1,6)] + ['Patch','side']\n",
    "\n",
    "red_df = position_df[select_cols('Red',position_df)].assign(side='Red')\n",
    "red_df.columns  = ['Position'+str(k) for k in range(1,6)] + ['Patch','side']"
   ]
  },
  {
   "cell_type": "code",
   "execution_count": 202,
   "metadata": {
    "ExecuteTime": {
     "end_time": "2021-04-22T19:21:50.234728Z",
     "start_time": "2021-04-22T19:21:50.200853Z"
    }
   },
   "outputs": [
    {
     "data": {
      "text/html": [
       "<div>\n",
       "<style scoped>\n",
       "    .dataframe tbody tr th:only-of-type {\n",
       "        vertical-align: middle;\n",
       "    }\n",
       "\n",
       "    .dataframe tbody tr th {\n",
       "        vertical-align: top;\n",
       "    }\n",
       "\n",
       "    .dataframe thead th {\n",
       "        text-align: right;\n",
       "    }\n",
       "</style>\n",
       "<table border=\"1\" class=\"dataframe\">\n",
       "  <thead>\n",
       "    <tr style=\"text-align: right;\">\n",
       "      <th></th>\n",
       "      <th>Position1</th>\n",
       "      <th>Position2</th>\n",
       "      <th>Position3</th>\n",
       "      <th>Position4</th>\n",
       "      <th>Position5</th>\n",
       "      <th>Patch</th>\n",
       "      <th>side</th>\n",
       "    </tr>\n",
       "  </thead>\n",
       "  <tbody>\n",
       "    <tr>\n",
       "      <th>0</th>\n",
       "      <td>Jungle</td>\n",
       "      <td>Support</td>\n",
       "      <td>Bot</td>\n",
       "      <td>Mid</td>\n",
       "      <td>Top</td>\n",
       "      <td>11.5</td>\n",
       "      <td>Blue</td>\n",
       "    </tr>\n",
       "    <tr>\n",
       "      <th>1</th>\n",
       "      <td>Jungle</td>\n",
       "      <td>Top</td>\n",
       "      <td>Mid</td>\n",
       "      <td>Bot</td>\n",
       "      <td>Support</td>\n",
       "      <td>11.5</td>\n",
       "      <td>Blue</td>\n",
       "    </tr>\n",
       "    <tr>\n",
       "      <th>2</th>\n",
       "      <td>Jungle</td>\n",
       "      <td>Bot</td>\n",
       "      <td>Top</td>\n",
       "      <td>Mid</td>\n",
       "      <td>Support</td>\n",
       "      <td>11.5</td>\n",
       "      <td>Blue</td>\n",
       "    </tr>\n",
       "    <tr>\n",
       "      <th>3</th>\n",
       "      <td>Jungle</td>\n",
       "      <td>Top</td>\n",
       "      <td>Mid</td>\n",
       "      <td>Bot</td>\n",
       "      <td>Support</td>\n",
       "      <td>11.5</td>\n",
       "      <td>Blue</td>\n",
       "    </tr>\n",
       "    <tr>\n",
       "      <th>4</th>\n",
       "      <td>Jungle</td>\n",
       "      <td>Mid</td>\n",
       "      <td>Top</td>\n",
       "      <td>Bot</td>\n",
       "      <td>Support</td>\n",
       "      <td>11.5</td>\n",
       "      <td>Blue</td>\n",
       "    </tr>\n",
       "    <tr>\n",
       "      <th>...</th>\n",
       "      <td>...</td>\n",
       "      <td>...</td>\n",
       "      <td>...</td>\n",
       "      <td>...</td>\n",
       "      <td>...</td>\n",
       "      <td>...</td>\n",
       "      <td>...</td>\n",
       "    </tr>\n",
       "    <tr>\n",
       "      <th>425</th>\n",
       "      <td>Jungle</td>\n",
       "      <td>Bot</td>\n",
       "      <td>Top</td>\n",
       "      <td>Support</td>\n",
       "      <td>Mid</td>\n",
       "      <td>11.1</td>\n",
       "      <td>Red</td>\n",
       "    </tr>\n",
       "    <tr>\n",
       "      <th>426</th>\n",
       "      <td>Jungle</td>\n",
       "      <td>Mid</td>\n",
       "      <td>Bot</td>\n",
       "      <td>Top</td>\n",
       "      <td>Support</td>\n",
       "      <td>11.1</td>\n",
       "      <td>Red</td>\n",
       "    </tr>\n",
       "    <tr>\n",
       "      <th>427</th>\n",
       "      <td>Bot</td>\n",
       "      <td>Jungle</td>\n",
       "      <td>Support</td>\n",
       "      <td>Mid</td>\n",
       "      <td>Top</td>\n",
       "      <td>11.1</td>\n",
       "      <td>Red</td>\n",
       "    </tr>\n",
       "    <tr>\n",
       "      <th>428</th>\n",
       "      <td>Bot</td>\n",
       "      <td>Jungle</td>\n",
       "      <td>Support</td>\n",
       "      <td>Mid</td>\n",
       "      <td>Top</td>\n",
       "      <td>11.1</td>\n",
       "      <td>Red</td>\n",
       "    </tr>\n",
       "    <tr>\n",
       "      <th>429</th>\n",
       "      <td>Support</td>\n",
       "      <td>Jungle</td>\n",
       "      <td>Bot</td>\n",
       "      <td>Top</td>\n",
       "      <td>Mid</td>\n",
       "      <td>11.1</td>\n",
       "      <td>Red</td>\n",
       "    </tr>\n",
       "  </tbody>\n",
       "</table>\n",
       "<p>430 rows × 7 columns</p>\n",
       "</div>"
      ],
      "text/plain": [
       "    Position1 Position2 Position3 Position4 Position5  Patch  side\n",
       "0      Jungle   Support       Bot       Mid       Top   11.5  Blue\n",
       "1      Jungle       Top       Mid       Bot   Support   11.5  Blue\n",
       "2      Jungle       Bot       Top       Mid   Support   11.5  Blue\n",
       "3      Jungle       Top       Mid       Bot   Support   11.5  Blue\n",
       "4      Jungle       Mid       Top       Bot   Support   11.5  Blue\n",
       "..        ...       ...       ...       ...       ...    ...   ...\n",
       "425    Jungle       Bot       Top   Support       Mid   11.1   Red\n",
       "426    Jungle       Mid       Bot       Top   Support   11.1   Red\n",
       "427       Bot    Jungle   Support       Mid       Top   11.1   Red\n",
       "428       Bot    Jungle   Support       Mid       Top   11.1   Red\n",
       "429   Support    Jungle       Bot       Top       Mid   11.1   Red\n",
       "\n",
       "[430 rows x 7 columns]"
      ]
     },
     "execution_count": 202,
     "metadata": {},
     "output_type": "execute_result"
    }
   ],
   "source": [
    "position_df2 = pd.concat([blue_df,red_df],ignore_index=True)\n",
    "position_df2"
   ]
  },
  {
   "cell_type": "code",
   "execution_count": 210,
   "metadata": {
    "ExecuteTime": {
     "end_time": "2021-04-22T19:23:37.656981Z",
     "start_time": "2021-04-22T19:23:37.375545Z"
    }
   },
   "outputs": [
    {
     "name": "stderr",
     "output_type": "stream",
     "text": [
      "C:\\Users\\rsh15\\anaconda3\\envs\\simon_env\\lib\\site-packages\\seaborn\\_decorators.py:36: FutureWarning: Pass the following variable as a keyword arg: x. From version 0.12, the only valid positional argument will be `data`, and passing other arguments without an explicit keyword will result in an error or misinterpretation.\n",
      "  warnings.warn(\n"
     ]
    },
    {
     "data": {
      "text/plain": [
       "<AxesSubplot:xlabel='Position1', ylabel='count'>"
      ]
     },
     "execution_count": 210,
     "metadata": {},
     "output_type": "execute_result"
    },
    {
     "data": {
      "image/png": "[encoded data removed]",
      "text/plain": [
       "<Figure size 432x288 with 1 Axes>"
      ]
     },
     "metadata": {
      "needs_background": "light"
     },
     "output_type": "display_data"
    }
   ],
   "source": [
    "pos_cols = select_cols('Position',position_df2,'start')\n",
    "sns.countplot(position_df2['Position1'])\n",
    "# 레드블루 사이드 가리지 않고, 정글을 가장 많이 뽑았음. 그 다음은 원딜이 가장 많다. \n",
    "# 세번째는 서폿이고, 나머지 탑미드는 비슷한 빈도."
   ]
  },
  {
   "cell_type": "code",
   "execution_count": 213,
   "metadata": {
    "ExecuteTime": {
     "end_time": "2021-04-22T19:25:32.751707Z",
     "start_time": "2021-04-22T19:25:32.462164Z"
    }
   },
   "outputs": [
    {
     "data": {
      "text/plain": [
       "<AxesSubplot:xlabel='Position1', ylabel='count'>"
      ]
     },
     "execution_count": 213,
     "metadata": {},
     "output_type": "execute_result"
    },
    {
     "data": {
      "image/png": "[encoded data removed]",
      "text/plain": [
       "<Figure size 432x288 with 1 Axes>"
      ]
     },
     "metadata": {
      "needs_background": "light"
     },
     "output_type": "display_data"
    }
   ],
   "source": [
    "sns.countplot(x='Position1',hue='side',data=position_df2)\n",
    "# 블루팀이 가장 먼저 픽을 함. 블루 팀에서 1픽으로 가장 많이 뽑은게 정글."
   ]
  },
  {
   "cell_type": "code",
   "execution_count": 221,
   "metadata": {
    "ExecuteTime": {
     "end_time": "2021-04-22T19:48:20.627159Z",
     "start_time": "2021-04-22T19:48:20.603190Z"
    }
   },
   "outputs": [
    {
     "data": {
      "text/plain": [
       "[0      Support\n",
       " 1          Top\n",
       " 2          Bot\n",
       " 3          Top\n",
       " 4          Mid\n",
       "         ...   \n",
       " 210        Top\n",
       " 211        Bot\n",
       " 212        Bot\n",
       " 213        Bot\n",
       " 214        Top\n",
       " Name: Position2, Length: 215, dtype: object,\n",
       " 0          Bot\n",
       " 1          Mid\n",
       " 2          Top\n",
       " 3          Mid\n",
       " 4          Top\n",
       "         ...   \n",
       " 210        Bot\n",
       " 211        Top\n",
       " 212    Support\n",
       " 213    Support\n",
       " 214        Bot\n",
       " Name: Position3, Length: 215, dtype: object]"
      ]
     },
     "execution_count": 221,
     "metadata": {},
     "output_type": "execute_result"
    }
   ],
   "source": [
    "# 연달아서 뽑는 픽은 뭘 많이 뽑았나?\n",
    "# \n",
    "for k in position_df2"
   ]
  },
  {
   "cell_type": "code",
   "execution_count": null,
   "metadata": {},
   "outputs": [],
   "source": []
  }
 ],
 "metadata": {
  "kernelspec": {
   "display_name": "simon_env",
   "language": "python",
   "name": "simon_env"
  },
  "language_info": {
   "codemirror_mode": {
    "name": "ipython",
    "version": 3
   },
   "file_extension": ".py",
   "mimetype": "text/x-python",
   "name": "python",
   "nbconvert_exporter": "python",
   "pygments_lexer": "ipython3",
   "version": "3.8.8"
  },
  "toc": {
   "base_numbering": 1,
   "nav_menu": {},
   "number_sections": true,
   "sideBar": true,
   "skip_h1_title": false,
   "title_cell": "Table of Contents",
   "title_sidebar": "Contents",
   "toc_cell": false,
   "toc_position": {
    "height": "calc(100% - 180px)",
    "left": "10px",
    "top": "150px",
    "width": "379.398px"
   },
   "toc_section_display": true,
   "toc_window_display": true
  },
  "varInspector": {
   "cols": {
    "lenName": 16,
    "lenType": 16,
    "lenVar": 40
   },
   "kernels_config": {
    "python": {
     "delete_cmd_postfix": "",
     "delete_cmd_prefix": "del ",
     "library": "var_list.py",
     "varRefreshCmd": "print(var_dic_list())"
    },
    "r": {
     "delete_cmd_postfix": ") ",
     "delete_cmd_prefix": "rm(",
     "library": "var_list.r",
     "varRefreshCmd": "cat(var_dic_list()) "
    }
   },
   "types_to_exclude": [
    "module",
    "function",
    "builtin_function_or_method",
    "instance",
    "_Feature"
   ],
   "window_display": false
  }
 },
 "nbformat": 4,
 "nbformat_minor": 4
}
