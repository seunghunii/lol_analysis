{
 "cells": [
  {
   "cell_type": "code",
   "execution_count": 13,
   "metadata": {
    "ExecuteTime": {
     "end_time": "2021-05-04T09:21:52.485498Z",
     "start_time": "2021-05-04T09:21:52.205004Z"
    }
   },
   "outputs": [],
   "source": [
    "import pandas as pd\n",
    "from bs4 import BeautifulSoup as bs\n",
    "import matplotlib as mpl\n",
    "import requests"
   ]
  },
  {
   "cell_type": "code",
   "execution_count": 10,
   "metadata": {
    "ExecuteTime": {
     "end_time": "2021-05-04T09:21:44.842026Z",
     "start_time": "2021-05-04T09:21:44.819088Z"
    }
   },
   "outputs": [],
   "source": [
    "import warnings\n",
    "warnings.filterwarnings(action='ignore')\n",
    "\n",
    "from IPython.core.interactiveshell import InteractiveShell\n",
    "InteractiveShell.ast_node_interactivity = \"all\"\n",
    "\n",
    "mpl.rcParams['font.family'] = \"Malgun Gothic\""
   ]
  },
  {
   "cell_type": "code",
   "execution_count": 11,
   "metadata": {
    "ExecuteTime": {
     "end_time": "2021-05-04T09:21:45.510975Z",
     "start_time": "2021-05-04T09:21:45.503023Z"
    }
   },
   "outputs": [],
   "source": [
    "urls = 'https://lol.fandom.com/wiki/LCK/2021_Season/Spring_Season/Match_History'"
   ]
  },
  {
   "cell_type": "code",
   "execution_count": 14,
   "metadata": {
    "ExecuteTime": {
     "end_time": "2021-05-04T09:21:56.498689Z",
     "start_time": "2021-05-04T09:21:54.353634Z"
    }
   },
   "outputs": [],
   "source": [
    "html = requests.get(urls).text\n",
    "soup = bs(html,'html.parser')"
   ]
  },
  {
   "cell_type": "code",
   "execution_count": 17,
   "metadata": {
    "ExecuteTime": {
     "end_time": "2021-05-04T09:24:44.971162Z",
     "start_time": "2021-05-04T09:24:44.682667Z"
    }
   },
   "outputs": [],
   "source": [
    "tmp_parsed = soup.find_all('a',{'target':'_blank'})"
   ]
  },
  {
   "cell_type": "code",
   "execution_count": 18,
   "metadata": {
    "ExecuteTime": {
     "end_time": "2021-05-04T09:24:54.309181Z",
     "start_time": "2021-05-04T09:24:54.286068Z"
    }
   },
   "outputs": [
    {
     "data": {
      "text/plain": [
       "[<a class=\"external text\" href=\"https://www.douyu.com/705690\" rel=\"nofollow noreferrer noopener\" target=\"_blank\"><span class=\"countdown\" data-end=\"toggle\" data-options=\"no-leading-zeros\" data-toggle=\".post-countdownts-1\" style=\"display:none\"><span class=\"countdowndate\">4 May 2021 06:00:00 +0000</span></span><span class=\"post-countdownts-1\" style=\"display:none\">LIVE</span></a>,\n",
       " <a class=\"text\" href=\"https://lol.fandom.com/Special:RunQuery/SpoilerFreeSchedule?SFS%5B1%5D=LDL/2021%20Season/Spring%20Season&amp;pfRunQueryFormName=SpoilerFreeSchedule\" rel=\"noreferrer noopener\" target=\"_blank\"><span class=\"calendar-icon\"></span></a>,\n",
       " <a class=\"external text\" href=\"https://www.douyu.com/4585535\" rel=\"nofollow noreferrer noopener\" target=\"_blank\"><span class=\"countdown\" data-end=\"toggle\" data-options=\"no-leading-zeros\" data-toggle=\".post-countdownts-2\" style=\"display:none\"><span class=\"countdowndate\">4 May 2021 06:00:00 +0000</span></span><span class=\"post-countdownts-2\" style=\"display:none\">LIVE</span></a>,\n",
       " <a class=\"text\" href=\"https://lol.fandom.com/Special:RunQuery/SpoilerFreeSchedule?SFS%5B1%5D=LDL/2021%20Season/Spring%20Season&amp;pfRunQueryFormName=SpoilerFreeSchedule\" rel=\"noreferrer noopener\" target=\"_blank\"><span class=\"calendar-icon\"></span></a>,\n",
       " <a class=\"external text\" href=\"https://www.douyu.com/705690\" rel=\"nofollow noreferrer noopener\" target=\"_blank\"><span class=\"countdown\" data-end=\"toggle\" data-options=\"no-leading-zeros\" data-toggle=\".post-countdownts-3\" style=\"display:none\"><span class=\"countdowndate\">4 May 2021 08:00:00 +0000</span></span><span class=\"post-countdownts-3\" style=\"display:none\">LIVE</span></a>]"
      ]
     },
     "execution_count": 18,
     "metadata": {},
     "output_type": "execute_result"
    }
   ],
   "source": [
    "tmp_parsed[0:5]"
   ]
  },
  {
   "cell_type": "code",
   "execution_count": null,
   "metadata": {},
   "outputs": [],
   "source": []
  }
 ],
 "metadata": {
  "kernelspec": {
   "display_name": "Python 3",
   "language": "python",
   "name": "python3"
  },
  "language_info": {
   "codemirror_mode": {
    "name": "ipython",
    "version": 3
   },
   "file_extension": ".py",
   "mimetype": "text/x-python",
   "name": "python",
   "nbconvert_exporter": "python",
   "pygments_lexer": "ipython3",
   "version": "3.8.8"
  },
  "toc": {
   "base_numbering": 1,
   "nav_menu": {},
   "number_sections": true,
   "sideBar": true,
   "skip_h1_title": false,
   "title_cell": "Table of Contents",
   "title_sidebar": "Contents",
   "toc_cell": false,
   "toc_position": {},
   "toc_section_display": true,
   "toc_window_display": false
  },
  "varInspector": {
   "cols": {
    "lenName": 16,
    "lenType": 16,
    "lenVar": 40
   },
   "kernels_config": {
    "python": {
     "delete_cmd_postfix": "",
     "delete_cmd_prefix": "del ",
     "library": "var_list.py",
     "varRefreshCmd": "print(var_dic_list())"
    },
    "r": {
     "delete_cmd_postfix": ") ",
     "delete_cmd_prefix": "rm(",
     "library": "var_list.r",
     "varRefreshCmd": "cat(var_dic_list()) "
    }
   },
   "types_to_exclude": [
    "module",
    "function",
    "builtin_function_or_method",
    "instance",
    "_Feature"
   ],
   "window_display": false
  }
 },
 "nbformat": 4,
 "nbformat_minor": 4
}
